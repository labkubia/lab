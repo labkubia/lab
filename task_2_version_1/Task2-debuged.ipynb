{
 "cells": [
  {
   "cell_type": "code",
   "execution_count": 1,
   "metadata": {},
   "outputs": [
    {
     "data": {
      "text/html": [
       "<script>requirejs.config({paths: { 'plotly': ['https://cdn.plot.ly/plotly-latest.min']},});if(!window.Plotly) {{require(['plotly'],function(plotly) {window.Plotly=plotly;});}}</script>"
      ],
      "text/vnd.plotly.v1+html": [
       "<script>requirejs.config({paths: { 'plotly': ['https://cdn.plot.ly/plotly-latest.min']},});if(!window.Plotly) {{require(['plotly'],function(plotly) {window.Plotly=plotly;});}}</script>"
      ]
     },
     "metadata": {},
     "output_type": "display_data"
    }
   ],
   "source": [
    "import os\n",
    "from os.path import isdir, join\n",
    "import csv\n",
    "\n",
    "from pathlib import Path\n",
    "import pandas as pd\n",
    "import time\n",
    "#loadmat\n",
    "from scipy.io import loadmat,savemat\n",
    "\n",
    "# Math\n",
    "#import numpy as np\n",
    "import numpy as np \n",
    "np.set_printoptions(suppress=False) \n",
    "from scipy.fftpack import fft, dct\n",
    "from scipy import signal\n",
    "from scipy.stats import norm,multivariate_normal\n",
    "from scipy.io import wavfile\n",
    "import soundfile as sf\n",
    "import audioread\n",
    "import librosa\n",
    "\n",
    "from sklearn.decomposition import PCA\n",
    "\n",
    "# Visualization\n",
    "import matplotlib.pyplot as plt\n",
    "import seaborn as sns\n",
    "import IPython.display as ipd\n",
    "import librosa.display\n",
    "\n",
    "import plotly.offline as py\n",
    "py.init_notebook_mode(connected=True)\n",
    "import plotly.graph_objs as go\n",
    "import plotly.tools as tls\n",
    "import pandas as pd\n",
    "\n",
    "#math\n",
    "import math\n",
    "\n",
    "%matplotlib inline"
   ]
  },
  {
   "cell_type": "markdown",
   "metadata": {},
   "source": [
    "# Frame the problem"
   ]
  },
  {
   "cell_type": "markdown",
   "metadata": {},
   "source": [
    "this is a simple multi-class recognition problem for recognizing the speaker"
   ]
  },
  {
   "cell_type": "markdown",
   "metadata": {},
   "source": [
    "# 1. Import data"
   ]
  },
  {
   "cell_type": "code",
   "execution_count": 2,
   "metadata": {
    "collapsed": true
   },
   "outputs": [],
   "source": [
    "#audio_path = \"D:\\\\LAB\\\\workspace\\\\lab\\\\patRecDat\\\\forStudents\\\\timit\\\\test\"\n",
    "audio_path = \"/Users/Mata/Documents/2017/学习/ws2017:18/PUL/forStudents/timit/test\""
   ]
  },
  {
   "cell_type": "markdown",
   "metadata": {},
   "source": [
    "we import all the data in the test file and stored them into the dictionary, each 'name' as keys in dictionary has length 10 list as value items, each of them is the samples read from wav files"
   ]
  },
  {
   "cell_type": "code",
   "execution_count": 3,
   "metadata": {
    "collapsed": true
   },
   "outputs": [],
   "source": [
    "def load_data(audio_train_path):\n",
    "    Name_set={}\n",
    "    test_set=[]\n",
    "    count =0\n",
    "    for area in os.listdir(audio_train_path):#os.listdit: to show the files in this path\n",
    "        #for name in os.listdir(audio_train_path+'\\\\'+area+\"\\\\\"):\n",
    "        if (area=='.DS_Store'):\n",
    "            continue\n",
    "        else:\n",
    "            for name in os.listdir(audio_train_path+'/'+area+\"/\"):\n",
    "                if (name =='.DS_Store'):\n",
    "                    continue\n",
    "                else:\n",
    "                    Name_set.setdefault(name)  #add new key to the dict\n",
    "                    sample_set=[]\n",
    "                    #print (name)\n",
    "                    #count +=1\n",
    "                    #print (count)\n",
    "                    #for files in os.listdir(audio_train_path+'\\\\'+area+'\\\\'+name+'\\\\'):\n",
    "                    for files in os.listdir(audio_train_path+'/'+area+'/'+name+'/'):\n",
    "                        #_,samples=wavfile.read(audio_train_path+'\\\\'+area+'\\\\'+name+'\\\\'+files)#read the wavfile , return sample_rate ,and samples\n",
    "                        samples,_=sf.read(audio_train_path+'/'+area+'/'+name+'/'+files)\n",
    "                        sample_set.append(samples)\n",
    "                        Name_set[name]=sample_set\n",
    "    return Name_set"
   ]
  },
  {
   "cell_type": "code",
   "execution_count": 4,
   "metadata": {
    "collapsed": true
   },
   "outputs": [],
   "source": [
    "dataset=load_data(audio_path)"
   ]
  },
  {
   "cell_type": "code",
   "execution_count": 5,
   "metadata": {},
   "outputs": [
    {
     "data": {
      "text/plain": [
       "dict_keys(['mgmm0', 'mtls0', 'fnmr0', 'frng0', 'mplb0', 'flkd0', 'frew0', 'mjrf0', 'fcrh0', 'mlll0', 'fadg0', 'mkcl0', 'fjmg0', 'mteb0', 'fmcm0', 'mdls0', 'mdrm0', 'fdms0', 'fedw0', 'fgjd0', 'mljb0', 'mroa0', 'fjlm0', 'flbw0', 'mpwm0', 'fcft0', 'mbns0', 'mrko0', 'fsem0', 'mpcs0', 'mjdm1', 'fmaf0', 'fslb1', 'mrcz0', 'mtmr0', 'mwvw0', 'mdld0', 'fdrd1', 'fjwb0', 'mtas1', 'fjas0', 'mgwt0', 'mjar0', 'fpas0', 'mcem0', 'fcmr0', 'mpgl0', 'mmdm2', 'mmdb1', 'mccs0', 'mrgg0', 'mdbb0', 'mabw0', 'mwew0', 'mpdf0', 'mbjk0', 'fram1', 'fjre0', 'fnlp0', 'mdrb0', 'mcrc0', 'mctt0', 'fjsa0', 'fawf0', 'mrrk0', 'mrjm3', 'fasw0', 'fmah0', 'mklt0', 'mcmb0', 'mahh0', 'mdac2', 'fhes0', 'mrws1', 'mfgk0', 'fcal1', 'fgmd0', 'msfh1', 'mdwa0', 'fjcs0', 'mbpm0', 'mdwk0', 'mlih0', 'fhew0', 'mrpp0', 'futb0', 'mjvw0', 'mjmp0', 'mkch0', 'mcsh0', 'mctw0', 'mjbr0', 'fcmh0', 'mglb0', 'mmjr0', 'mmab0', 'mmwh0', 'mbdg0', 'mtaa0', 'mmdh0', 'mbwm0', 'mjes0', 'mhpg0', 'mgjf0', 'mwjg0', 'mrtk0', 'mthc0', 'mjjg0', 'fpkt0', 'fkms0', 'mlnt0', 'mtdt0', 'mers0', 'mrms1', 'mrcs0', 'fgwr0', 'mkjl0', 'mrpc0', 'mchh0', 'mtwh0', 'fmml0', 'fcau0', 'mrjm4', 'mpab0', 'mkdr0', 'flas0', 'fdhc0', 'mgrt0', 'fisb0', 'fsxa0', 'mnls0', 'mdlf0', 'ftlh0', 'mdvc0', 'mnjm0', 'mjfc0', 'mdsc0', 'mrjs0', 'flnh0', 'mjdh0', 'mesd0', 'mcmj0', 'fmgd0', 'fdrw0', 'mrjr0', 'mpam1', 'mrjo0', 'faks0', 'msjs1', 'mwbt0', 'mreb0', 'felc0', 'fdac1', 'mjsw0', 'fjem0', 'mdab0', 'mstk0', 'mjtc0', 'fmld0', 'fcmh1', 'mjln0', 'mres0', 'fjsj0', 'mdaw1', 'mslb0', 'mjth0', 'majc0', 'mpam0'])"
      ]
     },
     "execution_count": 5,
     "metadata": {},
     "output_type": "execute_result"
    }
   ],
   "source": [
    "dataset.keys()"
   ]
  },
  {
   "cell_type": "code",
   "execution_count": 6,
   "metadata": {},
   "outputs": [
    {
     "data": {
      "text/plain": [
       "[array([  9.15527344e-05,   6.10351562e-05,   1.22070312e-04, ...,\n",
       "         -3.05175781e-05,  -9.15527344e-05,   9.15527344e-05]),\n",
       " array([  0.00000000e+00,   1.22070312e-04,   6.10351562e-05, ...,\n",
       "          9.15527344e-05,   1.52587891e-04,   1.22070312e-04]),\n",
       " array([  1.83105469e-04,   2.74658203e-04,   3.35693359e-04, ...,\n",
       "          3.05175781e-05,   0.00000000e+00,  -3.05175781e-05]),\n",
       " array([  6.10351562e-05,   1.83105469e-04,   9.15527344e-05, ...,\n",
       "         -3.05175781e-05,   1.83105469e-04,  -6.10351562e-05]),\n",
       " array([  9.15527344e-05,   1.52587891e-04,   6.10351562e-05, ...,\n",
       "          2.44140625e-04,   3.05175781e-04,   2.13623047e-04]),\n",
       " array([  1.52587891e-04,  -1.52587891e-04,  -3.05175781e-05, ...,\n",
       "         -3.05175781e-05,  -1.83105469e-04,   2.13623047e-04]),\n",
       " array([  3.05175781e-05,   1.52587891e-04,   1.22070312e-04, ...,\n",
       "          1.83105469e-04,   0.00000000e+00,   1.52587891e-04]),\n",
       " array([  0.00000000e+00,   1.83105469e-04,   2.44140625e-04, ...,\n",
       "          1.52587891e-04,   1.83105469e-04,  -3.05175781e-05]),\n",
       " array([ -3.05175781e-05,   1.22070312e-04,   1.22070312e-04, ...,\n",
       "          0.00000000e+00,  -1.22070312e-04,  -1.22070312e-04]),\n",
       " array([  3.05175781e-05,   1.52587891e-04,   1.22070312e-04, ...,\n",
       "          6.10351562e-05,   1.52587891e-04,   1.83105469e-04])]"
      ]
     },
     "execution_count": 6,
     "metadata": {},
     "output_type": "execute_result"
    }
   ],
   "source": [
    "dataset.get('faks0','no such file')"
   ]
  },
  {
   "cell_type": "code",
   "execution_count": 7,
   "metadata": {
    "collapsed": true
   },
   "outputs": [],
   "source": [
    "#pick up one wav file and analysis\n",
    "samples=dataset.get('faks0','no such file')[0]\n",
    "#samples=np.concatenate(samples)\n",
    "#samples.shape"
   ]
  },
  {
   "cell_type": "code",
   "execution_count": 8,
   "metadata": {},
   "outputs": [
    {
     "data": {
      "text/plain": [
       "(56628,)"
      ]
     },
     "execution_count": 8,
     "metadata": {},
     "output_type": "execute_result"
    }
   ],
   "source": [
    "samples.shape"
   ]
  },
  {
   "cell_type": "code",
   "execution_count": 9,
   "metadata": {
    "collapsed": true
   },
   "outputs": [],
   "source": [
    "#we can acquire the number 16000 from the wav file\n",
    "sample_rate=16000"
   ]
  },
  {
   "cell_type": "code",
   "execution_count": 10,
   "metadata": {
    "collapsed": true
   },
   "outputs": [],
   "source": [
    "#the wav time length\n",
    "ms=1000*len(samples)/sample_rate"
   ]
  },
  {
   "cell_type": "code",
   "execution_count": 11,
   "metadata": {},
   "outputs": [
    {
     "data": {
      "text/plain": [
       "array([  9.15527344e-05,   6.10351562e-05,   1.22070312e-04, ...,\n",
       "        -3.05175781e-05,  -9.15527344e-05,   9.15527344e-05])"
      ]
     },
     "execution_count": 11,
     "metadata": {},
     "output_type": "execute_result"
    }
   ],
   "source": [
    "samples"
   ]
  },
  {
   "cell_type": "markdown",
   "metadata": {},
   "source": [
    "output the voice"
   ]
  },
  {
   "cell_type": "code",
   "execution_count": 12,
   "metadata": {},
   "outputs": [
    {
     "ename": "ValueError",
     "evalue": "could not convert string to float: 'D:\\\\LAB\\\\workspace\\\\lab\\\\patRecDat\\\\forStudents\\\\timit\\\\test\\\\dr7\\\\fcau0\\\\sa1.wav'",
     "output_type": "error",
     "traceback": [
      "\u001b[0;31m---------------------------------------------------------------------------\u001b[0m",
      "\u001b[0;31mValueError\u001b[0m                                Traceback (most recent call last)",
      "\u001b[0;32m<ipython-input-12-08870bf98ec2>\u001b[0m in \u001b[0;36m<module>\u001b[0;34m()\u001b[0m\n\u001b[1;32m      1\u001b[0m \u001b[0;31m#ipd.Audio(\"/Users/Mata/Documents/2017/学习/ws2017:18/PUL/forStudents/timit/test/dr7/fcau0/sa1.wav\")\u001b[0m\u001b[0;34m\u001b[0m\u001b[0;34m\u001b[0m\u001b[0m\n\u001b[0;32m----> 2\u001b[0;31m \u001b[0mipd\u001b[0m\u001b[0;34m.\u001b[0m\u001b[0mAudio\u001b[0m\u001b[0;34m(\u001b[0m\u001b[0;34m\"D:\\\\LAB\\\\workspace\\\\lab\\\\patRecDat\\\\forStudents\\\\timit\\\\test\\\\dr7\\\\fcau0\\\\sa1.wav\"\u001b[0m\u001b[0;34m)\u001b[0m\u001b[0;34m\u001b[0m\u001b[0m\n\u001b[0m",
      "\u001b[0;32m~/anaconda3/lib/python3.6/site-packages/IPython/lib/display.py\u001b[0m in \u001b[0;36m__init__\u001b[0;34m(self, data, filename, url, embed, rate, autoplay)\u001b[0m\n\u001b[1;32m     97\u001b[0m \u001b[0;34m\u001b[0m\u001b[0m\n\u001b[1;32m     98\u001b[0m         \u001b[0;32mif\u001b[0m \u001b[0mself\u001b[0m\u001b[0;34m.\u001b[0m\u001b[0mdata\u001b[0m \u001b[0;32mis\u001b[0m \u001b[0;32mnot\u001b[0m \u001b[0;32mNone\u001b[0m \u001b[0;32mand\u001b[0m \u001b[0;32mnot\u001b[0m \u001b[0misinstance\u001b[0m\u001b[0;34m(\u001b[0m\u001b[0mself\u001b[0m\u001b[0;34m.\u001b[0m\u001b[0mdata\u001b[0m\u001b[0;34m,\u001b[0m \u001b[0mbytes\u001b[0m\u001b[0;34m)\u001b[0m\u001b[0;34m:\u001b[0m\u001b[0;34m\u001b[0m\u001b[0m\n\u001b[0;32m---> 99\u001b[0;31m             \u001b[0mself\u001b[0m\u001b[0;34m.\u001b[0m\u001b[0mdata\u001b[0m \u001b[0;34m=\u001b[0m \u001b[0mself\u001b[0m\u001b[0;34m.\u001b[0m\u001b[0m_make_wav\u001b[0m\u001b[0;34m(\u001b[0m\u001b[0mdata\u001b[0m\u001b[0;34m,\u001b[0m\u001b[0mrate\u001b[0m\u001b[0;34m)\u001b[0m\u001b[0;34m\u001b[0m\u001b[0m\n\u001b[0m\u001b[1;32m    100\u001b[0m \u001b[0;34m\u001b[0m\u001b[0m\n\u001b[1;32m    101\u001b[0m     \u001b[0;32mdef\u001b[0m \u001b[0mreload\u001b[0m\u001b[0;34m(\u001b[0m\u001b[0mself\u001b[0m\u001b[0;34m)\u001b[0m\u001b[0;34m:\u001b[0m\u001b[0;34m\u001b[0m\u001b[0m\n",
      "\u001b[0;32m~/anaconda3/lib/python3.6/site-packages/IPython/lib/display.py\u001b[0m in \u001b[0;36m_make_wav\u001b[0;34m(self, data, rate)\u001b[0m\n\u001b[1;32m    121\u001b[0m             \u001b[0;32mimport\u001b[0m \u001b[0mnumpy\u001b[0m \u001b[0;32mas\u001b[0m \u001b[0mnp\u001b[0m\u001b[0;34m\u001b[0m\u001b[0m\n\u001b[1;32m    122\u001b[0m \u001b[0;34m\u001b[0m\u001b[0m\n\u001b[0;32m--> 123\u001b[0;31m             \u001b[0mdata\u001b[0m \u001b[0;34m=\u001b[0m \u001b[0mnp\u001b[0m\u001b[0;34m.\u001b[0m\u001b[0marray\u001b[0m\u001b[0;34m(\u001b[0m\u001b[0mdata\u001b[0m\u001b[0;34m,\u001b[0m \u001b[0mdtype\u001b[0m\u001b[0;34m=\u001b[0m\u001b[0mfloat\u001b[0m\u001b[0;34m)\u001b[0m\u001b[0;34m\u001b[0m\u001b[0m\n\u001b[0m\u001b[1;32m    124\u001b[0m             \u001b[0;32mif\u001b[0m \u001b[0mlen\u001b[0m\u001b[0;34m(\u001b[0m\u001b[0mdata\u001b[0m\u001b[0;34m.\u001b[0m\u001b[0mshape\u001b[0m\u001b[0;34m)\u001b[0m \u001b[0;34m==\u001b[0m \u001b[0;36m1\u001b[0m\u001b[0;34m:\u001b[0m\u001b[0;34m\u001b[0m\u001b[0m\n\u001b[1;32m    125\u001b[0m                 \u001b[0mnchan\u001b[0m \u001b[0;34m=\u001b[0m \u001b[0;36m1\u001b[0m\u001b[0;34m\u001b[0m\u001b[0m\n",
      "\u001b[0;31mValueError\u001b[0m: could not convert string to float: 'D:\\\\LAB\\\\workspace\\\\lab\\\\patRecDat\\\\forStudents\\\\timit\\\\test\\\\dr7\\\\fcau0\\\\sa1.wav'"
     ]
    }
   ],
   "source": [
    "#ipd.Audio(\"/Users/Mata/Documents/2017/学习/ws2017:18/PUL/forStudents/timit/test/dr7/fcau0/sa1.wav\")\n",
    "ipd.Audio(\"D:\\\\LAB\\\\workspace\\\\lab\\\\patRecDat\\\\forStudents\\\\timit\\\\test\\\\dr7\\\\fcau0\\\\sa1.wav\")\n"
   ]
  },
  {
   "cell_type": "markdown",
   "metadata": {},
   "source": [
    "visualize the voice"
   ]
  },
  {
   "cell_type": "code",
   "execution_count": 13,
   "metadata": {},
   "outputs": [
    {
     "data": {
      "image/png": "[encoded data removed]",
      "text/plain": [
       "<matplotlib.figure.Figure at 0x103f28898>"
      ]
     },
     "metadata": {},
     "output_type": "display_data"
    }
   ],
   "source": [
    "plt.figure(figsize=(14,8))\n",
    "plt.plot(np.linspace(0,len(samples),len(samples)),samples) \n",
    "#np.linspace(): set up 3rd argument to sample_rate,otherwise default=50\n",
    "plt.title(\"Voice of sample\",fontsize=40)\n",
    "plt.xlabel(\"samples num\",fontsize=20)\n",
    "plt.ylabel(\"amplitude\",fontsize=20)\n",
    "plt.show()"
   ]
  },
  {
   "cell_type": "markdown",
   "metadata": {},
   "source": [
    "# 2. Frame segmentation"
   ]
  },
  {
   "cell_type": "markdown",
   "metadata": {},
   "source": [
    "**Reason of Frame**  : the samples can be divided into frames because that on short time scales the audio signal doesn't change much (when we say it doesn't change, we mean statistically i.e. statistically stationary, obviously the samples are constantly changing on even short time scales)."
   ]
  },
  {
   "cell_type": "markdown",
   "metadata": {},
   "source": [
    "if the frame size is too short, we can't get reliable spectral estimate, if too large, signal changed too much in one frame"
   ]
  },
  {
   "cell_type": "code",
   "execution_count": 291,
   "metadata": {},
   "outputs": [
    {
     "data": {
      "text/plain": [
       "320"
      ]
     },
     "execution_count": 291,
     "metadata": {},
     "output_type": "execute_result"
    }
   ],
   "source": [
    "t_feed=10 #feed time\n",
    "t_frame=20 #frame time\n",
    "fs=sample_rate/1000 #sample_rate of each ms 16\n",
    "L_value=np.int(fs*t_frame) #320\n",
    "L_value"
   ]
  },
  {
   "cell_type": "code",
   "execution_count": 292,
   "metadata": {
    "collapsed": true
   },
   "outputs": [],
   "source": [
    "def frame_segment(samples):\n",
    "    #frame_num = K \n",
    "    frame_num=np.int((len(samples)-L_value)/(fs*t_feed))+1 #calculate the number of frames\n",
    "    frame_set=[]\n",
    "    for k in range(frame_num):\n",
    "        frame_set.append(samples[k*np.int(fs*t_feed):k*np.int(fs*t_feed)+L_value])#[0,n] contains 0~n-1\n",
    "    return frame_set,frame_num"
   ]
  },
  {
   "cell_type": "code",
   "execution_count": 293,
   "metadata": {
    "collapsed": true
   },
   "outputs": [],
   "source": [
    "frame_set,frame_num=frame_segment(samples) # frame_set:frames*320"
   ]
  },
  {
   "cell_type": "code",
   "execution_count": 294,
   "metadata": {},
   "outputs": [
    {
     "data": {
      "text/plain": [
       "(395, 320)"
      ]
     },
     "execution_count": 294,
     "metadata": {},
     "output_type": "execute_result"
    }
   ],
   "source": [
    "np.array(frame_set).shape"
   ]
  },
  {
   "cell_type": "markdown",
   "metadata": {},
   "source": [
    "# 3. Voice activity detection"
   ]
  },
  {
   "cell_type": "code",
   "execution_count": 295,
   "metadata": {
    "collapsed": true
   },
   "outputs": [],
   "source": [
    "#combined function\n",
    "def voice_activity_detection(frame_set,frame_num,gamma=10):\n",
    "    #step1:figure out the noise signal power\n",
    "    mixed_power_set=[]\n",
    "    for k in range(frame_num):\n",
    "        mixed_power_set.append(1/(L_value)*np.sum((np.float64(frame_set[k]))**2))#use np.float64 to avoid overflow encountered in long scalars\n",
    "    #step2:The noise power\n",
    "    t_n=100\n",
    "    frame_drop=np.int((t_n/t_feed))\n",
    "    no_speech_set=mixed_power_set[:frame_drop-1]\n",
    "    noise_power_set=(1/frame_drop)*np.sum(no_speech_set)\n",
    "    #step3: detective\n",
    "    mixed_power_set=pd.Series(mixed_power_set)\n",
    "    frame_set=pd.Series(frame_set)\n",
    "    train_power_set=frame_set.loc[mixed_power_set>gamma*noise_power_set]\n",
    "    #train_frame_set=[]\n",
    "    #for index in train_power_set.index:\n",
    "        #train_frame_set.append(frame_set[index])\n",
    "    train_frame_set=np.array(list(train_power_set))\n",
    "    return train_frame_set"
   ]
  },
  {
   "cell_type": "code",
   "execution_count": 296,
   "metadata": {},
   "outputs": [
    {
     "data": {
      "text/plain": [
       "(350, 320)"
      ]
     },
     "execution_count": 296,
     "metadata": {},
     "output_type": "execute_result"
    }
   ],
   "source": [
    "train_frame_set=voice_activity_detection(frame_set,frame_num)\n",
    "train_frame_set.shape  # train_frame_set:frames*320"
   ]
  },
  {
   "cell_type": "code",
   "execution_count": 297,
   "metadata": {},
   "outputs": [
    {
     "data": {
      "text/plain": [
       "array([  1.52587891e-04,   3.05175781e-05,  -3.05175781e-05,\n",
       "         9.15527344e-05,  -3.05175781e-05,   2.74658203e-04,\n",
       "         2.13623047e-04,   0.00000000e+00,  -9.15527344e-05,\n",
       "         6.10351562e-05,   3.35693359e-04,  -1.52587891e-04,\n",
       "        -3.05175781e-05,   1.52587891e-04,  -3.05175781e-04,\n",
       "         6.10351562e-05,   3.05175781e-05,  -3.05175781e-05,\n",
       "         3.05175781e-04,   2.13623047e-04,   2.13623047e-04,\n",
       "         1.83105469e-04,   6.40869141e-04,   6.40869141e-04,\n",
       "        -3.66210938e-04,  -9.15527344e-05,  -1.52587891e-04,\n",
       "        -1.22070312e-04,   3.35693359e-04,   2.13623047e-04,\n",
       "        -1.83105469e-04,  -2.44140625e-04,   1.52587891e-04,\n",
       "         9.46044922e-04,   1.70898438e-03,   8.23974609e-04,\n",
       "        -1.09863281e-03,  -8.54492188e-04,   3.05175781e-04,\n",
       "        -1.83105469e-04,  -1.52587891e-03,  -1.37329102e-03,\n",
       "         3.05175781e-04,   1.03759766e-03,   2.74658203e-04,\n",
       "        -1.12915039e-03,  -7.32421875e-04,   1.52587891e-04,\n",
       "         3.05175781e-05,   4.27246094e-04,   7.32421875e-04,\n",
       "         3.96728516e-04,  -1.22070312e-04,   3.66210938e-04,\n",
       "        -3.05175781e-05,   3.66210938e-04,   5.18798828e-04,\n",
       "         1.22070312e-04,   3.66210938e-04,   2.74658203e-04,\n",
       "        -2.13623047e-04,  -2.13623047e-04,  -2.13623047e-04,\n",
       "         1.52587891e-04,  -1.22070312e-04,  -6.40869141e-04,\n",
       "        -3.05175781e-04,  -2.44140625e-04,  -3.05175781e-05,\n",
       "         5.18798828e-04,   3.05175781e-05,   2.74658203e-04,\n",
       "         3.66210938e-04,  -4.57763672e-04,   0.00000000e+00,\n",
       "         3.35693359e-04,   1.22070312e-04,   4.27246094e-04,\n",
       "         4.57763672e-04,  -3.05175781e-04,   1.52587891e-04,\n",
       "         5.18798828e-04,  -4.27246094e-04,  -8.54492188e-04,\n",
       "         1.83105469e-04,   8.85009766e-04,   3.66210938e-04,\n",
       "         5.79833984e-04,   3.66210938e-04,  -1.03759766e-03,\n",
       "         0.00000000e+00,   6.10351562e-04,  -7.93457031e-04,\n",
       "         2.13623047e-04,   5.18798828e-04,  -3.05175781e-04,\n",
       "         6.10351562e-05,   9.15527344e-05,  -2.13623047e-04,\n",
       "        -9.15527344e-05,   3.66210938e-04,   6.10351562e-05,\n",
       "        -1.52587891e-04,   6.71386719e-04,   5.79833984e-04,\n",
       "         2.13623047e-04,   2.44140625e-04,  -6.10351562e-05,\n",
       "        -3.66210938e-04,  -1.83105469e-04,   4.57763672e-04,\n",
       "         7.32421875e-04,   1.83105469e-04,  -1.83105469e-04,\n",
       "        -2.44140625e-04,  -1.22070312e-04,  -2.44140625e-04,\n",
       "         6.10351562e-05,  -4.27246094e-04,   3.05175781e-05,\n",
       "         3.05175781e-04,   2.13623047e-04,   3.05175781e-04,\n",
       "         3.05175781e-05,   3.05175781e-04,   1.83105469e-04,\n",
       "        -3.05175781e-04,   4.57763672e-04,  -1.52587891e-04,\n",
       "        -3.35693359e-04,   2.44140625e-04,   1.22070312e-04,\n",
       "        -3.66210938e-04,  -2.44140625e-04,   1.83105469e-04,\n",
       "        -3.96728516e-04,  -2.74658203e-04,   6.10351562e-05,\n",
       "         3.05175781e-04,   6.40869141e-04,   6.10351562e-04,\n",
       "         3.66210938e-04,  -3.96728516e-04,  -3.05175781e-04,\n",
       "         4.88281250e-04,  -4.88281250e-04,   2.44140625e-04,\n",
       "         7.62939453e-04,   9.15527344e-05,   1.83105469e-04,\n",
       "         3.35693359e-04,  -2.44140625e-04,  -2.13623047e-04,\n",
       "        -2.13623047e-04,  -2.13623047e-04,  -1.52587891e-04,\n",
       "        -3.05175781e-05,   4.27246094e-04,   1.22070312e-04,\n",
       "         3.35693359e-04,   2.74658203e-04,  -4.88281250e-04,\n",
       "         3.05175781e-04,   5.18798828e-04,   9.15527344e-05,\n",
       "        -2.74658203e-04,   6.10351562e-05,   1.83105469e-04,\n",
       "        -3.66210938e-04,  -4.27246094e-04,   1.52587891e-04,\n",
       "         6.10351562e-05,  -2.74658203e-04,  -3.35693359e-04,\n",
       "        -9.15527344e-05,   3.66210938e-04,   3.05175781e-04,\n",
       "        -1.52587891e-04,   3.05175781e-05,   1.83105469e-04,\n",
       "         4.57763672e-04,   0.00000000e+00,   3.05175781e-04,\n",
       "         4.27246094e-04,   1.22070312e-04,   1.52587891e-04,\n",
       "        -3.05175781e-04,  -1.52587891e-04,   2.13623047e-04,\n",
       "         3.66210938e-04,  -3.96728516e-04,  -1.83105469e-04,\n",
       "         1.52587891e-04,   2.44140625e-04,   1.83105469e-04,\n",
       "         3.05175781e-05,  -3.66210938e-04,  -6.10351562e-05,\n",
       "         3.66210938e-04,   2.74658203e-04,  -2.74658203e-04,\n",
       "         2.74658203e-04,   2.74658203e-04,   1.52587891e-04,\n",
       "         2.44140625e-04,   9.15527344e-05,  -1.52587891e-04,\n",
       "         0.00000000e+00,  -1.22070312e-04,   3.05175781e-05,\n",
       "         2.13623047e-04,   1.22070312e-04,  -1.52587891e-04,\n",
       "        -2.44140625e-04,  -1.52587891e-04,  -3.96728516e-04,\n",
       "         1.83105469e-04,   6.40869141e-04,  -6.10351562e-05,\n",
       "         3.35693359e-04,  -6.10351562e-05,  -3.05175781e-04,\n",
       "         4.88281250e-04,   3.05175781e-04,  -3.66210938e-04,\n",
       "        -1.52587891e-04,   2.74658203e-04,   3.35693359e-04,\n",
       "        -5.79833984e-04,   1.52587891e-04,   3.35693359e-04,\n",
       "         3.66210938e-04,  -1.83105469e-04,  -1.22070312e-04,\n",
       "         4.27246094e-04,  -1.00708008e-03,   2.13623047e-04,\n",
       "         3.05175781e-04,  -9.76562500e-04,  -7.32421875e-04,\n",
       "        -6.10351562e-04,   0.00000000e+00,   3.05175781e-05,\n",
       "        -6.71386719e-04,  -1.28173828e-03,  -1.15966797e-03,\n",
       "        -1.01623535e-02,  -6.10351562e-03,   7.47680664e-03,\n",
       "         8.54492188e-04,  -4.82177734e-03,  -5.58471680e-03,\n",
       "         3.60107422e-03,   6.13403320e-03,  -4.45556641e-03,\n",
       "        -6.07299805e-03,   4.69970703e-03,   7.56835938e-03,\n",
       "         3.72314453e-03,   9.46044922e-04,  -2.44140625e-04,\n",
       "         5.18798828e-04,   3.96728516e-04,  -2.86865234e-03,\n",
       "        -1.64794922e-03,   5.43212891e-03,  -1.52587891e-04,\n",
       "        -3.11279297e-03,  -1.80053711e-03,   2.62451172e-03,\n",
       "         1.80053711e-03,  -4.21142578e-03,  -4.51660156e-03,\n",
       "         2.04467773e-03,   4.11987305e-03,   8.85009766e-04,\n",
       "        -1.55639648e-03,  -1.52587891e-03,   1.22070312e-04,\n",
       "         7.93457031e-04,  -5.49316406e-04,  -4.27246094e-04,\n",
       "         6.10351562e-04,   1.98364258e-03,   2.83813477e-03,\n",
       "         1.34277344e-03,  -5.18798828e-04,  -9.76562500e-04,\n",
       "        -1.83105469e-04,   2.10571289e-03,   6.10351562e-04,\n",
       "         9.15527344e-05,   1.43432617e-03,   1.00708008e-03,\n",
       "         2.74658203e-04,  -1.31225586e-03,  -7.01904297e-04,\n",
       "         9.46044922e-04,  -1.46484375e-03,   1.52587891e-04,\n",
       "         6.10351562e-05,   1.25122070e-03,  -2.74658203e-04,\n",
       "        -1.89208984e-03,   6.10351562e-04,  -7.93457031e-04,\n",
       "        -7.62939453e-04,   1.00708008e-03,  -3.66210938e-04,\n",
       "        -5.79833984e-04,   1.00708008e-03,  -2.74658203e-04,\n",
       "         4.57763672e-04,  -7.62939453e-04,  -1.00708008e-03,\n",
       "         1.83105469e-03,   5.79833984e-04,  -3.96728516e-04,\n",
       "         8.85009766e-04,   1.00708008e-03])"
      ]
     },
     "execution_count": 297,
     "metadata": {},
     "output_type": "execute_result"
    }
   ],
   "source": [
    "train_frame_set[0,:]"
   ]
  },
  {
   "cell_type": "markdown",
   "metadata": {},
   "source": [
    "## Step 1:"
   ]
  },
  {
   "cell_type": "markdown",
   "metadata": {},
   "source": [
    "try to figure out the noise signal power from the mixed signal power"
   ]
  },
  {
   "cell_type": "code",
   "execution_count": 298,
   "metadata": {
    "collapsed": true
   },
   "outputs": [],
   "source": [
    "mixed_power_set=[]\n",
    "for k in range(frame_num):\n",
    "    mixed_power_set.append(1/(L_value)*np.sum((np.float64(frame_set[k]))**2))#use np.float64 to avoid overflow encountered in long scalars"
   ]
  },
  {
   "cell_type": "code",
   "execution_count": 299,
   "metadata": {},
   "outputs": [
    {
     "data": {
      "text/plain": [
       "395"
      ]
     },
     "execution_count": 299,
     "metadata": {},
     "output_type": "execute_result"
    }
   ],
   "source": [
    "len(mixed_power_set)"
   ]
  },
  {
   "cell_type": "code",
   "execution_count": 300,
   "metadata": {},
   "outputs": [
    {
     "data": {
      "text/plain": [
       "[1.247681211680174e-08,\n",
       " 1.2508826330304146e-08,\n",
       " 1.2925011105835438e-08,\n",
       " 1.4808028936386109e-08,\n",
       " 3.6472920328378679e-08,\n",
       " 3.6950223147869114e-08,\n",
       " 1.3932003639638425e-08,\n",
       " 1.0983785614371301e-08,\n",
       " 1.2206146493554116e-08,\n",
       " 1.437729224562645e-08,\n",
       " 1.5844125300645828e-08,\n",
       " 1.5672412700951099e-08,\n",
       " 7.0565147325396535e-08,\n",
       " 7.2672264650464058e-08,\n",
       " 1.9234721548855307e-08,\n",
       " 2.1728919818997384e-08,\n",
       " 2.5192275643348695e-08,\n",
       " 3.1816307455301286e-08,\n",
       " 3.8530561141669753e-08,\n",
       " 5.12140104547143e-08,\n",
       " 5.5841519497334958e-08,\n",
       " 1.2290256563574077e-07,\n",
       " 2.1010491764172912e-06,\n",
       " 5.581040750257671e-06,\n",
       " 4.6734348870813847e-06,\n",
       " 2.5895104045048359e-06,\n",
       " 3.6070006899535658e-06,\n",
       " 3.1454343115910889e-06,\n",
       " 1.5337805962190033e-06,\n",
       " 1.299637369811535e-06,\n",
       " 1.3409677194431425e-06,\n",
       " 1.4081218978390099e-06,\n",
       " 1.717390841804445e-06,\n",
       " 1.22754427138716e-06,\n",
       " 7.1981339715421206e-07,\n",
       " 7.2530820034444336e-07,\n",
       " 6.4693740569055087e-07,\n",
       " 5.2218092605471611e-07,\n",
       " 5.0517846830189226e-07,\n",
       " 4.8053334467113018e-07,\n",
       " 5.024514393880964e-07,\n",
       " 4.7154026105999947e-07,\n",
       " 3.3392570912837983e-07,\n",
       " 2.4591281544417143e-07,\n",
       " 2.5114568416029218e-07,\n",
       " 2.8365757316350936e-07,\n",
       " 2.6038615033030513e-07,\n",
       " 1.8159917090088131e-07,\n",
       " 1.0378134902566672e-07,\n",
       " 8.1403413787484169e-08,\n",
       " 7.9793971963226803e-08,\n",
       " 6.3070910982787606e-08,\n",
       " 5.5786222219467168e-08,\n",
       " 5.1464303396642213e-08,\n",
       " 3.3594551496207713e-08,\n",
       " 1.6769627109169961e-08,\n",
       " 1.2782402336597444e-08,\n",
       " 1.1673546396195889e-08,\n",
       " 1.3048993423581124e-07,\n",
       " 4.0535058360546826e-06,\n",
       " 1.465898531023413e-05,\n",
       " 2.7225902886129916e-05,\n",
       " 3.2609357731416821e-05,\n",
       " 4.3965899385511877e-05,\n",
       " 9.4241081387735914e-05,\n",
       " 0.00015062190359458328,\n",
       " 0.00019461601914372295,\n",
       " 0.00018991989200003447,\n",
       " 0.00011456600623205304,\n",
       " 5.8351576444692914e-05,\n",
       " 0.00013964736717753112,\n",
       " 0.00034189363359473648,\n",
       " 0.00042580237204674636,\n",
       " 0.00036477442481555047,\n",
       " 0.00036069698398932815,\n",
       " 0.00036582987522706392,\n",
       " 0.00032427299011033033,\n",
       " 0.00029233862296678125,\n",
       " 0.00023030398297123613,\n",
       " 0.00015970830863807351,\n",
       " 9.4546464970335372e-05,\n",
       " 4.1491026058793069e-05,\n",
       " 3.5593096981756389e-05,\n",
       " 3.72310692910105e-05,\n",
       " 3.6104887840338051e-05,\n",
       " 5.1541582797653974e-05,\n",
       " 9.2816882533952602e-05,\n",
       " 0.00033187500375788661,\n",
       " 0.00092126695381011814,\n",
       " 0.0018838983465684579,\n",
       " 0.0029480317898560315,\n",
       " 0.0039917908259667458,\n",
       " 0.0051301992760272698,\n",
       " 0.0054843347286805512,\n",
       " 0.0051995213958434764,\n",
       " 0.0048125774337677285,\n",
       " 0.0041573166410671545,\n",
       " 0.0038134539820021021,\n",
       " 0.0038126318482682112,\n",
       " 0.003058750624768436,\n",
       " 0.0011492320685647429,\n",
       " 6.1717029893770816e-06,\n",
       " 5.039366078563035e-06,\n",
       " 3.6581011954694989e-06,\n",
       " 8.7730761151760827e-06,\n",
       " 2.0184507593512536e-05,\n",
       " 4.535739135462791e-05,\n",
       " 0.00011542299471329899,\n",
       " 0.00019713079091161491,\n",
       " 0.00026360568008385602,\n",
       " 0.00029720303136855365,\n",
       " 0.00033814963535405695,\n",
       " 0.00044051476870663467,\n",
       " 0.00048229364911094312,\n",
       " 0.00039861460973042998,\n",
       " 0.00021179437753744424,\n",
       " 4.8041253467090432e-05,\n",
       " 4.1906430851668118e-06,\n",
       " 2.8055219445377588e-06,\n",
       " 1.9920058548450471e-06,\n",
       " 1.4123914297670126e-06,\n",
       " 8.9426466729491951e-07,\n",
       " 2.2779792197979989e-05,\n",
       " 0.00021432282228488477,\n",
       " 0.0013464425457641483,\n",
       " 0.0023792244872311132,\n",
       " 0.0034741744137136267,\n",
       " 0.0060416456399252638,\n",
       " 0.0078265603631734858,\n",
       " 0.0088390325341606516,\n",
       " 0.009647844277787955,\n",
       " 0.0093628246861044324,\n",
       " 0.008357480360427872,\n",
       " 0.006626996325212531,\n",
       " 0.0050572300358908253,\n",
       " 0.0038542236841749402,\n",
       " 0.0025557179877068849,\n",
       " 0.0014521607634378599,\n",
       " 0.00066272550902795051,\n",
       " 0.00025566103577148171,\n",
       " 8.267799566965551e-05,\n",
       " 7.2742783231660729e-06,\n",
       " 7.6743890531361106e-08,\n",
       " 3.5782577469944957e-07,\n",
       " 3.1328818295150995e-07,\n",
       " 1.3486715033650399e-08,\n",
       " 1.2118835002183915e-08,\n",
       " 3.2013776944950223e-06,\n",
       " 1.4112549251876771e-05,\n",
       " 6.9323770003393295e-05,\n",
       " 0.00023495212662965061,\n",
       " 0.00039878391835372899,\n",
       " 0.00057507043238729243,\n",
       " 0.00077862614416517322,\n",
       " 0.00074292354111094028,\n",
       " 0.00067141543840989473,\n",
       " 0.00066354378650430596,\n",
       " 0.00062155693594831982,\n",
       " 0.0004698588134488091,\n",
       " 0.00031615614716429263,\n",
       " 0.00025891156692523513,\n",
       " 0.00012141511251684278,\n",
       " 3.7617082125507298e-05,\n",
       " 0.000108530159923248,\n",
       " 0.00020802805665880443,\n",
       " 0.00023901129607111217,\n",
       " 0.00024221157073043287,\n",
       " 0.00021347865986172111,\n",
       " 0.00018042355368379505,\n",
       " 0.0001654045976465568,\n",
       " 0.0001356367109110579,\n",
       " 0.00010168008448090405,\n",
       " 8.9886368368752303e-05,\n",
       " 7.656326633878053e-05,\n",
       " 6.869270873721689e-05,\n",
       " 6.4086727797985082e-05,\n",
       " 5.6081387447193266e-05,\n",
       " 3.5513236070983112e-05,\n",
       " 7.8536308137699965e-06,\n",
       " 2.1174055291339755e-06,\n",
       " 3.069826634600759e-05,\n",
       " 6.9861998781561852e-05,\n",
       " 0.00015278738865163178,\n",
       " 0.00042599959997460248,\n",
       " 0.00074822117458097639,\n",
       " 0.00093153495399747046,\n",
       " 0.00092853705282323071,\n",
       " 0.00067737226781900979,\n",
       " 0.00031539710180368276,\n",
       " 8.7444231030531238e-05,\n",
       " 3.6457608803175394e-05,\n",
       " 3.5339081659913066e-05,\n",
       " 3.3882402931340039e-05,\n",
       " 3.5732937976717953e-05,\n",
       " 3.7978999898768961e-05,\n",
       " 4.0840115980245178e-05,\n",
       " 4.1258716373704379e-05,\n",
       " 3.3752599847503006e-05,\n",
       " 2.0566268358379605e-05,\n",
       " 7.9245335655286915e-06,\n",
       " 1.1857453500851989e-06,\n",
       " 1.2601958587765694e-07,\n",
       " 5.3587515139952307e-06,\n",
       " 5.7390163419768216e-06,\n",
       " 2.4102890165522697e-06,\n",
       " 4.9748137826099997e-06,\n",
       " 2.029557654168457e-05,\n",
       " 5.6337521527893841e-05,\n",
       " 8.4214730304665866e-05,\n",
       " 0.00013877940655220302,\n",
       " 0.00023940120881889017,\n",
       " 0.00028477885352913291,\n",
       " 0.00024234899901784957,\n",
       " 0.00021953556279186159,\n",
       " 0.00024010897905100138,\n",
       " 0.0002346058114198968,\n",
       " 0.00023574101214762777,\n",
       " 0.0002534111175918952,\n",
       " 0.00017343713552691044,\n",
       " 0.00011621172889135778,\n",
       " 0.00014324036892503502,\n",
       " 0.00014648101059719921,\n",
       " 0.00019464709039311858,\n",
       " 0.0004117679287446663,\n",
       " 0.00065897356835193939,\n",
       " 0.00067912762751802806,\n",
       " 0.00054657740693073718,\n",
       " 0.00050496942130848763,\n",
       " 0.00048183930630329996,\n",
       " 0.00030398691305890682,\n",
       " 0.00015249403659254313,\n",
       " 7.6598548912443223e-05,\n",
       " 2.0056386711075904e-05,\n",
       " 2.6657976559363308e-05,\n",
       " 5.8937011635862292e-05,\n",
       " 6.6816658363677559e-05,\n",
       " 6.3273159321397548e-05,\n",
       " 6.4382969867438078e-05,\n",
       " 5.0471248687244956e-05,\n",
       " 3.2836681930348278e-05,\n",
       " 2.6565304142422975e-05,\n",
       " 2.2742286091670394e-05,\n",
       " 1.5546701615676283e-05,\n",
       " 8.2228565588593486e-06,\n",
       " 6.4153398852795369e-06,\n",
       " 8.7245833128690726e-06,\n",
       " 1.6684390720911325e-05,\n",
       " 4.6405222383327784e-05,\n",
       " 0.00019345328037161382,\n",
       " 0.00047966895508579912,\n",
       " 0.00060767490067519252,\n",
       " 0.00074836940912064169,\n",
       " 0.001436727578402497,\n",
       " 0.0021601846878184006,\n",
       " 0.0028518980368971826,\n",
       " 0.0038230304227909076,\n",
       " 0.0042847982491366569,\n",
       " 0.0047429349622689189,\n",
       " 0.0050504031998571015,\n",
       " 0.004437925474485383,\n",
       " 0.0040706155588850377,\n",
       " 0.0032036673947004601,\n",
       " 0.0016572098131291569,\n",
       " 0.00064359546813648201,\n",
       " 0.00013029513065703215,\n",
       " 1.5827157767489552e-05,\n",
       " 1.3837273581884802e-05,\n",
       " 1.9216287182644012e-05,\n",
       " 5.2282214164733892e-05,\n",
       " 0.00010075436439365149,\n",
       " 0.00014832142624072732,\n",
       " 0.00016706502356100827,\n",
       " 0.00014536403759848326,\n",
       " 0.00011336387251503766,\n",
       " 0.00010046034294646234,\n",
       " 8.791739237494767e-05,\n",
       " 6.2226425507105892e-05,\n",
       " 5.1145107136107981e-05,\n",
       " 3.3715486642904581e-05,\n",
       " 1.4543483848683537e-05,\n",
       " 7.2977069066837435e-06,\n",
       " 3.1173985917121172e-06,\n",
       " 1.0115356417372822e-06,\n",
       " 3.5026168916374449e-07,\n",
       " 3.6423021811060607e-05,\n",
       " 0.00015497465210501105,\n",
       " 0.00021752282336819919,\n",
       " 0.0002292861754540354,\n",
       " 0.00033969802025239919,\n",
       " 0.00047728680656291547,\n",
       " 0.00057371868460904813,\n",
       " 0.00064971022366080435,\n",
       " 0.00076229675905779013,\n",
       " 0.00097498045070096859,\n",
       " 0.0012202578218420967,\n",
       " 0.001517590053845197,\n",
       " 0.0020337774563813581,\n",
       " 0.0024548743938794361,\n",
       " 0.0023785976256476718,\n",
       " 0.0021161216049222276,\n",
       " 0.0018271321634529159,\n",
       " 0.0012805112375644967,\n",
       " 0.00060774681332986802,\n",
       " 0.00014185150503180923,\n",
       " 5.2453251555562017e-07,\n",
       " 7.8188779298216115e-06,\n",
       " 8.6049208766780802e-05,\n",
       " 0.00020901315729133786,\n",
       " 0.00030051069043111059,\n",
       " 0.00035027615667786454,\n",
       " 0.00036021187552250924,\n",
       " 0.00035059099900536239,\n",
       " 0.0003229965746868402,\n",
       " 0.00028431992395780984,\n",
       " 0.00024441408459097147,\n",
       " 0.00021521816088352353,\n",
       " 0.00017857646453194322,\n",
       " 0.00015412436041515321,\n",
       " 0.00019407373038120569,\n",
       " 0.00018435286765452477,\n",
       " 8.9875730918720367e-05,\n",
       " 0.00015692481538280846,\n",
       " 0.00034696458023972813,\n",
       " 0.00022684203868266197,\n",
       " 0.00027244590164627881,\n",
       " 0.0004531097016297281,\n",
       " 0.00045415625791065398,\n",
       " 0.00049867814814206211,\n",
       " 0.0004397005483042449,\n",
       " 0.00040705757855903358,\n",
       " 0.00044043603702448308,\n",
       " 0.00046876511478330943,\n",
       " 0.00048693688295315952,\n",
       " 0.00052692436729557819,\n",
       " 0.00055473313259426507,\n",
       " 0.00053138291987124835,\n",
       " 0.00050902430957648907,\n",
       " 0.0005148353870026767,\n",
       " 0.00048888376913964755,\n",
       " 0.00050250634085386998,\n",
       " 0.00044950130686629566,\n",
       " 0.00033728571434039624,\n",
       " 0.00031268409220501785,\n",
       " 0.00028389291837811471,\n",
       " 0.00019477483583614231,\n",
       " 8.3487067604437479e-05,\n",
       " 3.2846722751855852e-05,\n",
       " 2.5361558073200285e-05,\n",
       " 2.7340539963915945e-05,\n",
       " 3.1999745988287036e-05,\n",
       " 3.6789238220080736e-05,\n",
       " 4.4763588812202221e-05,\n",
       " 5.163313471712172e-05,\n",
       " 4.8710493138059975e-05,\n",
       " 4.9173019942827525e-05,\n",
       " 5.7237720466218891e-05,\n",
       " 6.1308851581998172e-05,\n",
       " 7.2815819294191897e-05,\n",
       " 7.7003042679280053e-05,\n",
       " 8.4370587137527772e-05,\n",
       " 9.0797070879489186e-05,\n",
       " 8.8353722821921118e-05,\n",
       " 0.00010465111990924925,\n",
       " 0.00011835368641186506,\n",
       " 0.00013892963179387152,\n",
       " 0.00020903992117382586,\n",
       " 0.00027788751758635045,\n",
       " 0.00020453042816370726,\n",
       " 0.00011195934202987701,\n",
       " 0.0001994439633563161,\n",
       " 0.00024162712215911598,\n",
       " 0.00013727265468332916,\n",
       " 4.7873772564344109e-05,\n",
       " 7.1412825491279364e-05,\n",
       " 8.6312586790882062e-05,\n",
       " 5.2857448463328185e-05,\n",
       " 5.3561636013910176e-05,\n",
       " 2.5986696709878745e-05,\n",
       " 4.3539243051782254e-06,\n",
       " 2.924547879956663e-06,\n",
       " 2.4516222765669228e-06,\n",
       " 1.624508877284825e-06,\n",
       " 1.069562858901918e-06,\n",
       " 6.5688509494066243e-07,\n",
       " 4.5697961468249562e-07,\n",
       " 3.9219739846885207e-07,\n",
       " 2.5495246518403293e-07,\n",
       " 1.3046956155449154e-07,\n",
       " 8.8554224930703648e-08,\n",
       " 4.815519787371159e-08,\n",
       " 3.2407115213572979e-08,\n",
       " 2.8937938623130323e-08,\n",
       " 3.0794763006269936e-08,\n",
       " 2.3376196622848512e-08,\n",
       " 1.8801074475049973e-08]"
      ]
     },
     "execution_count": 300,
     "metadata": {},
     "output_type": "execute_result"
    }
   ],
   "source": [
    "mixed_power_set"
   ]
  },
  {
   "cell_type": "code",
   "execution_count": 301,
   "metadata": {},
   "outputs": [
    {
     "data": {
      "image/png": "[encoded data removed]",
      "text/plain": [
       "<matplotlib.figure.Figure at 0x23222e41e80>"
      ]
     },
     "metadata": {},
     "output_type": "display_data"
    }
   ],
   "source": [
    "plt.figure(figsize=(14,8))\n",
    "plt.bar(range(frame_num),mixed_power_set)  #plt,bar(index,height(value))\n",
    "plt.title(\"Plot of frames\",fontsize=40)\n",
    "plt.ylabel(\"Power of Amplitude\",fontsize=20)\n",
    "plt.xlabel(\"Number of frames\",fontsize=20)\n",
    "plt.show()"
   ]
  },
  {
   "cell_type": "markdown",
   "metadata": {},
   "source": [
    "## Step 2:"
   ]
  },
  {
   "cell_type": "markdown",
   "metadata": {},
   "source": [
    "drop first $t_{n}$ samples becasue of silence"
   ]
  },
  {
   "cell_type": "code",
   "execution_count": 302,
   "metadata": {
    "collapsed": true
   },
   "outputs": [],
   "source": [
    "t_n=100\n",
    "K_drop=np.int((t_n/t_feed))"
   ]
  },
  {
   "cell_type": "code",
   "execution_count": 303,
   "metadata": {},
   "outputs": [
    {
     "data": {
      "text/plain": [
       "395"
      ]
     },
     "execution_count": 303,
     "metadata": {},
     "output_type": "execute_result"
    }
   ],
   "source": [
    "len(frame_set)"
   ]
  },
  {
   "cell_type": "code",
   "execution_count": 304,
   "metadata": {
    "collapsed": true
   },
   "outputs": [],
   "source": [
    "no_speech_set=mixed_power_set[:K_drop-1]\n",
    "noise_power_set=(1/K_drop)*np.sum(no_speech_set)"
   ]
  },
  {
   "cell_type": "code",
   "execution_count": 305,
   "metadata": {},
   "outputs": [
    {
     "data": {
      "text/plain": [
       "1.632637577131391e-08"
      ]
     },
     "execution_count": 305,
     "metadata": {},
     "output_type": "execute_result"
    }
   ],
   "source": [
    "noise_power_set"
   ]
  },
  {
   "cell_type": "markdown",
   "metadata": {},
   "source": [
    "## Step 3"
   ]
  },
  {
   "cell_type": "markdown",
   "metadata": {},
   "source": [
    "try to find a $\\gamma$ as the threshold to satisfied that :\n",
    "$$P(k)\\lessgtr\\gamma * P_{N}$$, only the frames containing speech should be used to train the classification model"
   ]
  },
  {
   "cell_type": "code",
   "execution_count": 306,
   "metadata": {
    "collapsed": true
   },
   "outputs": [],
   "source": [
    "gamma=10\n",
    "mixed_power_set=pd.Series(mixed_power_set)"
   ]
  },
  {
   "cell_type": "code",
   "execution_count": 307,
   "metadata": {},
   "outputs": [
    {
     "data": {
      "text/plain": [
       "22     [0.000152587890625, 3.0517578125e-05, -3.05175...\n",
       "23     [0.000274658203125, -0.00048828125, 0.00030517...\n",
       "24     [0.000152587890625, 0.00115966796875, -0.00106...\n",
       "25     [0.00167846679688, 0.0028076171875, -9.1552734...\n",
       "26     [0.00091552734375, 0.00494384765625, -0.001098...\n",
       "27     [-0.000152587890625, -0.0079345703125, -0.0099...\n",
       "28     [-0.00210571289063, -0.00222778320313, 0.00033...\n",
       "29     [-0.000701904296875, 0.000396728515625, -0.000...\n",
       "30     [0.000823974609375, -0.0008544921875, -0.00140...\n",
       "31     [-0.002685546875, -0.000640869140625, 0.000854...\n",
       "32     [0.000213623046875, 0.000274658203125, -0.0015...\n",
       "33     [-0.00137329101563, 6.103515625e-05, 0.0014648...\n",
       "34     [0.0010986328125, 0.00103759765625, -0.0001525...\n",
       "35     [-0.00079345703125, -0.000457763671875, 0.0019...\n",
       "36     [-0.000335693359375, -0.00048828125, -6.103515...\n",
       "37     [0.000396728515625, 0.00115966796875, 9.155273...\n",
       "38     [-0.000152587890625, 0.00030517578125, 0.00115...\n",
       "39     [-0.000823974609375, 0.00018310546875, 0.00155...\n",
       "40     [0.00018310546875, -0.00042724609375, -9.15527...\n",
       "41     [-0.000640869140625, -0.00018310546875, 0.0004...\n",
       "42     [-0.00030517578125, 0.000213623046875, -9.1552...\n",
       "43     [0.0001220703125, 0.000244140625, 3.0517578125...\n",
       "44     [0.0010986328125, -3.0517578125e-05, -0.000976...\n",
       "45     [0.000701904296875, 0.000213623046875, -0.0001...\n",
       "46     [0.0, -0.000762939453125, -0.0006103515625, -0...\n",
       "47     [-0.00042724609375, -0.00079345703125, -3.0517...\n",
       "59     [3.0517578125e-05, 9.1552734375e-05, 0.0, 3.05...\n",
       "60     [-0.00079345703125, 0.0008544921875, 0.0012817...\n",
       "61     [0.00369262695313, -0.00140380859375, -0.00677...\n",
       "62     [0.00433349609375, 0.00738525390625, -0.000885...\n",
       "                             ...                        \n",
       "357    [-0.00506591796875, -0.00576782226563, -0.0044...\n",
       "358    [-0.0134887695313, -0.00238037109375, 0.002838...\n",
       "359    [-0.00308227539063, -0.00405883789063, -0.0029...\n",
       "360    [-0.0040283203125, -0.00991821289063, -0.01348...\n",
       "361    [0.0126037597656, 0.00436401367188, 0.00527954...\n",
       "362    [0.00180053710938, -0.000640869140625, 0.00088...\n",
       "363    [-0.0151062011719, -0.0154113769531, -0.001739...\n",
       "364    [0.00857543945313, 0.00228881835938, -0.000671...\n",
       "365    [-0.00283813476563, -0.00259399414063, -0.0030...\n",
       "366    [0.0102844238281, 0.00900268554688, 0.00875854...\n",
       "367    [-0.0127868652344, -0.0132751464844, -0.014709...\n",
       "368    [-0.0074462890625, -0.0107727050781, -0.013824...\n",
       "369    [0.0119018554688, 0.009521484375, 0.0076904296...\n",
       "370    [-0.00180053710938, 0.00112915039063, 0.002807...\n",
       "371    [-0.0029296875, -0.0006103515625, 0.0011291503...\n",
       "372    [0.00680541992188, 0.00424194335938, 0.0025634...\n",
       "373    [-0.00177001953125, -0.001220703125, -0.002044...\n",
       "374    [-0.00274658203125, -0.0025634765625, -0.00268...\n",
       "375    [-0.00344848632813, -0.00357055664063, -0.0039...\n",
       "376    [0.00253295898438, 0.0018310546875, -0.0003967...\n",
       "377    [0.00408935546875, 0.00289916992188, 0.0013732...\n",
       "378    [-0.00271606445313, -0.00384521484375, -0.0044...\n",
       "379    [0.00048828125, 0.0006103515625, 0.00054931640...\n",
       "380    [0.001708984375, 0.00112915039063, -3.05175781...\n",
       "381    [-0.000518798828125, 0.000244140625, -0.000335...\n",
       "382    [-0.00054931640625, 0.00042724609375, 0.001617...\n",
       "383    [-9.1552734375e-05, 0.00115966796875, 0.001678...\n",
       "384    [-0.0001220703125, 3.0517578125e-05, 0.0002746...\n",
       "385    [0.0, -0.00018310546875, 0.000152587890625, 0....\n",
       "386    [-0.000457763671875, -0.000457763671875, -0.00...\n",
       "Length: 350, dtype: object"
      ]
     },
     "execution_count": 307,
     "metadata": {},
     "output_type": "execute_result"
    }
   ],
   "source": [
    "frame_set=pd.Series(frame_set)\n",
    "train_power_set=frame_set.loc[mixed_power_set>gamma*noise_power_set]\n",
    "train_power_set"
   ]
  },
  {
   "cell_type": "code",
   "execution_count": 308,
   "metadata": {
    "collapsed": true
   },
   "outputs": [],
   "source": [
    "train_power_set=np.array(list(train_power_set))"
   ]
  },
  {
   "cell_type": "markdown",
   "metadata": {},
   "source": [
    "# 4. Feature extraction"
   ]
  },
  {
   "cell_type": "markdown",
   "metadata": {},
   "source": [
    "The next step is to calculate the power spectrum of each frame. This is motivated by the human cochlea (an organ in the ear) which vibrates at different spots depending on the frequency of the incoming sounds. "
   ]
  },
  {
   "cell_type": "markdown",
   "metadata": {},
   "source": [
    "**Window**"
   ]
  },
  {
   "cell_type": "markdown",
   "metadata": {},
   "source": [
    "we use Von_Hann_Fester to minimize the effect "
   ]
  },
  {
   "cell_type": "code",
   "execution_count": 309,
   "metadata": {
    "collapsed": true
   },
   "outputs": [],
   "source": [
    "def window_func(train_frame_set):\n",
    "    window = np.hanning(len(train_frame_set[0]))  #different in matlab\n",
    "    #window = np.hamming(len(train_frame_set[0]))\n",
    "    train_frame_set=np.float64(train_frame_set)\n",
    "    frame_windowed_set=np.multiply(train_frame_set,window) # apply the window to the frames\n",
    "    #using np.multiply , multipy by elements\n",
    "    return frame_windowed_set"
   ]
  },
  {
   "cell_type": "markdown",
   "metadata": {},
   "source": [
    "we plot the hanning window and see"
   ]
  },
  {
   "cell_type": "code",
   "execution_count": 317,
   "metadata": {},
   "outputs": [
    {
     "data": {
      "image/png": "[encoded data removed]",
      "text/plain": [
       "<matplotlib.figure.Figure at 0x23222defa90>"
      ]
     },
     "metadata": {},
     "output_type": "display_data"
    }
   ],
   "source": [
    "#window on the time domain\n",
    "plt.plot(range(len(train_frame_set[0])),np.hanning(len(train_frame_set[0]))) ####\n",
    "plt.show()"
   ]
  },
  {
   "cell_type": "code",
   "execution_count": 318,
   "metadata": {
    "collapsed": true
   },
   "outputs": [],
   "source": [
    "#the window on the frequency domain\n",
    "pow_frames_window,mag_frames_window=Flourier_transfer(np.hanning(len(train_frame_set[0])),NFFT)"
   ]
  },
  {
   "cell_type": "code",
   "execution_count": 319,
   "metadata": {},
   "outputs": [
    {
     "data": {
      "image/png": "[encoded data removed]",
      "text/plain": [
       "<matplotlib.figure.Figure at 0x23222def198>"
      ]
     },
     "metadata": {},
     "output_type": "display_data"
    }
   ],
   "source": [
    "plt.plot(mag_frames_window)\n",
    "plt.show()"
   ]
  },
  {
   "cell_type": "code",
   "execution_count": 320,
   "metadata": {
    "collapsed": true
   },
   "outputs": [],
   "source": [
    "frame_windowed_set= window_func(train_frame_set) # frame_windowed_set:frames*320"
   ]
  },
  {
   "cell_type": "code",
   "execution_count": 321,
   "metadata": {},
   "outputs": [
    {
     "data": {
      "text/plain": [
       "(350, 320)"
      ]
     },
     "execution_count": 321,
     "metadata": {},
     "output_type": "execute_result"
    }
   ],
   "source": [
    "frame_windowed_set.shape"
   ]
  },
  {
   "cell_type": "code",
   "execution_count": 322,
   "metadata": {},
   "outputs": [
    {
     "data": {
      "text/plain": [
       "array([[  0.00000000e+00,   2.95974574e-09,  -1.18378347e-08, ...,\n",
       "         -1.53891852e-07,   8.58326264e-08,   0.00000000e+00],\n",
       "       [  0.00000000e+00,  -4.73559318e-08,   1.18378347e-07, ...,\n",
       "         -1.18378347e-07,  -3.69968217e-07,  -0.00000000e+00],\n",
       "       [  0.00000000e+00,   1.12470338e-07,  -4.14324216e-07, ...,\n",
       "         -4.97189059e-07,  -1.50947033e-07,   0.00000000e+00],\n",
       "       ..., \n",
       "       [ -0.00000000e+00,   2.95974574e-09,   1.06540513e-07, ...,\n",
       "         -3.31459373e-07,  -9.17521179e-08,  -0.00000000e+00],\n",
       "       [  0.00000000e+00,  -1.77584744e-08,   5.91891737e-08, ...,\n",
       "         -4.73513390e-08,  -2.95974574e-09,   0.00000000e+00],\n",
       "       [ -0.00000000e+00,  -4.43961861e-08,  -1.77567521e-07, ...,\n",
       "          1.42054017e-07,   1.47987287e-08,   0.00000000e+00]])"
      ]
     },
     "execution_count": 322,
     "metadata": {},
     "output_type": "execute_result"
    }
   ],
   "source": [
    "frame_windowed_set"
   ]
  },
  {
   "cell_type": "markdown",
   "metadata": {},
   "source": [
    "** Fourier-Transform and Power Spectrum**"
   ]
  },
  {
   "cell_type": "markdown",
   "metadata": {},
   "source": [
    "When the DFT is computed for purely real input, the output is Hermitian-symmetric, i.e. the negative frequency terms are just the complex conjugates of the corresponding positive-frequency terms, and the negative-frequency terms are therefore redundant. This function does not compute the negative frequency terms, and the length of the transformed axis of the output is therefore n//2 + 1."
   ]
  },
  {
   "cell_type": "markdown",
   "metadata": {},
   "source": [
    "We would generally perform a 512 point FFT and keep oly the first 257 coefficents."
   ]
  },
  {
   "cell_type": "code",
   "execution_count": 323,
   "metadata": {
    "collapsed": true
   },
   "outputs": [],
   "source": [
    "NFFT=512\n",
    "#mag_frames = np.absolute(np.fft.rfft(sample_frame, NFFT))  # Magnitude of the FFT\n",
    "#mag_frames = np.absolute(np.fft.fft(sample_frame, NFFT))\n",
    "def Flourier_transfer(frame_windowed_set,NFFT):\n",
    "    mag_frames = np.absolute(np.fft.rfft(frame_windowed_set, NFFT)) \n",
    "    pow_frames = ((1.0 / NFFT) * ((mag_frames) ** 2)) \n",
    "    return pow_frames,mag_frames"
   ]
  },
  {
   "cell_type": "code",
   "execution_count": 324,
   "metadata": {
    "collapsed": true
   },
   "outputs": [],
   "source": [
    "pow_frames,mag_frames=Flourier_transfer(frame_windowed_set,NFFT)"
   ]
  },
  {
   "cell_type": "code",
   "execution_count": 325,
   "metadata": {},
   "outputs": [
    {
     "data": {
      "text/plain": [
       "array([[  2.11889657e-08,   7.43277667e-08,   1.25368314e-07, ...,\n",
       "          8.72434997e-10,   7.01906271e-10,   2.27688252e-09],\n",
       "       [  3.47672631e-07,   3.69749179e-07,   2.98517968e-07, ...,\n",
       "          1.09317128e-07,   4.48656896e-08,   2.25014992e-09],\n",
       "       [  1.87615962e-07,   7.22302388e-08,   7.60852056e-08, ...,\n",
       "          4.78092199e-09,   5.61756082e-08,   9.89509110e-08],\n",
       "       ..., \n",
       "       [  4.84586443e-07,   3.31239763e-07,   5.41179548e-08, ...,\n",
       "          8.60172789e-10,   3.44606518e-10,   7.48129357e-11],\n",
       "       [  6.05334123e-09,   8.11112396e-08,   2.37326810e-07, ...,\n",
       "          9.81167612e-11,   4.66336069e-10,   6.78824374e-10],\n",
       "       [  5.05647483e-07,   3.23070924e-07,   8.95909261e-08, ...,\n",
       "          5.76247982e-10,   1.69768341e-10,   4.73702727e-11]])"
      ]
     },
     "execution_count": 325,
     "metadata": {},
     "output_type": "execute_result"
    }
   ],
   "source": [
    "pow_frames"
   ]
  },
  {
   "cell_type": "code",
   "execution_count": 326,
   "metadata": {
    "collapsed": true
   },
   "outputs": [],
   "source": [
    "#leak = unwindowed\n",
    "pow_frames_leak,mag_frames_leak=Flourier_transfer(train_frame_set,NFFT)"
   ]
  },
  {
   "cell_type": "code",
   "execution_count": 327,
   "metadata": {},
   "outputs": [
    {
     "data": {
      "text/plain": [
       "[<matplotlib.lines.Line2D at 0x2321fc0c898>]"
      ]
     },
     "execution_count": 327,
     "metadata": {},
     "output_type": "execute_result"
    },
    {
     "data": {
      "image/png": "[encoded data removed]",
      "text/plain": [
       "<matplotlib.figure.Figure at 0x23222e001d0>"
      ]
     },
     "metadata": {},
     "output_type": "display_data"
    }
   ],
   "source": [
    "plt.plot(mag_frames_leak[1,:]) # without window(with spectral leakage)"
   ]
  },
  {
   "cell_type": "code",
   "execution_count": 328,
   "metadata": {},
   "outputs": [
    {
     "data": {
      "text/plain": [
       "[<matplotlib.lines.Line2D at 0x23222cc67b8>]"
      ]
     },
     "execution_count": 328,
     "metadata": {},
     "output_type": "execute_result"
    },
    {
     "data": {
      "image/png": "[encoded data removed]",
      "text/plain": [
       "<matplotlib.figure.Figure at 0x2321fc59eb8>"
      ]
     },
     "metadata": {},
     "output_type": "display_data"
    }
   ],
   "source": [
    "plt.plot(mag_frames[1,:]) # the frequency of each frame(with window)"
   ]
  },
  {
   "cell_type": "markdown",
   "metadata": {},
   "source": [
    "**Mel Scale Function**"
   ]
  },
  {
   "cell_type": "code",
   "execution_count": 329,
   "metadata": {
    "collapsed": true
   },
   "outputs": [],
   "source": [
    "def Mel_scale(freq_orig):\n",
    "    if freq_orig <= 1000:\n",
    "        f_mel = freq_orig\n",
    "    else:\n",
    "        f_mel = 2595 * np.log10(1 + (freq_orig/2) / 700)\n",
    "    return f_mel"
   ]
  },
  {
   "cell_type": "markdown",
   "metadata": {},
   "source": [
    "** Mel Scale Inverse Function**"
   ]
  },
  {
   "cell_type": "code",
   "execution_count": 330,
   "metadata": {
    "collapsed": true
   },
   "outputs": [],
   "source": [
    "def Mel_scale_inv(f_mel):\n",
    "    if f_mel > 1000:\n",
    "        f_orig = 700 * (10**(f_mel / 2595) - 1)\n",
    "    else:\n",
    "        f_orig=f_mel\n",
    "    return f_orig"
   ]
  },
  {
   "cell_type": "code",
   "execution_count": 331,
   "metadata": {
    "collapsed": true
   },
   "outputs": [],
   "source": [
    "#sample_rate=16000\n",
    "nfilt = 22\n",
    "def mel_filter_bank(sample_rate,NFFT,pow_frames,nfilt):\n",
    "    low_freq_mel = 0\n",
    "    #(sample_rate/2)??? because of rfft?\n",
    "    high_freq_mel = Mel_scale(sample_rate)  # Convert Hz to Mel #Mel Scale function \n",
    "    # nfilt + 2: add the boundary points\n",
    "    mel_points = np.linspace(low_freq_mel, high_freq_mel, nfilt + 2)  # Equally spaced in Mel scale\n",
    "    hz_points=[]\n",
    "    for item in mel_points:\n",
    "        hz_points.append(Mel_scale_inv(item)) # Convert Mel to Hz  # Power Spectrum # Inverse function\n",
    "    hz_points=np.array(hz_points)\n",
    "    bins = np.floor((NFFT + 1) * hz_points / sample_rate)\n",
    "    # fbank = Figure 3.9 22 triangular filter set\n",
    "    fbank = np.zeros((nfilt, int(np.floor(NFFT / 2 + 1))))\n",
    "    for m in range(1, nfilt + 1):\n",
    "        f_m_minus = int(bins[m - 1])   # left\n",
    "        f_m = int(bins[m])             # center\n",
    "        f_m_plus = int(bins[m + 1])    # right\n",
    "        for k in range(f_m_minus, f_m):\n",
    "            fbank[m - 1, k] = (k - bins[m - 1]) / (bins[m] - bins[m - 1])\n",
    "        for k in range(f_m, f_m_plus):\n",
    "            fbank[m - 1, k] = (bins[m + 1] - k) / (bins[m + 1] - bins[m])\n",
    "    filter_banks = np.dot(pow_frames, fbank.T)\n",
    "    #filter_banks = np.where(filter_banks == 0, np.finfo(float).eps, filter_banks)  # Numerical Stability #np.where: return the index of filter_banks == 0\n",
    "    #filter_banks = 20 * np.log10(filter_banks)  # dB\n",
    "    return filter_banks.T,fbank,hz_points"
   ]
  },
  {
   "cell_type": "markdown",
   "metadata": {
    "collapsed": true
   },
   "source": [
    "then we plot the mel filter bank and see"
   ]
  },
  {
   "cell_type": "code",
   "execution_count": 332,
   "metadata": {
    "collapsed": true
   },
   "outputs": [],
   "source": [
    "filter_banks,fbank,hz_points=mel_filter_bank(sample_rate,NFFT,pow_frames,nfilt)"
   ]
  },
  {
   "cell_type": "code",
   "execution_count": 333,
   "metadata": {},
   "outputs": [
    {
     "data": {
      "text/plain": [
       "(22, 350)"
      ]
     },
     "execution_count": 333,
     "metadata": {},
     "output_type": "execute_result"
    }
   ],
   "source": [
    "filter_banks.shape"
   ]
  },
  {
   "cell_type": "code",
   "execution_count": 334,
   "metadata": {
    "collapsed": true
   },
   "outputs": [],
   "source": [
    "def mel_plot(fbank,hz_points):\n",
    "    plt.figure(figsize=(14,8))\n",
    "    plt.title(\"mel-filter-bank\",size=30)\n",
    "    plt.xlabel(\"frequency\",size=20)\n",
    "    plt.ylabel(\"Amplitude\",size=20)\n",
    "    \n",
    "    for i in range(fbank.shape[0]):\n",
    "        plt.plot(np.linspace(0,np.int32(hz_points[-1]),(NFFT+2)/2),fbank[i])\n",
    "    plt.show()"
   ]
  },
  {
   "cell_type": "code",
   "execution_count": 335,
   "metadata": {},
   "outputs": [
    {
     "name": "stderr",
     "output_type": "stream",
     "text": [
      "D:\\ProgramData\\Anaconda3\\lib\\site-packages\\ipykernel_launcher.py:8: DeprecationWarning:\n",
      "\n",
      "object of type <class 'float'> cannot be safely interpreted as an integer.\n",
      "\n"
     ]
    },
    {
     "data": {
      "image/png": "[encoded data removed]",
      "text/plain": [
       "<matplotlib.figure.Figure at 0x2321fc07438>"
      ]
     },
     "metadata": {},
     "output_type": "display_data"
    }
   ],
   "source": [
    "mel_plot(fbank,hz_points)"
   ]
  },
  {
   "cell_type": "markdown",
   "metadata": {},
   "source": [
    "calculate the feature vectore $\\underline{b}$ using DCT"
   ]
  },
  {
   "cell_type": "code",
   "execution_count": 336,
   "metadata": {
    "collapsed": true
   },
   "outputs": [],
   "source": [
    "num_features = 15 \n",
    "#b_n = np.zeros((num_features,303))\n",
    "#train_frame_set = (303,320)\n",
    "def DCT(Y,num_features):\n",
    "    b_set=[]\n",
    "    for n_value in range(num_features): \n",
    "        b_n =0\n",
    "        for m in range(Y.shape[0]):\n",
    "            b_n+=np.multiply(np.log10(Y[m]),np.cos(math.pi*(n_value+1)*(m-0.5)/(Y.shape[0])))#ignore the mean a\n",
    "            #abandon the n=0\n",
    "        b_set.append(b_n)\n",
    "    b_set=np.array(b_set)\n",
    "    return b_set"
   ]
  },
  {
   "cell_type": "code",
   "execution_count": 337,
   "metadata": {},
   "outputs": [
    {
     "data": {
      "text/plain": [
       "(350,)"
      ]
     },
     "execution_count": 337,
     "metadata": {},
     "output_type": "execute_result"
    }
   ],
   "source": [
    "filter_banks[0].shape"
   ]
  },
  {
   "cell_type": "code",
   "execution_count": 338,
   "metadata": {},
   "outputs": [
    {
     "data": {
      "text/plain": [
       "(22, 350)"
      ]
     },
     "execution_count": 338,
     "metadata": {},
     "output_type": "execute_result"
    }
   ],
   "source": [
    "filter_banks.shape"
   ]
  },
  {
   "cell_type": "code",
   "execution_count": 339,
   "metadata": {},
   "outputs": [
    {
     "data": {
      "text/plain": [
       "(15, 350)"
      ]
     },
     "execution_count": 339,
     "metadata": {},
     "output_type": "execute_result"
    }
   ],
   "source": [
    "b_new = DCT(filter_banks,num_features) #b_new:features(15)*frames\n",
    "b_new.shape"
   ]
  },
  {
   "cell_type": "code",
   "execution_count": 340,
   "metadata": {},
   "outputs": [
    {
     "data": {
      "text/plain": [
       "array([  9.86024512, -10.29223407, -16.40565278,  -3.72371107,\n",
       "       -13.64182736,   0.17380246, -12.7338779 ,   1.07541746,\n",
       "        -8.44957845,  -1.82996944,  -7.1383189 ,  -2.31331742,\n",
       "        -7.41073035,   0.20256262,  -4.5240521 ])"
      ]
     },
     "execution_count": 340,
     "metadata": {},
     "output_type": "execute_result"
    }
   ],
   "source": [
    "b_new[:,100]"
   ]
  },
  {
   "cell_type": "code",
   "execution_count": 341,
   "metadata": {
    "collapsed": true
   },
   "outputs": [],
   "source": [
    "#ubm_dataset=loadmat(\"/Users/Mata/Documents/2017/学习/ws2017:18/PUL/forStudents/ubm/UBM_GMMNaive_MFCC_Spectrum0to8000Hz.mat\",mat_dtype=True)\n",
    "ubm_dataset=loadmat(\"C:\\\\Users\\\\hasee\\\\workspace\\\\workspace\\\\lab\\\\patRecDat\\\\forStudents\\\\ubm\\\\UBM_GMMNaive_MFCC_Spectrum0to8000Hz.mat\",mat_dtype=True)"
   ]
  },
  {
   "cell_type": "code",
   "execution_count": 342,
   "metadata": {},
   "outputs": [
    {
     "data": {
      "text/plain": [
       "dict_keys(['__header__', '__version__', '__globals__', 'var', 'K', 'weights', 'D', 'means'])"
      ]
     },
     "execution_count": 342,
     "metadata": {},
     "output_type": "execute_result"
    }
   ],
   "source": [
    "ubm_dataset.keys()"
   ]
  },
  {
   "cell_type": "code",
   "execution_count": 343,
   "metadata": {
    "collapsed": true
   },
   "outputs": [],
   "source": [
    "ubm_means=ubm_dataset['means']\n",
    "ubm_var = ubm_dataset['var']\n",
    "ubm_weights = ubm_dataset['weights'].ravel()\n",
    "ubm_var_set=[]\n",
    "K_value=49\n",
    "\n",
    "#transfer variance of UBM to cov\n",
    "for k in range(K_value):\n",
    "    ubm_var_set.append(np.diag(ubm_var[k]))\n",
    "ubm_var_set=np.array(ubm_var_set)\n",
    "ubm_var=ubm_var_set"
   ]
  },
  {
   "cell_type": "code",
   "execution_count": 344,
   "metadata": {},
   "outputs": [
    {
     "data": {
      "text/plain": [
       "(49, 15)"
      ]
     },
     "execution_count": 344,
     "metadata": {},
     "output_type": "execute_result"
    }
   ],
   "source": [
    "ubm_means.shape"
   ]
  },
  {
   "cell_type": "code",
   "execution_count": 345,
   "metadata": {},
   "outputs": [
    {
     "data": {
      "text/plain": [
       "(15, 350)"
      ]
     },
     "execution_count": 345,
     "metadata": {},
     "output_type": "execute_result"
    }
   ],
   "source": [
    "b_new.shape"
   ]
  },
  {
   "cell_type": "markdown",
   "metadata": {},
   "source": [
    "# 5. Probabilistic model of speech"
   ]
  },
  {
   "cell_type": "markdown",
   "metadata": {},
   "source": [
    "## 5.1: Universal Background Model"
   ]
  },
  {
   "cell_type": "markdown",
   "metadata": {},
   "source": [
    "naive GMM-UBM --**ubm_value_set:**$$P_{UBM}(\\underline{b})=\\sum_{k=1}^{K}\\omega_{UBM,k}*p(\\underline{b}|\\underline{\\mu}_{UBM,k},C_{UBM,k})$$"
   ]
  },
  {
   "cell_type": "code",
   "execution_count": 371,
   "metadata": {
    "collapsed": true
   },
   "outputs": [],
   "source": [
    "b_new=pd.read_csv('D:\\\\features.csv',header=None)\n",
    "b_new=np.array(b_new)"
   ]
  },
  {
   "cell_type": "code",
   "execution_count": 217,
   "metadata": {
    "collapsed": true
   },
   "outputs": [],
   "source": [
    "K_value=ubm_var.shape[0] #number of naive models\n",
    "T_value=b_new.shape[1] #number of frames"
   ]
  },
  {
   "cell_type": "code",
   "execution_count": 218,
   "metadata": {},
   "outputs": [
    {
     "data": {
      "text/plain": [
       "array([-17.8028021 ,   1.38120814,   4.09317523,  -3.57885659,\n",
       "        -0.10364783,   0.46219983,  -1.6222795 ,   0.19985011,\n",
       "         0.10969629,  -0.20741409,   0.14692962,  -0.11613068,\n",
       "        -0.01942129,  -0.08583574,  -0.14786522])"
      ]
     },
     "execution_count": 218,
     "metadata": {},
     "output_type": "execute_result"
    }
   ],
   "source": [
    "ubm_means[0]"
   ]
  },
  {
   "cell_type": "code",
   "execution_count": 219,
   "metadata": {},
   "outputs": [
    {
     "data": {
      "text/plain": [
       "16.51492354339495"
      ]
     },
     "execution_count": 219,
     "metadata": {},
     "output_type": "execute_result"
    }
   ],
   "source": [
    "np.dot(np.dot((b_new[:,0]-ubm_means[0]).T,np.linalg.inv(ubm_var[0,:,:])),(b_new[:,0]-ubm_means[0]))"
   ]
  },
  {
   "cell_type": "code",
   "execution_count": 220,
   "metadata": {},
   "outputs": [
    {
     "data": {
      "text/plain": [
       "0.00025931636071828526"
      ]
     },
     "execution_count": 220,
     "metadata": {},
     "output_type": "execute_result"
    }
   ],
   "source": [
    "np.exp((-0.5)*np.dot(np.dot((b_new[:,0]-ubm_means[0]).T,np.linalg.inv(ubm_var[0,:,:])),(b_new[:,0]-ubm_means[0])))"
   ]
  },
  {
   "cell_type": "code",
   "execution_count": 221,
   "metadata": {},
   "outputs": [
    {
     "data": {
      "text/plain": [
       "array([[ -4.265   ,  -7.3444  ,  -3.582   , ...,  11.524   ,  13.813   ,\n",
       "          3.0164  ],\n",
       "       [  0.34972 ,   1.4833  ,  -0.30921 , ...,  -0.91792 ,   1.7305  ,\n",
       "         -7.3778  ],\n",
       "       [  3.1161  ,   3.9108  ,   6.4346  , ...,   9.1431  ,   8.2644  ,\n",
       "          1.0751  ],\n",
       "       ..., \n",
       "       [  0.23001 ,  -0.3394  ,   0.17475 , ...,   0.50543 ,   0.2249  ,\n",
       "         -0.56077 ],\n",
       "       [ -0.54544 ,  -2.0161  ,  -0.74392 , ...,  -1.7718  ,  -1.0277  ,\n",
       "         -0.14971 ],\n",
       "       [  0.31035 ,   0.40981 ,   0.050748, ...,  -0.30271 ,  -0.53722 ,\n",
       "         -0.13597 ]])"
      ]
     },
     "execution_count": 221,
     "metadata": {},
     "output_type": "execute_result"
    }
   ],
   "source": [
    "b_new"
   ]
  },
  {
   "cell_type": "code",
   "execution_count": 222,
   "metadata": {
    "collapsed": true
   },
   "outputs": [],
   "source": [
    "# probability density function\n",
    "def density_func(b_new,ubm_means,ubm_var,T_value_1,K_value_1):\n",
    "    D=b_new.shape[0]\n",
    "    prob=(1/((2*math.pi)**(D/2)*(np.linalg.det(ubm_var[K_value_1,:,:]))**(1/2)))*\\\n",
    "    np.exp((-0.5)*np.dot(np.dot((b_new[:,T_value_1]-ubm_means[K_value_1]).T,np.linalg.inv(ubm_var[K_value_1,:,:])),(b_new[:,T_value_1]-ubm_means[K_value_1])))\n",
    "    return prob\n",
    "    "
   ]
  },
  {
   "cell_type": "code",
   "execution_count": 224,
   "metadata": {
    "collapsed": true
   },
   "outputs": [],
   "source": [
    "#calculate the naive GMM-UBM\n",
    "def naive_G_U(b_new,ubm_means,ubm_var,ubm_weights,T_value):\n",
    "    ubm_value_set=[]\n",
    "    for t in range(T_value): \n",
    "        ubm_pdf=0\n",
    "        for i in range(K_value):                                                      \n",
    "            ubm_pdf+=ubm_weights[i]*density_func(b_new,ubm_means,ubm_var,t,i)\n",
    "        #print(ubm_pdf)\n",
    "        ubm_value_set.append(ubm_pdf)\n",
    "        #prob_ubm=np.array(prob_ubm)\n",
    "       # ubm_value = np.dot(ubm_weights,prob_ubm)\n",
    "        #ubm_value = np.dot(ubm_weights,prob_ubm).flatten()\n",
    "    ubm_value_set=np.array(ubm_value_set)\n",
    "    return ubm_value_set"
   ]
  },
  {
   "cell_type": "code",
   "execution_count": 225,
   "metadata": {},
   "outputs": [
    {
     "name": "stdout",
     "output_type": "stream",
     "text": [
      "18.15688943862915\n"
     ]
    }
   ],
   "source": [
    "start=time.time()\n",
    "ubm_value_set=naive_G_U(b_new,ubm_means,ubm_var,ubm_weights,T_value)\n",
    "print(time.time()-start)"
   ]
  },
  {
   "cell_type": "code",
   "execution_count": 228,
   "metadata": {},
   "outputs": [
    {
     "data": {
      "text/plain": [
       "(2671,)"
      ]
     },
     "execution_count": 228,
     "metadata": {},
     "output_type": "execute_result"
    }
   ],
   "source": [
    "ubm_value_set.shape"
   ]
  },
  {
   "cell_type": "markdown",
   "metadata": {},
   "source": [
    "## 5.2 Speaker models adaption"
   ]
  },
  {
   "cell_type": "markdown",
   "metadata": {},
   "source": [
    "GMM model for a particular speaker with his training data is adapted from the UBM-GMM in equation by modifying the parameters $\\omega_{UBM,k},\\mu_{UBM,k},C_{UBM,K}$,first we calcualte the posteriori probability $$p=\\frac{a}{b},1\\leq t\\leq T$$"
   ]
  },
  {
   "cell_type": "markdown",
   "metadata": {},
   "source": [
    "### 5.2.1 posteriori probability"
   ]
  },
  {
   "cell_type": "code",
   "execution_count": 229,
   "metadata": {},
   "outputs": [
    {
     "data": {
      "text/plain": [
       "array([  3.60365525e-13,   6.33783317e-16,   1.05379717e-13, ...,\n",
       "         3.57853149e-15,   3.26261320e-15,   3.33183198e-13])"
      ]
     },
     "execution_count": 229,
     "metadata": {},
     "output_type": "execute_result"
    }
   ],
   "source": [
    "ubm_value_set"
   ]
  },
  {
   "cell_type": "code",
   "execution_count": 230,
   "metadata": {
    "collapsed": true
   },
   "outputs": [],
   "source": [
    "def post_prob_model(b_new,ubm_weights,ubm_means,ubm_var,ubm_value_set,T_value):\n",
    "    model_set=[] #include 49 models\n",
    "    for k in range(K_value):\n",
    "        frame_set=[] #include number of frames\n",
    "        for t in range(T_value):\n",
    "            frame_set.append(ubm_weights[k]*density_func(b_new,ubm_means,ubm_var,t,k)/ubm_value_set[t])\n",
    "        frame_set=np.array(frame_set)\n",
    "        model_set.append(frame_set)\n",
    "    model_set=np.array(model_set)\n",
    "    return model_set.reshape(model_set.shape[0],model_set.shape[1])"
   ]
  },
  {
   "cell_type": "code",
   "execution_count": 231,
   "metadata": {
    "collapsed": true
   },
   "outputs": [],
   "source": [
    "model_set=post_prob_model(b_new,ubm_weights,ubm_means,ubm_var,ubm_value_set,T_value)"
   ]
  },
  {
   "cell_type": "code",
   "execution_count": 232,
   "metadata": {},
   "outputs": [
    {
     "data": {
      "text/plain": [
       "(49, 2671)"
      ]
     },
     "execution_count": 232,
     "metadata": {},
     "output_type": "execute_result"
    }
   ],
   "source": [
    "model_set.shape"
   ]
  },
  {
   "cell_type": "markdown",
   "metadata": {},
   "source": [
    "\n",
    "### 5.2.2 Mean"
   ]
  },
  {
   "cell_type": "code",
   "execution_count": 233,
   "metadata": {
    "collapsed": true
   },
   "outputs": [],
   "source": [
    "def mu_model(model_set,b_new):\n",
    "    #b_new: features*frames\n",
    "    #model_set:models*frames\n",
    "    value_temp=np.dot(model_set,b_new.T)\n",
    "    mu_ubm=np.multiply((1/np.sum(model_set,axis=1)),value_temp.T)\n",
    "    return mu_ubm.T"
   ]
  },
  {
   "cell_type": "code",
   "execution_count": 234,
   "metadata": {
    "collapsed": true
   },
   "outputs": [],
   "source": [
    "mu_ubm=mu_model(model_set,b_new)"
   ]
  },
  {
   "cell_type": "code",
   "execution_count": 235,
   "metadata": {},
   "outputs": [
    {
     "data": {
      "text/plain": [
       "(49, 15)"
      ]
     },
     "execution_count": 235,
     "metadata": {},
     "output_type": "execute_result"
    }
   ],
   "source": [
    "mu_ubm.shape"
   ]
  },
  {
   "cell_type": "code",
   "execution_count": 236,
   "metadata": {},
   "outputs": [
    {
     "data": {
      "text/plain": [
       "array([[ -1.57931181e+01,   7.91791964e-01,   4.59837359e+00,\n",
       "         -3.43739456e+00,  -1.06813053e+00,   3.16678183e-02,\n",
       "         -6.28642253e-01,  -2.35256808e-01,   2.78392855e-01,\n",
       "         -9.87782872e-01,   5.09188701e-01,   5.32480089e-01,\n",
       "         -3.24817047e-01,  -8.13959002e-01,   1.55640019e-01],\n",
       "       [  1.36922043e+01,  -4.62969801e+00,   3.34320946e+00,\n",
       "         -3.38124195e+00,  -2.13308644e+00,  -1.45680891e+00,\n",
       "         -5.07966256e+00,   9.64441246e-01,  -7.95350760e-01,\n",
       "         -2.32006870e-01,  -7.95873332e-01,   1.91371804e-01,\n",
       "          1.24039194e+00,  -9.86626343e-01,  -8.25851051e-01],\n",
       "       [  6.36650338e+00,   1.22485044e-01,   1.20205178e+01,\n",
       "         -4.07634452e+00,  -4.02033971e+00,   2.75620493e-01,\n",
       "         -1.49105425e+00,  -1.07570355e+00,  -2.93623532e+00,\n",
       "          2.03080198e-01,   2.50940567e-01,  -1.72262046e+00,\n",
       "          3.57359657e-01,  -1.03888659e+00,  -7.29893067e-01],\n",
       "       [  1.85751300e+01,  -3.27098998e+00,  -1.56016636e+00,\n",
       "          3.22529567e+00,  -2.56960412e+00,  -2.57507172e+00,\n",
       "         -4.25235579e+00,   1.11185682e+00,  -5.97210105e-01,\n",
       "         -1.63863567e+00,  -2.31898513e-01,   7.19002431e-01,\n",
       "          3.53850716e-01,  -4.45300758e-01,   5.60635030e-01],\n",
       "       [ -5.01516928e+00,  -2.12823856e+00,   9.23926459e-01,\n",
       "         -2.26949767e+00,  -1.14735022e+00,  -1.38378502e+00,\n",
       "         -5.50146250e-01,  -3.92746350e-01,  -5.12514617e-01,\n",
       "         -3.57484629e-01,   3.84112170e-02,   2.49240418e-01,\n",
       "         -4.20572418e-01,  -4.33450377e-01,   9.19912875e-03],\n",
       "       [  8.44214026e+00,   1.92322755e+00,   7.71534356e+00,\n",
       "          6.31197713e-02,  -3.11639235e+00,  -1.55637646e+00,\n",
       "         -6.95209080e-01,  -7.78688685e-01,  -2.06294996e+00,\n",
       "         -9.26550301e-01,  -3.22753746e-02,  -2.73910951e-01,\n",
       "          1.58110864e-02,  -2.37426732e-01,  -6.98431827e-02],\n",
       "       [  1.84592323e+01,   3.52386071e+00,  -1.10398146e+00,\n",
       "         -9.72466321e+00,  -1.88865892e+00,   2.07096519e+00,\n",
       "         -3.91889508e+00,  -4.69908933e-01,  -2.56016425e+00,\n",
       "          7.94428433e-02,  -8.30090366e-01,   7.13194347e-01,\n",
       "         -1.89278638e-01,  -1.07858434e+00,   5.06264268e-01],\n",
       "       [  1.39198009e+01,  -3.52571146e+00,   2.21873814e+00,\n",
       "         -7.58798213e-01,  -4.08913575e+00,  -1.40935989e+00,\n",
       "         -2.38873865e+00,  -2.58214148e-01,  -2.98013733e-01,\n",
       "         -1.14549467e+00,  -5.36788612e-01,   1.76094275e-01,\n",
       "          3.26145469e-01,  -3.01939721e-01,  -6.52516151e-01],\n",
       "       [  1.82615665e+01,   4.69431055e+00,   4.95453514e-01,\n",
       "         -3.20161209e+00,  -6.48774462e+00,   1.26345101e+00,\n",
       "         -1.01867492e+00,  -2.70954913e-01,  -1.85717470e+00,\n",
       "         -5.51675448e-01,  -1.05378820e+00,   7.26519509e-02,\n",
       "          5.54196495e-01,  -2.45526861e-01,   3.56977667e-01],\n",
       "       [ -1.58599404e+01,   6.39899886e+00,  -3.58559167e+00,\n",
       "         -1.88565250e+00,   1.84959913e+00,  -3.25332422e+00,\n",
       "          6.72618850e-01,  -3.56705866e-01,  -4.83658723e-01,\n",
       "          3.12752051e-01,  -5.17532062e-01,   6.61369189e-01,\n",
       "         -3.56168548e-01,  -2.60526110e-01,  -9.77263104e-02],\n",
       "       [  1.14662789e+01,  -3.97890770e+00,  -2.46785992e+00,\n",
       "         -2.30260380e+00,  -1.28747578e+00,  -2.14427498e+00,\n",
       "         -1.19552955e+00,  -1.16982237e+00,   1.08887690e+00,\n",
       "         -8.85662552e-01,   1.20245338e-01,   1.68711391e-02,\n",
       "          3.50917826e-01,  -5.28204981e-01,  -5.67132821e-01],\n",
       "       [  5.82231238e+00,   3.61370877e+00,   1.15663210e+01,\n",
       "         -4.69486412e+00,  -3.58723685e+00,   2.78940339e-01,\n",
       "         -1.28513605e+00,  -2.38330868e+00,  -1.75949362e+00,\n",
       "         -2.38376615e-03,  -8.84436131e-01,  -1.23365093e+00,\n",
       "          4.22729180e-01,  -7.20356907e-01,  -9.69946527e-01],\n",
       "       [  1.06052492e+01,   2.45791349e+00,   2.38797011e+00,\n",
       "         -5.73131157e-01,  -6.98649979e-01,  -1.82539604e+00,\n",
       "         -3.12794537e+00,  -9.95353234e-01,   5.17192331e-01,\n",
       "         -9.23327274e-01,  -1.35262901e+00,   1.15543229e-02,\n",
       "          6.45527649e-01,  -9.07339779e-02,  -6.98588167e-01],\n",
       "       [  1.25810325e+01,   4.35118950e+00,   2.16458639e+00,\n",
       "          4.92496666e-01,  -4.58762608e+00,  -1.23956228e+00,\n",
       "         -7.57330581e-01,  -1.07394774e+00,  -1.68280673e+00,\n",
       "         -9.52843374e-01,  -1.60849067e+00,   8.57760578e-01,\n",
       "          2.72344445e-01,  -7.82500082e-01,  -2.36956598e-01],\n",
       "       [  1.14934758e+01,  -2.63306588e+00,   2.94295580e+00,\n",
       "         -3.21603702e+00,  -2.13663222e+00,  -3.85735266e+00,\n",
       "         -2.82142767e+00,   3.08976723e-02,  -1.28058429e+00,\n",
       "         -7.71001293e-01,  -7.14592879e-01,   1.63575197e+00,\n",
       "          6.31725907e-02,  -1.16350099e+00,  -6.24941492e-01],\n",
       "       [ -1.48163874e+01,  -8.11178415e-01,   5.51687052e+00,\n",
       "         -2.49622806e+00,  -2.62937468e+00,   6.51366976e-01,\n",
       "         -1.09507512e-01,  -8.12954745e-01,   4.23705713e-01,\n",
       "         -4.87431398e-01,  -3.41763389e-01,   4.79773681e-01,\n",
       "         -2.13744963e-02,  -6.50574424e-01,   3.96087739e-02],\n",
       "       [  1.00645315e+00,  -2.36104511e+00,  -1.51905155e+00,\n",
       "         -6.88857262e-03,   1.34870951e+00,  -2.26608004e+00,\n",
       "         -1.21260371e+00,   1.35763251e+00,   3.72420672e-01,\n",
       "          2.95674721e-01,  -4.09336091e-01,   6.54291773e-01,\n",
       "          4.80948105e-01,   6.74064177e-02,   2.85868023e-02],\n",
       "       [  1.75326742e+01,  -2.58184354e+00,   2.40877889e+00,\n",
       "         -2.24829626e+00,  -1.37954993e+00,   3.58742792e-01,\n",
       "         -4.63398611e+00,  -1.41813372e+00,  -4.54010882e-01,\n",
       "         -5.43676806e-02,  -4.67532471e-01,  -6.35257869e-01,\n",
       "          4.48008847e-01,   6.87646394e-01,  -2.03795467e-02],\n",
       "       [  3.92061072e+00,  -2.83204668e+00,   8.59942903e+00,\n",
       "         -5.07110489e+00,  -3.56096284e+00,  -1.97967468e+00,\n",
       "         -2.85513549e+00,  -2.46447774e+00,  -4.61371830e+00,\n",
       "         -1.19249114e+00,  -2.81479501e+00,  -3.46552224e+00,\n",
       "         -2.40882247e+00,  -3.14942675e+00,  -1.98008031e+00],\n",
       "       [  7.71551262e+00,  -4.64245305e+00,   3.96018575e+00,\n",
       "         -4.81035134e+00,  -3.57085628e+00,  -1.44807805e+00,\n",
       "         -4.13865515e-01,  -1.88091616e-01,  -2.34089187e+00,\n",
       "         -5.76433488e-01,  -4.38482860e-01,  -1.92668810e-01,\n",
       "         -9.76289112e-01,  -1.32176622e+00,  -7.65978206e-01],\n",
       "       [  1.77929855e+01,  -8.93522753e+00,  -3.44433901e+00,\n",
       "         -5.43194251e+00,  -1.02682740e+00,   5.50362937e-01,\n",
       "         -2.15338042e+00,  -2.98504592e-01,  -5.92350022e-02,\n",
       "          5.08285962e-01,  -8.90120444e-01,  -1.46698928e+00,\n",
       "          8.67434117e-03,   1.94084915e-01,  -2.60946503e-01],\n",
       "       [ -3.62764217e+00,  -7.74932183e-01,  -8.31893014e-01,\n",
       "         -7.21892264e-01,   1.56506447e-02,  -8.15378948e-01,\n",
       "         -3.53445237e-01,   7.01933518e-02,   1.73350378e-01,\n",
       "          1.97564442e-01,   7.64066863e-02,   3.69031131e-01,\n",
       "         -4.88612768e-02,  -1.15570820e-01,   1.01249253e-02],\n",
       "       [  2.27476929e+01,  -3.92618386e+00,  -8.18002050e+00,\n",
       "          7.64432360e-01,   8.39738095e-02,  -2.63142065e+00,\n",
       "         -5.75897009e+00,   2.07300398e+00,  -9.19424003e-01,\n",
       "         -8.91878375e-01,   2.37247323e-01,   2.36105575e-02,\n",
       "         -1.27742145e-01,  -5.67774147e-01,   6.72775342e-01],\n",
       "       [  1.51894439e+01,  -8.62377266e+00,   1.71033679e+00,\n",
       "         -3.69183138e+00,  -3.53257517e+00,  -2.57453277e+00,\n",
       "         -2.08973474e+00,   1.65993877e+00,  -1.31597431e+00,\n",
       "         -6.98858569e-01,  -4.01644388e-01,  -1.27438156e-01,\n",
       "         -2.47180915e-01,  -1.06171798e+00,  -8.29701299e-01],\n",
       "       [  1.46577870e+01,  -9.95991281e+00,  -1.33487009e+00,\n",
       "         -5.10879475e+00,   3.52012740e-02,  -1.32034034e+00,\n",
       "         -1.73480498e+00,   2.48602352e-01,  -2.75458903e-01,\n",
       "         -7.62424197e-01,  -1.52624980e+00,   1.36900052e-01,\n",
       "          1.43899085e-01,  -2.66380075e-01,  -9.08638511e-01],\n",
       "       [  1.06242417e+01,   8.44496093e+00,   4.38543065e+00,\n",
       "          2.68027934e+00,   2.35524906e+00,   1.28820816e+00,\n",
       "         -7.24421992e-01,  -7.67568120e-01,  -1.10300607e+00,\n",
       "         -5.53343073e-01,  -1.24791158e-01,  -3.84037310e-01,\n",
       "         -8.27940293e-01,  -1.32429544e+00,  -7.41056846e-01],\n",
       "       [  1.32041679e+01,   4.17478298e+00,   2.95725996e+00,\n",
       "          6.47853767e-01,  -4.86736873e+00,  -8.45765320e-01,\n",
       "         -6.01382842e-01,  -1.17814857e+00,  -1.76815536e+00,\n",
       "         -4.60802268e-02,  -1.51856105e+00,  -3.30850262e-01,\n",
       "          2.86724048e-01,  -5.09698913e-01,  -4.56190495e-01],\n",
       "       [ -1.22906915e+01,   3.24982841e+00,  -5.17619999e-01,\n",
       "         -3.84305047e+00,   2.10291048e+00,  -2.69020729e+00,\n",
       "         -1.03040792e+00,   1.16550258e+00,  -5.35449916e-01,\n",
       "          2.83981015e-01,  -1.45964202e-01,   3.47678729e-01,\n",
       "          1.84757843e-01,  -1.52468982e-01,  -1.24991662e-01],\n",
       "       [  1.39991955e+01,  -1.41395039e+00,   1.92922965e+00,\n",
       "         -4.90112318e+00,   7.23236697e-01,  -1.05236331e+00,\n",
       "         -5.43922798e+00,  -1.38843142e+00,  -4.52004089e-01,\n",
       "          8.04130855e-01,  -1.45945171e+00,  -1.03959654e-01,\n",
       "          4.48355787e-01,  -1.53723361e-03,  -2.43114292e-01],\n",
       "       [  1.76037025e+01,  -8.44128843e+00,  -1.23510111e+00,\n",
       "         -1.55831631e+00,  -1.38198924e+00,  -4.21935480e+00,\n",
       "         -4.38639884e+00,   2.51825439e+00,  -2.88242721e+00,\n",
       "         -4.99963262e-01,  -5.63346217e-01,   4.17200550e-02,\n",
       "         -1.09875949e+00,  -6.26069300e-01,  -8.26674572e-01],\n",
       "       [  1.24239759e+01,  -3.44576432e+00,   8.39584362e+00,\n",
       "         -1.75397875e+00,  -4.51685771e+00,  -2.39414915e+00,\n",
       "         -2.48955069e+00,   1.48808306e-01,  -2.88685491e+00,\n",
       "         -1.18908384e+00,   7.45277177e-01,   8.30397450e-02,\n",
       "          6.88058133e-01,  -4.88426474e-01,   2.48018695e-01],\n",
       "       [  1.94166624e+01,  -2.50276072e+00,  -2.13871253e+00,\n",
       "         -9.02035617e+00,  -1.89806094e+00,   3.45154752e+00,\n",
       "         -3.37156043e+00,  -1.22430542e+00,  -1.64119720e+00,\n",
       "          1.90952131e-01,  -1.41711653e-01,   6.75445889e-02,\n",
       "         -2.47905664e-01,  -8.07012223e-01,   1.34948736e-01],\n",
       "       [  1.40137809e+01,   4.41012222e+00,   6.99389190e-01,\n",
       "         -1.52398529e-01,   2.99366725e-01,   6.43803425e-03,\n",
       "         -1.68848112e+00,  -1.93727142e+00,  -9.79849390e-01,\n",
       "         -1.58382092e-01,  -1.66767815e-01,  -4.43287289e-01,\n",
       "         -5.08870407e-01,  -7.87976556e-01,  -4.81330204e-01],\n",
       "       [  3.27325914e+00,  -4.11498727e+00,  -3.11647322e+00,\n",
       "         -1.19261930e+00,   1.60254351e+00,  -1.32976000e+00,\n",
       "         -2.21706082e+00,  -5.63255908e-01,   2.16034701e-01,\n",
       "          8.76663537e-01,   1.77534726e-01,   5.67147815e-02,\n",
       "          1.80651370e-01,   3.55506465e-02,   1.79078213e-01],\n",
       "       [  1.85970098e+01,  -6.04849484e-01,  -3.08999592e+00,\n",
       "         -7.05773590e+00,  -1.96801587e+00,   1.75151170e+00,\n",
       "         -1.45653011e+00,  -2.29618590e+00,  -7.35573488e-01,\n",
       "         -7.91589376e-02,  -2.79469227e-01,   2.20301295e-01,\n",
       "         -6.59268899e-01,  -3.95828935e-01,  -1.22421561e-01],\n",
       "       [  1.91574144e+01,  -7.38173600e+00,  -3.42579643e-01,\n",
       "          9.35233191e-01,  -2.71425417e+00,  -4.01702899e+00,\n",
       "         -4.75158879e+00,   2.99690187e+00,  -2.10138849e+00,\n",
       "         -1.64431951e+00,   5.29320103e-01,  -5.52291979e-03,\n",
       "          9.38677277e-02,  -1.11565378e-01,   6.36219759e-01],\n",
       "       [  1.62414418e+01,  -7.18767481e+00,  -3.12462188e+00,\n",
       "         -7.49734147e+00,   1.57969572e+00,   9.90832114e-01,\n",
       "         -3.15404053e+00,  -1.54672829e+00,  -3.45019558e-01,\n",
       "          5.63859189e-01,  -8.81552801e-01,  -2.75581500e-01,\n",
       "         -6.09339291e-01,  -1.69024698e-01,  -3.45321336e-01],\n",
       "       [  2.09372206e+01,  -5.61206829e-01,  -3.42001657e+00,\n",
       "         -4.49098479e+00,  -1.29080195e+00,   9.71179856e-01,\n",
       "         -3.27805195e+00,  -9.20809840e-01,  -3.20317268e+00,\n",
       "         -6.81485002e-01,   2.60181526e-01,   9.27977564e-01,\n",
       "         -1.53976126e-01,  -1.74456664e-03,   1.04335324e+00],\n",
       "       [  1.98301143e+01,  -7.34279921e+00,  -5.68871038e+00,\n",
       "         -1.83036306e+00,  -2.36809007e+00,  -7.24535828e-01,\n",
       "         -3.73633194e+00,   6.94378299e-01,  -1.35600495e+00,\n",
       "         -2.92939741e-02,   3.44409991e-01,   1.64176995e-01,\n",
       "         -8.77794191e-01,  -9.11228741e-01,   6.00555484e-01],\n",
       "       [  1.12957537e+01,  -2.36478751e+00,   4.32881377e+00,\n",
       "         -2.96020459e+00,  -5.36164496e+00,  -1.54030427e+00,\n",
       "         -2.19781056e+00,   4.75876013e-01,  -1.94082620e+00,\n",
       "         -4.17129392e-01,  -4.69588102e-02,  -2.31270001e-02,\n",
       "          2.30654970e-01,  -8.84259254e-01,  -1.02943131e-01],\n",
       "       [  9.09285108e+00,  -5.17834737e-01,   1.02104252e+01,\n",
       "         -5.32556662e+00,  -4.53007907e+00,  -1.48807086e+00,\n",
       "         -1.57216377e+00,  -1.13132250e+00,  -2.85407023e+00,\n",
       "          1.34834027e+00,  -2.77561716e-01,  -2.89296135e-01,\n",
       "          1.57472399e-01,  -3.86724630e-01,  -7.56507940e-01],\n",
       "       [  1.23142234e+01,  -8.01197240e+00,  -1.36613372e+00,\n",
       "         -5.43915402e+00,  -3.61361148e+00,  -2.35006588e+00,\n",
       "         -4.30001759e+00,  -1.34332002e+00,  -3.37260019e+00,\n",
       "         -2.14547366e+00,  -2.70914131e+00,  -1.63735144e+00,\n",
       "         -2.06403402e+00,  -3.10999063e+00,  -2.65149975e+00],\n",
       "       [  1.24396123e+01,  -1.98043546e+00,   6.09255416e+00,\n",
       "         -1.47413276e+00,  -2.78487493e+00,  -1.88705680e+00,\n",
       "         -4.18742724e+00,   8.08548258e-01,  -2.08886197e+00,\n",
       "         -1.55011358e+00,  -4.17871257e-01,   1.44240223e-01,\n",
       "          1.47235068e+00,  -7.69849340e-01,  -5.46434100e-02],\n",
       "       [ -4.28631152e+00,  -2.26723668e+00,   3.13264992e+00,\n",
       "         -2.56466683e+00,  -1.26850092e+00,  -1.57460202e+00,\n",
       "          5.90935906e-01,   1.49239374e-01,  -3.77352997e-01,\n",
       "          1.94464542e-01,   8.39570424e-01,   5.96856206e-01,\n",
       "         -1.07844079e-01,  -2.80845715e-01,   2.51328416e-01],\n",
       "       [ -1.52252378e+01,   6.32201236e+00,  -4.83710692e+00,\n",
       "          4.85206733e-03,  -1.45720040e-02,  -2.00121472e+00,\n",
       "          1.00432926e+00,  -9.71211975e-01,   9.59776981e-02,\n",
       "         -3.49325513e-01,   8.70850555e-02,   5.62583960e-01,\n",
       "         -4.38276322e-01,  -1.45155257e-01,  -9.96047450e-02],\n",
       "       [ -7.95075249e-01,  -5.09498948e+00,   6.81908651e-01,\n",
       "         -1.66129899e+00,  -8.03011506e-01,  -3.06609501e+00,\n",
       "         -5.73830911e-01,   1.00584910e+00,  -7.74311526e-01,\n",
       "         -7.48805044e-01,   4.06195563e-01,   1.04071713e+00,\n",
       "         -5.22238890e-01,  -5.95037828e-01,   1.38937827e-01],\n",
       "       [  1.33190888e+01,   2.12716411e+00,   2.19106582e+00,\n",
       "          1.26448904e+00,  -4.12713224e+00,  -1.35394352e+00,\n",
       "         -1.83625640e+00,  -1.31664107e+00,  -1.87802647e+00,\n",
       "         -5.76887592e-02,  -6.50463988e-01,  -1.14310998e+00,\n",
       "         -3.93516353e-01,   1.06325001e-01,  -8.37222144e-01],\n",
       "       [  2.39136677e+00,  -1.08234588e+00,  -2.34158946e+00,\n",
       "         -3.48365862e+00,   1.16382489e+00,   5.17710544e-01,\n",
       "          1.97055302e-01,  -9.23737465e-01,   6.30910577e-03,\n",
       "          2.61179301e-01,  -1.26305103e-02,   3.84409129e-01,\n",
       "         -2.16763411e-01,  -4.47905000e-01,  -2.57088406e-02],\n",
       "       [ -2.88822808e+00,   6.71832289e+00,   1.39419144e+00,\n",
       "         -4.37039980e-01,   1.18418648e+00,  -1.96605747e+00,\n",
       "         -5.87460276e-01,  -9.29443135e-01,  -4.40426269e-01,\n",
       "         -7.22574887e-01,  -9.11071977e-01,  -7.93556729e-02,\n",
       "         -4.91676773e-01,  -5.40418803e-01,  -3.73240354e-01]])"
      ]
     },
     "execution_count": 236,
     "metadata": {},
     "output_type": "execute_result"
    }
   ],
   "source": [
    "mu_ubm"
   ]
  },
  {
   "cell_type": "markdown",
   "metadata": {
    "collapsed": true
   },
   "source": [
    "### 5.2.3 Covariance"
   ]
  },
  {
   "cell_type": "code",
   "execution_count": 237,
   "metadata": {},
   "outputs": [
    {
     "data": {
      "text/plain": [
       "'\\ndef cov_model(model_set,b_new,mu_ubm,T_value):\\n    value_temp = []\\n    b_temp = []\\n    sum_temp=[]\\n    mu_temp =[]\\n    cov_set =[]\\n    #calculate mu*mu.T\\n    for m in range(K_value):\\n        mu_temp.append(np.diag(mu_ubm[m,:]**2))\\n    mu_temp=np.array(mu_temp)\\n    #calculate b*b.T\\n    for t in range(T_value):\\n        b_temp.append((b_new[:,t]**2))\\n    b_temp=np.array(b_temp)\\n    print(b_temp.shape)\\n    #calculate sum(p(k|b)*b*b.T)\\n    value_temp=np.dot(model_set,b_temp)\\n    #value_temp=value_temp.reshape(K_value,15,15)\\n    #sum(p(k|b))\\n    sum_value = np.sum(model_set,axis=1)\\n    #calculate cov\\n    for k in range(K_value):\\n        cov_set.append(np.diag((1/sum_value[k])*value_temp[k])-mu_temp[k,:,:])\\n    cov_set=np.array(cov_set)\\n    return cov_set\\n'"
      ]
     },
     "execution_count": 237,
     "metadata": {},
     "output_type": "execute_result"
    }
   ],
   "source": [
    "'''\n",
    "def cov_model(model_set,b_new,mu_ubm,T_value):\n",
    "    value_temp = []\n",
    "    b_temp = []\n",
    "    sum_temp=[]\n",
    "    mu_temp =[]\n",
    "    cov_set =[]\n",
    "    #calculate mu*mu.T\n",
    "    for m in range(K_value):\n",
    "        mu_temp.append(np.diag(mu_ubm[m,:]**2))\n",
    "    mu_temp=np.array(mu_temp)\n",
    "    #calculate b*b.T\n",
    "    for t in range(T_value):\n",
    "        b_temp.append((b_new[:,t]**2))\n",
    "    b_temp=np.array(b_temp)\n",
    "    print(b_temp.shape)\n",
    "    #calculate sum(p(k|b)*b*b.T)\n",
    "    value_temp=np.dot(model_set,b_temp)\n",
    "    #value_temp=value_temp.reshape(K_value,15,15)\n",
    "    #sum(p(k|b))\n",
    "    sum_value = np.sum(model_set,axis=1)\n",
    "    #calculate cov\n",
    "    for k in range(K_value):\n",
    "        cov_set.append(np.diag((1/sum_value[k])*value_temp[k])-mu_temp[k,:,:])\n",
    "    cov_set=np.array(cov_set)\n",
    "    return cov_set\n",
    "'''"
   ]
  },
  {
   "cell_type": "code",
   "execution_count": 238,
   "metadata": {
    "collapsed": true
   },
   "outputs": [],
   "source": [
    "def cov_model(model_set,b_new,mu_ubm,T_value):\n",
    "    #mu_ubm: models*features\n",
    "    #b_new: features*frames\n",
    "    #model_set:models*frames\n",
    "    cov_set =[]\n",
    "    #calculate mu*mu.T\n",
    "    for k in range(K_value):\n",
    "        mu_temp=np.dot(mu_ubm[k,:].reshape(-1,1),mu_ubm[k,:].reshape(1,-1))\n",
    "        #print(mu_temp.shape)\n",
    "        value_temp=1/np.sum(model_set[k,:])\n",
    "        sum_temp=0\n",
    "        for t in range(T_value):\n",
    "            b_temp=np.dot(b_new[:,t].reshape(-1,1),b_new[:,t].reshape(1,-1))\n",
    "            #print(b_temp.shape)\n",
    "            sum_temp+=model_set[k,t]*b_temp\n",
    "        #print(np.diag(value_temp*sum_temp-mu_temp).shape)\n",
    "        cov_set.append(np.diag(np.diag(value_temp*sum_temp-mu_temp)))\n",
    "    cov_set=np.array(cov_set)\n",
    "    return cov_set"
   ]
  },
  {
   "cell_type": "code",
   "execution_count": 239,
   "metadata": {},
   "outputs": [
    {
     "data": {
      "text/plain": [
       "(49, 15, 15)"
      ]
     },
     "execution_count": 239,
     "metadata": {},
     "output_type": "execute_result"
    }
   ],
   "source": [
    "cov_set=[]\n",
    "cov_set = cov_model(model_set,b_new,mu_ubm,T_value)\n",
    "cov_set.shape"
   ]
  },
  {
   "cell_type": "code",
   "execution_count": 240,
   "metadata": {},
   "outputs": [
    {
     "data": {
      "text/plain": [
       "array([[[ 10.46009253,   0.        ,   0.        , ...,   0.        ,\n",
       "           0.        ,   0.        ],\n",
       "        [  0.        ,   2.38779016,   0.        , ...,   0.        ,\n",
       "           0.        ,   0.        ],\n",
       "        [  0.        ,   0.        ,   1.82650023, ...,   0.        ,\n",
       "           0.        ,   0.        ],\n",
       "        ..., \n",
       "        [  0.        ,   0.        ,   0.        , ...,   0.41295858,\n",
       "           0.        ,   0.        ],\n",
       "        [  0.        ,   0.        ,   0.        , ...,   0.        ,\n",
       "           0.58551011,   0.        ],\n",
       "        [  0.        ,   0.        ,   0.        , ...,   0.        ,\n",
       "           0.        ,   0.50132942]],\n",
       "\n",
       "       [[  8.46229927,   0.        ,   0.        , ...,   0.        ,\n",
       "           0.        ,   0.        ],\n",
       "        [  0.        ,   9.90283663,   0.        , ...,   0.        ,\n",
       "           0.        ,   0.        ],\n",
       "        [  0.        ,   0.        ,   8.12920397, ...,   0.        ,\n",
       "           0.        ,   0.        ],\n",
       "        ..., \n",
       "        [  0.        ,   0.        ,   0.        , ...,   0.71468861,\n",
       "           0.        ,   0.        ],\n",
       "        [  0.        ,   0.        ,   0.        , ...,   0.        ,\n",
       "           1.07353359,   0.        ],\n",
       "        [  0.        ,   0.        ,   0.        , ...,   0.        ,\n",
       "           0.        ,   0.72173082]],\n",
       "\n",
       "       [[  6.34164559,   0.        ,   0.        , ...,   0.        ,\n",
       "           0.        ,   0.        ],\n",
       "        [  0.        ,   5.98074452,   0.        , ...,   0.        ,\n",
       "           0.        ,   0.        ],\n",
       "        [  0.        ,   0.        ,   2.14693853, ...,   0.        ,\n",
       "           0.        ,   0.        ],\n",
       "        ..., \n",
       "        [  0.        ,   0.        ,   0.        , ...,   1.03454416,\n",
       "           0.        ,   0.        ],\n",
       "        [  0.        ,   0.        ,   0.        , ...,   0.        ,\n",
       "           0.50239628,   0.        ],\n",
       "        [  0.        ,   0.        ,   0.        , ...,   0.        ,\n",
       "           0.        ,   0.71949109]],\n",
       "\n",
       "       ..., \n",
       "       [[  6.66820664,   0.        ,   0.        , ...,   0.        ,\n",
       "           0.        ,   0.        ],\n",
       "        [  0.        ,   8.6994417 ,   0.        , ...,   0.        ,\n",
       "           0.        ,   0.        ],\n",
       "        [  0.        ,   0.        ,   5.48105594, ...,   0.        ,\n",
       "           0.        ,   0.        ],\n",
       "        ..., \n",
       "        [  0.        ,   0.        ,   0.        , ...,   1.56868445,\n",
       "           0.        ,   0.        ],\n",
       "        [  0.        ,   0.        ,   0.        , ...,   0.        ,\n",
       "           1.19848824,   0.        ],\n",
       "        [  0.        ,   0.        ,   0.        , ...,   0.        ,\n",
       "           0.        ,   1.17931323]],\n",
       "\n",
       "       [[ 20.30169339,   0.        ,   0.        , ...,   0.        ,\n",
       "           0.        ,   0.        ],\n",
       "        [  0.        ,  32.26767239,   0.        , ...,   0.        ,\n",
       "           0.        ,   0.        ],\n",
       "        [  0.        ,   0.        ,  14.93757886, ...,   0.        ,\n",
       "           0.        ,   0.        ],\n",
       "        ..., \n",
       "        [  0.        ,   0.        ,   0.        , ...,   1.02050994,\n",
       "           0.        ,   0.        ],\n",
       "        [  0.        ,   0.        ,   0.        , ...,   0.        ,\n",
       "           1.27198515,   0.        ],\n",
       "        [  0.        ,   0.        ,   0.        , ...,   0.        ,\n",
       "           0.        ,   0.60961438]],\n",
       "\n",
       "       [[ 54.29148374,   0.        ,   0.        , ...,   0.        ,\n",
       "           0.        ,   0.        ],\n",
       "        [  0.        ,  27.73520323,   0.        , ...,   0.        ,\n",
       "           0.        ,   0.        ],\n",
       "        [  0.        ,   0.        ,  14.43962051, ...,   0.        ,\n",
       "           0.        ,   0.        ],\n",
       "        ..., \n",
       "        [  0.        ,   0.        ,   0.        , ...,   1.04934769,\n",
       "           0.        ,   0.        ],\n",
       "        [  0.        ,   0.        ,   0.        , ...,   0.        ,\n",
       "           0.6275933 ,   0.        ],\n",
       "        [  0.        ,   0.        ,   0.        , ...,   0.        ,\n",
       "           0.        ,   0.5230115 ]]])"
      ]
     },
     "execution_count": 240,
     "metadata": {},
     "output_type": "execute_result"
    }
   ],
   "source": [
    "cov_set"
   ]
  },
  {
   "cell_type": "markdown",
   "metadata": {},
   "source": [
    "### 5.2.4 Weight "
   ]
  },
  {
   "cell_type": "markdown",
   "metadata": {},
   "source": [
    "weight of K mode"
   ]
  },
  {
   "cell_type": "code",
   "execution_count": 241,
   "metadata": {
    "collapsed": true
   },
   "outputs": [],
   "source": [
    "def weight_model(model_set,T_value):\n",
    "    return (1/T_value)*np.sum(model_set,axis=1)"
   ]
  },
  {
   "cell_type": "code",
   "execution_count": 242,
   "metadata": {
    "collapsed": true
   },
   "outputs": [],
   "source": [
    "weights_model=weight_model(model_set,T_value)"
   ]
  },
  {
   "cell_type": "code",
   "execution_count": 243,
   "metadata": {},
   "outputs": [
    {
     "data": {
      "text/plain": [
       "(49,)"
      ]
     },
     "execution_count": 243,
     "metadata": {},
     "output_type": "execute_result"
    }
   ],
   "source": [
    "weights_model.shape"
   ]
  },
  {
   "cell_type": "code",
   "execution_count": 244,
   "metadata": {},
   "outputs": [
    {
     "data": {
      "text/plain": [
       "array([ 0.01827909,  0.01496524,  0.01893136,  0.0115    ,  0.03222028,\n",
       "        0.01159928,  0.02532195,  0.00896702,  0.06916169,  0.07141957,\n",
       "        0.00587423,  0.01613838,  0.01393349,  0.01961844,  0.01431784,\n",
       "        0.01591978,  0.00549951,  0.00657159,  0.01867403,  0.01023497,\n",
       "        0.02582884,  0.03206474,  0.02805098,  0.02300143,  0.03825919,\n",
       "        0.00258692,  0.0046894 ,  0.00719538,  0.01115273,  0.00917845,\n",
       "        0.01341381,  0.0474403 ,  0.01380058,  0.0088919 ,  0.00415237,\n",
       "        0.02240504,  0.04298148,  0.01636647,  0.01628192,  0.02245766,\n",
       "        0.02305489,  0.07222784,  0.00864151,  0.018012  ,  0.02022246,\n",
       "        0.03254059,  0.00239887,  0.00582702,  0.01772747])"
      ]
     },
     "execution_count": 244,
     "metadata": {},
     "output_type": "execute_result"
    }
   ],
   "source": [
    "weights_model"
   ]
  },
  {
   "cell_type": "code",
   "execution_count": 245,
   "metadata": {},
   "outputs": [
    {
     "data": {
      "text/plain": [
       "2.36957481e-41"
      ]
     },
     "execution_count": 245,
     "metadata": {},
     "output_type": "execute_result"
    }
   ],
   "source": [
    "2.36957481e-41"
   ]
  },
  {
   "cell_type": "code",
   "execution_count": 246,
   "metadata": {},
   "outputs": [
    {
     "data": {
      "text/plain": [
       "0.99999999999999989"
      ]
     },
     "execution_count": 246,
     "metadata": {},
     "output_type": "execute_result"
    }
   ],
   "source": [
    "np.sum(weights_model)"
   ]
  },
  {
   "cell_type": "markdown",
   "metadata": {},
   "source": [
    "## 5.3 Speaker model adaption"
   ]
  },
  {
   "cell_type": "markdown",
   "metadata": {},
   "source": [
    "Now we combine the parameters $\\omega_{UBM,k},\\mu_{UBM,k},C_{UBM,K}$ of the k_th mode of the UBM-GMM with $\\omega_{UBM,k},\\mu_{UBM,k},C_{UBM,K}$ to obtain the paramenters of the adapted k-th mode of the speaker specific GMM:\n",
    "$$p=\\frac{a}{b},1\\leq t\\leq T$$"
   ]
  },
  {
   "cell_type": "code",
   "execution_count": 247,
   "metadata": {
    "collapsed": true
   },
   "outputs": [],
   "source": [
    "#gamma_UBM = 0.0000000000000000000000000000000001 \n",
    "#gamma_UBM=0.1\n",
    "#alpha = np.sum(model_set,axis=1)/(gamma_UBM+np.sum(model_set,axis=1))"
   ]
  },
  {
   "cell_type": "markdown",
   "metadata": {},
   "source": [
    "Function:adapted_mode to update k_th mode of the speaker specific GMM"
   ]
  },
  {
   "cell_type": "code",
   "execution_count": 380,
   "metadata": {
    "collapsed": true
   },
   "outputs": [],
   "source": [
    "def adapted_mode(model_set,mu_ubm,ubm_means,cov_set,ubm_var,weights_model,ubm_weights,gamma_UBM=1):\n",
    "    \n",
    "    #caculate alpha\n",
    "    alpha = np.sum(model_set,axis=1)/(gamma_UBM+np.sum(model_set,axis=1))\n",
    "\n",
    "    #caculate the adapted mean\n",
    "    new_mu=np.multiply(alpha,mu_ubm.T)+np.multiply((1-alpha),ubm_means.T)\n",
    "\n",
    "    #calculate adapted variance    \n",
    "    new_cov=np.multiply(alpha,cov_set.T)+np.multiply((1-alpha),ubm_var.T)\n",
    "    #print(new_cov[0])\n",
    "    #calculate adapted mean\n",
    "    new_weight=np.multiply(alpha,weights_model)+np.multiply((1-alpha),ubm_weights.ravel())\n",
    "    return new_mu.T,new_cov.T,new_weight.ravel()"
   ]
  },
  {
   "cell_type": "markdown",
   "metadata": {},
   "source": [
    "Function:save_model() to store the set of paraments for each model"
   ]
  },
  {
   "cell_type": "code",
   "execution_count": 354,
   "metadata": {
    "collapsed": true
   },
   "outputs": [],
   "source": [
    "def save_model(name,new_mu,new_cov,new_weight):\n",
    "    save_path=\"C:\\\\Users\\\\hasee\\\\workspace\\\\workspace\\\\lab\\\\patRecDat\\\\forStudents\\\\ubm\\\\\"\\\n",
    "    +str(name)+\".mat\"\n",
    "    #save_path=\"/Users/Mata/Documents/2017/学习/ws2017:18/PUL/forStudents/ubm/\"\\\n",
    "    #+str(name)+\".mat\"\n",
    "    savemat(save_path,{'mu':new_mu,'new_cov':new_cov,'new_weight':new_weight})   "
   ]
  },
  {
   "cell_type": "code",
   "execution_count": 381,
   "metadata": {
    "collapsed": true
   },
   "outputs": [],
   "source": [
    "new_mu,new_cov,new_weight=adapted_mode(model_set,mu_ubm,ubm_means,cov_set,ubm_var,weights_model,ubm_weights)"
   ]
  },
  {
   "cell_type": "code",
   "execution_count": 382,
   "metadata": {},
   "outputs": [
    {
     "data": {
      "text/plain": [
       "array([ 0.01826155,  0.01504222,  0.01900021,  0.01170328,  0.03214314,\n",
       "        0.01221951,  0.02515396,  0.00959369,  0.06890696,  0.07117837,\n",
       "        0.00654439,  0.01617404,  0.01431949,  0.01968559,  0.01446936,\n",
       "        0.01584465,  0.00642012,  0.00698855,  0.01848729,  0.01055417,\n",
       "        0.025873  ,  0.03211863,  0.02797093,  0.02289697,  0.03811243,\n",
       "        0.00444238,  0.0062982 ,  0.00806575,  0.01126915,  0.00937506,\n",
       "        0.01374242,  0.0472398 ,  0.01399819,  0.00906004,  0.00521143,\n",
       "        0.02227873,  0.04283551,  0.01626697,  0.01621638,  0.0223825 ,\n",
       "        0.02303803,  0.07191741,  0.00893729,  0.01817835,  0.02026525,\n",
       "        0.03240287,  0.00475271,  0.0061599 ,  0.01822949])"
      ]
     },
     "execution_count": 382,
     "metadata": {},
     "output_type": "execute_result"
    }
   ],
   "source": [
    "new_weight"
   ]
  },
  {
   "cell_type": "code",
   "execution_count": 357,
   "metadata": {
    "collapsed": true
   },
   "outputs": [],
   "source": [
    "save_model('mrpc0',new_mu,new_cov,new_weight)"
   ]
  },
  {
   "cell_type": "markdown",
   "metadata": {},
   "source": [
    "# 6: Speaker identification"
   ]
  },
  {
   "cell_type": "code",
   "execution_count": 358,
   "metadata": {
    "collapsed": true
   },
   "outputs": [],
   "source": [
    "#identification\n",
    "def identification(b_test,new_mu,new_cov,new_weight,T_value):\n",
    "    #caculate the concatenated probability\n",
    "    test_pdf=naive_G_U(b_test,new_mu,new_cov,new_weight,T_value)\n",
    "    #print(test_pdf)\n",
    "    concate_prob=np.sum(np.log(test_pdf))\n",
    "    return concate_prob"
   ]
  },
  {
   "cell_type": "code",
   "execution_count": 359,
   "metadata": {},
   "outputs": [
    {
     "data": {
      "text/plain": [
       "array([[ 10.76799823,   0.        ,   0.        ,   0.        ,\n",
       "          0.        ,   0.        ,   0.        ,   0.        ,\n",
       "          0.        ,   0.        ,   0.        ,   0.        ,\n",
       "          0.        ,   0.        ,   0.        ],\n",
       "       [  0.        ,   2.46029085,   0.        ,   0.        ,\n",
       "          0.        ,   0.        ,   0.        ,   0.        ,\n",
       "          0.        ,   0.        ,   0.        ,   0.        ,\n",
       "          0.        ,   0.        ,   0.        ],\n",
       "       [  0.        ,   0.        ,   1.87114179,   0.        ,\n",
       "          0.        ,   0.        ,   0.        ,   0.        ,\n",
       "          0.        ,   0.        ,   0.        ,   0.        ,\n",
       "          0.        ,   0.        ,   0.        ],\n",
       "       [  0.        ,   0.        ,   0.        ,   1.94992964,\n",
       "          0.        ,   0.        ,   0.        ,   0.        ,\n",
       "          0.        ,   0.        ,   0.        ,   0.        ,\n",
       "          0.        ,   0.        ,   0.        ],\n",
       "       [  0.        ,   0.        ,   0.        ,   0.        ,\n",
       "          1.43245368,   0.        ,   0.        ,   0.        ,\n",
       "          0.        ,   0.        ,   0.        ,   0.        ,\n",
       "          0.        ,   0.        ,   0.        ],\n",
       "       [  0.        ,   0.        ,   0.        ,   0.        ,\n",
       "          0.        ,   1.35572224,   0.        ,   0.        ,\n",
       "          0.        ,   0.        ,   0.        ,   0.        ,\n",
       "          0.        ,   0.        ,   0.        ],\n",
       "       [  0.        ,   0.        ,   0.        ,   0.        ,\n",
       "          0.        ,   0.        ,   1.14861309,   0.        ,\n",
       "          0.        ,   0.        ,   0.        ,   0.        ,\n",
       "          0.        ,   0.        ,   0.        ],\n",
       "       [  0.        ,   0.        ,   0.        ,   0.        ,\n",
       "          0.        ,   0.        ,   0.        ,   1.48450103,\n",
       "          0.        ,   0.        ,   0.        ,   0.        ,\n",
       "          0.        ,   0.        ,   0.        ],\n",
       "       [  0.        ,   0.        ,   0.        ,   0.        ,\n",
       "          0.        ,   0.        ,   0.        ,   0.        ,\n",
       "          1.07205972,   0.        ,   0.        ,   0.        ,\n",
       "          0.        ,   0.        ,   0.        ],\n",
       "       [  0.        ,   0.        ,   0.        ,   0.        ,\n",
       "          0.        ,   0.        ,   0.        ,   0.        ,\n",
       "          0.        ,   0.85895326,   0.        ,   0.        ,\n",
       "          0.        ,   0.        ,   0.        ],\n",
       "       [  0.        ,   0.        ,   0.        ,   0.        ,\n",
       "          0.        ,   0.        ,   0.        ,   0.        ,\n",
       "          0.        ,   0.        ,   0.83908651,   0.        ,\n",
       "          0.        ,   0.        ,   0.        ],\n",
       "       [  0.        ,   0.        ,   0.        ,   0.        ,\n",
       "          0.        ,   0.        ,   0.        ,   0.        ,\n",
       "          0.        ,   0.        ,   0.        ,   0.5574992 ,\n",
       "          0.        ,   0.        ,   0.        ],\n",
       "       [  0.        ,   0.        ,   0.        ,   0.        ,\n",
       "          0.        ,   0.        ,   0.        ,   0.        ,\n",
       "          0.        ,   0.        ,   0.        ,   0.        ,\n",
       "          0.42152788,   0.        ,   0.        ],\n",
       "       [  0.        ,   0.        ,   0.        ,   0.        ,\n",
       "          0.        ,   0.        ,   0.        ,   0.        ,\n",
       "          0.        ,   0.        ,   0.        ,   0.        ,\n",
       "          0.        ,   0.59191448,   0.        ],\n",
       "       [  0.        ,   0.        ,   0.        ,   0.        ,\n",
       "          0.        ,   0.        ,   0.        ,   0.        ,\n",
       "          0.        ,   0.        ,   0.        ,   0.        ,\n",
       "          0.        ,   0.        ,   0.50756914]])"
      ]
     },
     "execution_count": 359,
     "metadata": {},
     "output_type": "execute_result"
    }
   ],
   "source": [
    "new_cov[0]"
   ]
  },
  {
   "cell_type": "code",
   "execution_count": 372,
   "metadata": {
    "collapsed": true
   },
   "outputs": [],
   "source": [
    "b_test_1=b_new[:,:300]\n",
    "b_test_2=np.array(pd.read_csv('D:\\\\feature_test_4.csv',header=None))[:,:300]"
   ]
  },
  {
   "cell_type": "code",
   "execution_count": 373,
   "metadata": {},
   "outputs": [
    {
     "data": {
      "text/plain": [
       "0.042000085581627045"
      ]
     },
     "execution_count": 373,
     "metadata": {},
     "output_type": "execute_result"
    }
   ],
   "source": [
    "ubm_weights[48]"
   ]
  },
  {
   "cell_type": "code",
   "execution_count": 374,
   "metadata": {},
   "outputs": [
    {
     "data": {
      "text/plain": [
       "49"
      ]
     },
     "execution_count": 374,
     "metadata": {},
     "output_type": "execute_result"
    }
   ],
   "source": [
    "K_value"
   ]
  },
  {
   "cell_type": "code",
   "execution_count": 375,
   "metadata": {},
   "outputs": [
    {
     "data": {
      "text/plain": [
       "(49,)"
      ]
     },
     "execution_count": 375,
     "metadata": {},
     "output_type": "execute_result"
    }
   ],
   "source": [
    "new_weight.shape"
   ]
  },
  {
   "cell_type": "code",
   "execution_count": 376,
   "metadata": {
    "collapsed": true
   },
   "outputs": [],
   "source": [
    "concate_prob_1=identification(b_test_1,new_mu,new_cov,new_weight,300)"
   ]
  },
  {
   "cell_type": "code",
   "execution_count": 377,
   "metadata": {},
   "outputs": [
    {
     "data": {
      "text/plain": [
       "-8837.7177212727438"
      ]
     },
     "execution_count": 377,
     "metadata": {},
     "output_type": "execute_result"
    }
   ],
   "source": [
    "concate_prob_1"
   ]
  },
  {
   "cell_type": "code",
   "execution_count": 366,
   "metadata": {
    "collapsed": true
   },
   "outputs": [],
   "source": [
    "concate_prob_2=identification(b_test_2,new_mu,new_cov,new_weight,300)"
   ]
  },
  {
   "cell_type": "code",
   "execution_count": 367,
   "metadata": {},
   "outputs": [
    {
     "data": {
      "text/plain": [
       "-9849.1160258374202"
      ]
     },
     "execution_count": 367,
     "metadata": {},
     "output_type": "execute_result"
    }
   ],
   "source": [
    "concate_prob_2"
   ]
  },
  {
   "cell_type": "markdown",
   "metadata": {},
   "source": [
    "# 7. Cross Validation"
   ]
  },
  {
   "cell_type": "code",
   "execution_count": 383,
   "metadata": {
    "collapsed": true
   },
   "outputs": [],
   "source": [
    "def feature_eng(dataset):\n",
    "    #2. frame_segmentation\n",
    "    frame_set,frame_num=frame_segment(dataset)\n",
    "    \n",
    "    #3. Voice activaty detection\n",
    "    #gamma = 100.0\n",
    "    train_frame_set=voice_activity_detection(frame_set,frame_num,gamma=10)\n",
    "    \n",
    "    #4.1 window_func\n",
    "    frame_windowed_set= window_func(train_frame_set)\n",
    "    \n",
    "    #4.2 fft\n",
    "    pow_frames,mag_frames=Flourier_transfer(frame_windowed_set,NFFT)\n",
    "    \n",
    "    #4.3 filtered\n",
    "    filter_banks,fbank,hz_points=mel_filter_bank(sample_rate,NFFT,pow_frames,nfilt)\n",
    "    \n",
    "    #4.4 get featured \n",
    "    b_new = DCT(filter_banks,num_features)\n",
    "    return b_new"
   ]
  },
  {
   "cell_type": "code",
   "execution_count": 384,
   "metadata": {
    "collapsed": true
   },
   "outputs": [],
   "source": [
    "def speaker_adapted(b_new,ubm_means,ubm_var,ubm_value_set,ubm_weights,T_value):\n",
    "    model_set=post_prob_model(b_new,ubm_weights,ubm_means,ubm_var,ubm_value_set,T_value)\n",
    "    \n",
    "    mu_ubm=mu_model(model_set,b_new)\n",
    "    \n",
    "    cov_set = cov_model(model_set,b_new,mu_ubm,T_value)\n",
    "    \n",
    "    weights_model=weight_model(model_set,T_value)\n",
    "    \n",
    "    new_mu,new_cov,new_weight=adapted_mode(model_set,mu_ubm,ubm_means,cov_set,ubm_var,weights_model,ubm_weights,gamma_UBM=1)\n",
    "    \n",
    "    return new_mu,new_cov,new_weight"
   ]
  },
  {
   "cell_type": "markdown",
   "metadata": {},
   "source": [
    "now we apply the cross validation onto 10 people"
   ]
  },
  {
   "cell_type": "code",
   "execution_count": 385,
   "metadata": {},
   "outputs": [
    {
     "name": "stdout",
     "output_type": "stream",
     "text": [
      "now the this model is for person faks0\n",
      "Model Start\n",
      "faks0 spend time   0.7 minute\n",
      "now the this model is for person fdac1\n",
      "Model Start\n",
      "fdac1 spend time   1.5 minute\n",
      "now the this model is for person felc0\n",
      "Model Start\n",
      "felc0 spend time   2.1 minute\n",
      "now the this model is for person fjem0\n",
      "Model Start\n",
      "fjem0 spend time   2.8 minute\n",
      "now the this model is for person fpas0\n",
      "Model Start\n",
      "fpas0 spend time   3.3 minute\n",
      "now the this model is for person fram1\n",
      "Model Start\n",
      "fram1 spend time   4.0 minute\n",
      "now the this model is for person fslb1\n",
      "Model Start\n",
      "fslb1 spend time   4.5 minute\n",
      "now the this model is for person mabw0\n",
      "Model Start\n",
      "mabw0 spend time   5.0 minute\n",
      "Traing compeleted\n"
     ]
    }
   ],
   "source": [
    "#cross validation for 20 models\n",
    "#default \n",
    "t_feed=10 #feed time\n",
    "t_frame=20 #frame time\n",
    "sample_rate=16000\n",
    "fs=sample_rate/1000 #sample_rate of each ms\n",
    "L_value=np.int(fs*t_frame)\n",
    "NFFT=512\n",
    "nfilt=22\n",
    "\n",
    "# extract the wav files \n",
    "test_file_set=[]\n",
    "name_set=[]\n",
    "start=time.time()\n",
    "for name in ['faks0', 'fdac1', 'felc0', 'fjem0',\\\n",
    "             #'mdab0', 'mjsw0', 'mreb0', 'mrjo0', \\\n",
    "             #'msjs1', 'mstk0', 'mwbt0', 'fcmr0',\\\n",
    "             #'fdrd1', 'fjas0', 'fjre0', 'fjwb0', \\\n",
    "             'fpas0', 'fram1', 'fslb1', 'mabw0']:\n",
    "    whole_set=dataset.get(name,'no such file').copy()\n",
    "    \n",
    "    print(\"now the this model is for person \"+name)\n",
    "    print(\"Model Start\")\n",
    "    #add copy to prevent original change\n",
    "    #score_set=[]\n",
    "    \n",
    "    #obtain test and train set, (test set temporarily use the first file)\n",
    "    test_file=whole_set[0]\n",
    "    test_file_set.append(test_file)\n",
    "    name_set.append(name)\n",
    "    train_set=whole_set.copy()\n",
    "    train_set.remove(test_file)\n",
    "    train_set=np.concatenate(train_set)\n",
    "    #feature engineering \n",
    "    K_value=ubm_var.shape[0] #number of naive models\n",
    "    \n",
    "    b_train=feature_eng(train_set)\n",
    "    \n",
    "    T_value=b_train.shape[1] #number of frames\n",
    "    #5.1 naive GMM-UBM\n",
    "    ubm_value_set=naive_G_U(b_train,ubm_means,ubm_var,ubm_weights,T_value)\n",
    "    \n",
    "    #5.2 Speaker adaption\n",
    "    new_mu,new_cov,new_weight=speaker_adapted(b_train,ubm_means,ubm_var,ubm_value_set,ubm_weights,T_value)\n",
    "    #print(b_test.shape,new_mu.shape,new_cov.shape,new_weight.shape)\n",
    "    save_model(name,new_mu,new_cov,new_weight)\n",
    "    \n",
    "    print(str(name)+\" spend time %5.1f minute\"%((time.time()-start)/60))\n",
    "    \n",
    "print(\"Traing compeleted\")\n",
    "    \n",
    "    \n",
    "    "
   ]
  },
  {
   "cell_type": "code",
   "execution_count": 387,
   "metadata": {},
   "outputs": [
    {
     "name": "stdout",
     "output_type": "stream",
     "text": [
      "Model Start\n",
      "the test set is from faks0 testing the model faks0\n",
      "test score is  -12108.7538918\n",
      "time cost   0.0 minute\n",
      "the test set is from faks0 testing the model fdac1\n",
      "test score is  -12625.986584\n",
      "time cost   0.1 minute\n",
      "the test set is from faks0 testing the model felc0\n",
      "test score is  -13565.7023212\n",
      "time cost   0.1 minute\n",
      "the test set is from faks0 testing the model fjem0\n",
      "test score is  -12801.2632091\n",
      "time cost   0.2 minute\n",
      "the test set is from faks0 testing the model fpas0\n",
      "test score is  -12920.957951\n",
      "time cost   0.2 minute\n",
      "the test set is from faks0 testing the model fram1\n",
      "test score is  -12708.704662\n",
      "time cost   0.2 minute\n",
      "the test set is from faks0 testing the model fslb1\n",
      "test score is  -12610.4558407\n",
      "time cost   0.3 minute\n",
      "the test set is from faks0 testing the model mabw0\n",
      "test score is  -12802.9803027\n",
      "time cost   0.3 minute\n",
      "the test set is from fdac1 testing the model faks0\n",
      "test score is  -17086.4900533\n",
      "time cost   0.4 minute\n",
      "the test set is from fdac1 testing the model fdac1\n",
      "test score is  -16564.290803\n",
      "time cost   0.4 minute\n",
      "the test set is from fdac1 testing the model felc0\n",
      "test score is  -17099.9977993\n",
      "time cost   0.5 minute\n",
      "the test set is from fdac1 testing the model fjem0\n",
      "test score is  -17039.4105935\n",
      "time cost   0.5 minute\n",
      "the test set is from fdac1 testing the model fpas0\n",
      "test score is  -16999.3925254\n",
      "time cost   0.6 minute\n",
      "the test set is from fdac1 testing the model fram1\n",
      "test score is  -17049.2722822\n",
      "time cost   0.7 minute\n",
      "the test set is from fdac1 testing the model fslb1\n",
      "test score is  -16567.9203365\n",
      "time cost   0.7 minute\n",
      "the test set is from fdac1 testing the model mabw0\n",
      "test score is  -17064.6451467\n",
      "time cost   0.8 minute\n",
      "the test set is from felc0 testing the model faks0\n",
      "test score is  -12527.1243336\n",
      "time cost   0.8 minute\n",
      "the test set is from felc0 testing the model fdac1\n",
      "test score is  -11983.2682987\n",
      "time cost   0.8 minute\n",
      "the test set is from felc0 testing the model felc0\n",
      "test score is  -11259.8676354\n",
      "time cost   0.9 minute\n",
      "the test set is from felc0 testing the model fjem0\n",
      "test score is  -12235.9991678\n",
      "time cost   0.9 minute\n",
      "the test set is from felc0 testing the model fpas0\n",
      "test score is  -11219.9482855\n",
      "time cost   1.0 minute\n",
      "the test set is from felc0 testing the model fram1\n",
      "test score is  -11945.8689779\n",
      "time cost   1.0 minute\n",
      "the test set is from felc0 testing the model fslb1\n",
      "test score is  -11344.8844328\n",
      "time cost   1.0 minute\n",
      "the test set is from felc0 testing the model mabw0\n",
      "test score is  -11900.3827285\n",
      "time cost   1.1 minute\n",
      "the test set is from fjem0 testing the model faks0\n",
      "test score is  -12899.1479823\n",
      "time cost   1.1 minute\n",
      "the test set is from fjem0 testing the model fdac1\n",
      "test score is  -12836.9844426\n",
      "time cost   1.1 minute\n",
      "the test set is from fjem0 testing the model felc0\n",
      "test score is  -13258.597677\n",
      "time cost   1.2 minute\n",
      "the test set is from fjem0 testing the model fjem0\n",
      "test score is  -12489.4911236\n",
      "time cost   1.2 minute\n",
      "the test set is from fjem0 testing the model fpas0\n",
      "test score is  -13136.4561028\n",
      "time cost   1.3 minute\n",
      "the test set is from fjem0 testing the model fram1\n",
      "test score is  -12738.2260939\n",
      "time cost   1.3 minute\n",
      "the test set is from fjem0 testing the model fslb1\n",
      "test score is  -12733.8165179\n",
      "time cost   1.3 minute\n",
      "the test set is from fjem0 testing the model mabw0\n",
      "test score is  -13002.9318475\n",
      "time cost   1.4 minute\n",
      "the test set is from fpas0 testing the model faks0\n",
      "test score is  -9449.63025118\n",
      "time cost   1.4 minute\n",
      "the test set is from fpas0 testing the model fdac1\n",
      "test score is  -9415.46609683\n",
      "time cost   1.4 minute\n",
      "the test set is from fpas0 testing the model felc0\n",
      "test score is  -9348.35782227\n",
      "time cost   1.5 minute\n",
      "the test set is from fpas0 testing the model fjem0\n",
      "test score is  -9596.35815677\n",
      "time cost   1.5 minute\n",
      "the test set is from fpas0 testing the model fpas0\n",
      "test score is  -8863.76762813\n",
      "time cost   1.5 minute\n",
      "the test set is from fpas0 testing the model fram1\n",
      "test score is  -9596.17159422\n",
      "time cost   1.6 minute\n",
      "the test set is from fpas0 testing the model fslb1\n",
      "test score is  -9000.5799343\n",
      "time cost   1.6 minute\n",
      "the test set is from fpas0 testing the model mabw0\n",
      "test score is  -9525.56635197\n",
      "time cost   1.6 minute\n",
      "the test set is from fram1 testing the model faks0\n",
      "test score is  -14531.6046007\n",
      "time cost   1.7 minute\n",
      "the test set is from fram1 testing the model fdac1\n",
      "test score is  -14640.7742667\n",
      "time cost   1.7 minute\n",
      "the test set is from fram1 testing the model felc0\n",
      "test score is  -14997.6699391\n",
      "time cost   1.8 minute\n",
      "the test set is from fram1 testing the model fjem0\n",
      "test score is  -14587.8518494\n",
      "time cost   1.8 minute\n",
      "the test set is from fram1 testing the model fpas0\n",
      "test score is  -14902.8467173\n",
      "time cost   1.9 minute\n",
      "the test set is from fram1 testing the model fram1\n",
      "test score is  -14013.3705909\n",
      "time cost   1.9 minute\n",
      "the test set is from fram1 testing the model fslb1\n",
      "test score is  -14344.0408442\n",
      "time cost   2.0 minute\n",
      "the test set is from fram1 testing the model mabw0\n",
      "test score is  -14437.0815464\n",
      "time cost   2.0 minute\n",
      "the test set is from fslb1 testing the model faks0\n",
      "test score is  -12991.1304571\n",
      "time cost   2.0 minute\n",
      "the test set is from fslb1 testing the model fdac1\n",
      "test score is  -12848.2967321\n",
      "time cost   2.1 minute\n",
      "the test set is from fslb1 testing the model felc0\n",
      "test score is  -12923.828373\n",
      "time cost   2.1 minute\n",
      "the test set is from fslb1 testing the model fjem0\n",
      "test score is  -13094.6036204\n",
      "time cost   2.2 minute\n",
      "the test set is from fslb1 testing the model fpas0\n",
      "test score is  -12498.9946327\n",
      "time cost   2.2 minute\n",
      "the test set is from fslb1 testing the model fram1\n",
      "test score is  -12936.5520844\n",
      "time cost   2.3 minute\n",
      "the test set is from fslb1 testing the model fslb1\n",
      "test score is  -12090.4912554\n",
      "time cost   2.3 minute\n",
      "the test set is from fslb1 testing the model mabw0\n",
      "test score is  -12660.1999007\n",
      "time cost   2.3 minute\n",
      "the test set is from mabw0 testing the model faks0\n",
      "test score is  -10141.3504994\n",
      "time cost   2.4 minute\n",
      "the test set is from mabw0 testing the model fdac1\n",
      "test score is  -10124.7975717\n",
      "time cost   2.4 minute\n",
      "the test set is from mabw0 testing the model felc0\n",
      "test score is  -10285.9283207\n",
      "time cost   2.4 minute\n",
      "the test set is from mabw0 testing the model fjem0\n",
      "test score is  -10102.8794309\n",
      "time cost   2.5 minute\n",
      "the test set is from mabw0 testing the model fpas0\n",
      "test score is  -9869.89395195\n",
      "time cost   2.5 minute\n",
      "the test set is from mabw0 testing the model fram1\n",
      "test score is  -9995.49686281\n",
      "time cost   2.5 minute\n",
      "the test set is from mabw0 testing the model fslb1\n",
      "test score is  -9407.6355582\n",
      "time cost   2.6 minute\n",
      "the test set is from mabw0 testing the model mabw0\n",
      "test score is  -9142.51688451\n",
      "time cost   2.6 minute\n",
      "the detection ratio is  0.875\n"
     ]
    }
   ],
   "source": [
    "# identification 20 stucks cross validation \n",
    "print(\"Model Start\")\n",
    "start=time.time()\n",
    "score_set=[]\n",
    "correct_num=0\n",
    "false_num=0\n",
    "\n",
    "for index_2,test_file in enumerate(test_file_set):\n",
    "    test_set=np.array(test_file)\n",
    "    K_value=ubm_var.shape[0] #number of naive models\n",
    "    b_test=feature_eng(test_set)\n",
    "    T_value=b_test.shape[1]\n",
    "    eva_set=[]\n",
    "    for index_1,name in enumerate(name_set):\n",
    "        path=\"C:\\\\Users\\\\hasee\\\\workspace\\\\workspace\\\\lab\\\\patRecDat\\\\forStudents\\\\ubm\\\\\"+str(name)+\".mat\"\n",
    "        print(\"the test set is from \"+str(name_set[index_2])+\" testing the model \"+str(name))\n",
    "        lamda=loadmat(path,mat_dtype=True)\n",
    "        new_mu=lamda['mu']\n",
    "        new_cov=lamda['new_cov']\n",
    "        new_weight=lamda['new_weight'].ravel()\n",
    "        scores=identification(b_test,new_mu,new_cov,new_weight,T_value)\n",
    "        print(\"test score is \",scores)\n",
    "        print(\"time cost %5.1f minute\"%((time.time()-start)/60))\n",
    "        eva_set.append(scores)\n",
    "    test_name=name_set[eva_set.index(max(eva_set))]\n",
    "    \n",
    "    # calculate the detection rate\n",
    "    if name_set[index_2] == test_name:\n",
    "        correct_num +=1\n",
    "    else:\n",
    "        false_num +=1\n",
    "print(\"the detection ratio is \",correct_num/(correct_num+false_num))\n",
    "        \n",
    "        \n",
    "        \n",
    "        \n",
    "        \n",
    "        "
   ]
  },
  {
   "cell_type": "code",
   "execution_count": null,
   "metadata": {
    "collapsed": true
   },
   "outputs": [],
   "source": [
    "lamda=loadmat(\"C:\\\\Users\\\\hasee\\\\workspace\\\\workspace\\\\lab\\\\patRecDat\\\\forStudents\\\\ubm\\\\faks0.mat\",mat_dtype=True)"
   ]
  },
  {
   "cell_type": "code",
   "execution_count": null,
   "metadata": {
    "collapsed": true
   },
   "outputs": [],
   "source": [
    "lamda"
   ]
  },
  {
   "cell_type": "code",
   "execution_count": null,
   "metadata": {
    "collapsed": true
   },
   "outputs": [],
   "source": [
    "len(test_file_set)"
   ]
  },
  {
   "cell_type": "code",
   "execution_count": null,
   "metadata": {
    "collapsed": true
   },
   "outputs": [],
   "source": [
    "whole_set=dataset.get('faks0','no such file').copy()"
   ]
  },
  {
   "cell_type": "code",
   "execution_count": null,
   "metadata": {
    "collapsed": true
   },
   "outputs": [],
   "source": [
    "temp_set=whole_set[0]\n",
    "whole_set.remove(temp_set)"
   ]
  },
  {
   "cell_type": "code",
   "execution_count": null,
   "metadata": {
    "collapsed": true
   },
   "outputs": [],
   "source": [
    "len(whole_set)"
   ]
  },
  {
   "cell_type": "code",
   "execution_count": null,
   "metadata": {
    "collapsed": true
   },
   "outputs": [],
   "source": [
    "np.concatenate(whole_set)"
   ]
  },
  {
   "cell_type": "code",
   "execution_count": null,
   "metadata": {
    "collapsed": true
   },
   "outputs": [],
   "source": []
  },
  {
   "cell_type": "code",
   "execution_count": null,
   "metadata": {
    "collapsed": true
   },
   "outputs": [],
   "source": []
  }
 ],
 "metadata": {
  "kernelspec": {
   "display_name": "Python 3",
   "language": "python",
   "name": "python3"
  },
  "language_info": {
   "codemirror_mode": {
    "name": "ipython",
    "version": 3
   },
   "file_extension": ".py",
   "mimetype": "text/x-python",
   "name": "python",
   "nbconvert_exporter": "python",
   "pygments_lexer": "ipython3",
   "version": "3.6.3"
  }
 },
 "nbformat": 4,
 "nbformat_minor": 2
}
