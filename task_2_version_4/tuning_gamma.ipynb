{
 "cells": [
  {
   "cell_type": "code",
   "execution_count": 2,
   "metadata": {},
   "outputs": [
    {
     "name": "stdout",
     "output_type": "stream",
     "text": [
      "feature engineering start\n",
      "done>>>>>>>>>>>>>>>>>>>>>>>>>>>>>>>>>>>>>>>>>>>>>>>]100.00%\n",
      "feature engineering start\n",
      "done>>>>>>>>>>>>>>>>>>>>>>>>>>>>>>>>>>>>>>>>>>>>>>>]100.00%\n",
      "feature engineering start\n",
      "done>>>>>>>>>>>>>>>>>>>>>>>>>>>>>>>>>>>>>>>>>>>>>>>]100.00%\n",
      "feature engineering start\n",
      "done>>>>>>>>>>>>>>>>>>>>>>>>>>>>>>>>>>>>>>>>>>>>>>>]100.00%\n",
      "feature engineering start\n",
      "done>>>>>>>>>>>>>>>>>>>>>>>>>>>>>>>>>>>>>>>>>>>>>>>]100.00%\n",
      "feature extraction compleleted\n"
     ]
    }
   ],
   "source": [
    "'''\n",
    "generate the gamma for 1,5,10,50,100\n",
    "'''\n",
    "\n",
    "from data_import import data_import\n",
    "from frame_func import frame_func\n",
    "from window_func import window_func\n",
    "from mel_func import mel_func\n",
    "from DCT_func import DCT_func\n",
    "from process_bar import ShowProcess\n",
    "\n",
    "#default \n",
    "import pickle\n",
    "import numpy as np\n",
    "#loadmat\n",
    "from scipy.io import loadmat,savemat\n",
    "\n",
    "t_feed=10 #feed time\n",
    "t_frame=20 #frame time\n",
    "sample_rate=16000\n",
    "fs=sample_rate/1000 #sample_rate of each ms\n",
    "L_value=np.int(fs*t_frame)\n",
    "NFFT=512\n",
    "nfilt=22\n",
    "\n",
    "audio_path = \"D:\\\\LAB\\\\workspace\\\\lab\\\\patRecDat\\\\forStudents\\\\timit\\\\test\"\n",
    "#audio_path = \"/Users/Mata/Documents/2017/学习/ws2017:18/PUL/forStudents/timit/test\"\n",
    "\n",
    "dataset=data_import(audio_path,0)  #samples is a dictionary of 172 persons\n",
    "for gamma in [1,5,10,50,100]:\n",
    "    feature_all_set={}\n",
    "    print(\"feature engineering start\")\n",
    "    process_bar=ShowProcess(len(dataset.keys()))\n",
    "    for name in dataset.keys():\n",
    "        process_bar.show_process()\n",
    "        #print(\"make the feature of \"+ name)\n",
    "        single_data=dataset.get(name,'no such file name') # samples of one person\n",
    "        features_set=[]\n",
    "        for samples in single_data:\n",
    "\n",
    "            frames=frame_func(samples,gamma)  #frames is a list with length of 320*frames\n",
    "\n",
    "            window_frames=window_func(frames) #using hanning window\n",
    "\n",
    "            freq_frames=mel_func(window_frames)# \n",
    "\n",
    "            features=DCT_func(freq_frames)# features: 15*frames\n",
    "\n",
    "            #features=features.ravel() # need to be reshape when import again\n",
    "\n",
    "            features_set.append(features)\n",
    "\n",
    "        feature_all_set.setdefault(name)\n",
    "\n",
    "        feature_all_set[name]=features_set\n",
    "\n",
    "    save_path=\"D:\\\\LAB\\\\lab\\\\task_2_version_4\\\\features_\"+str(gamma)+\".txt\"\n",
    "    f = open(save_path,'wb')\n",
    "    pickle.dump(feature_all_set,f)\n",
    "    f.close()\n",
    "    #savemat(save_path,feature_all_set)  \n",
    "    process_bar.close()\n",
    "print(\"feature extraction compleleted\")"
   ]
  },
  {
   "cell_type": "code",
   "execution_count": null,
   "metadata": {
    "collapsed": true
   },
   "outputs": [],
   "source": []
  }
 ],
 "metadata": {
  "kernelspec": {
   "display_name": "Python 3",
   "language": "python",
   "name": "python3"
  },
  "language_info": {
   "codemirror_mode": {
    "name": "ipython",
    "version": 3
   },
   "file_extension": ".py",
   "mimetype": "text/x-python",
   "name": "python",
   "nbconvert_exporter": "python",
   "pygments_lexer": "ipython3",
   "version": "3.6.1"
  }
 },
 "nbformat": 4,
 "nbformat_minor": 2
}
