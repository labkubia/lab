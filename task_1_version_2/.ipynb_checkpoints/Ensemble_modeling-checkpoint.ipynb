{
 "cells": [
  {
   "cell_type": "markdown",
   "metadata": {
    "collapsed": true
   },
   "source": [
    "# 1. Bagging"
   ]
  },
  {
   "cell_type": "code",
   "execution_count": 1,
   "metadata": {},
   "outputs": [
    {
     "name": "stderr",
     "output_type": "stream",
     "text": [
      "D:\\ProgramData\\Anaconda3\\lib\\site-packages\\sklearn\\cross_validation.py:44: DeprecationWarning: This module was deprecated in version 0.18 in favor of the model_selection module into which all the refactored classes and functions are moved. Also note that the interface of the new CV iterators are different from that of this module. This module will be removed in 0.20.\n",
      "  \"This module will be removed in 0.20.\", DeprecationWarning)\n"
     ]
    }
   ],
   "source": [
    "'''\n",
    "Import tunning parameters model\n",
    "'''\n",
    "import numpy as np\n",
    "import pandas as pd\n",
    "from sklearn.svm import SVC\n",
    "from NN_function_with_kFold import nn_validation\n",
    "from kNN_function_with_kFold import kNN_base_function\n",
    "from calculation_score import cal_score\n",
    "from sklearn.model_selection import KFold\n",
    "from sklearn.ensemble import BaggingClassifier\n",
    "from sklearn.neighbors import KNeighborsClassifier\n",
    "from sklearn.linear_model import LogisticRegression\n",
    "from xgboost.sklearn import XGBClassifier\n",
    "from sklearn.model_selection import StratifiedKFold\n",
    "\n",
    "def SVM_base_fuction (X_train,y_train,X_val,y_val):\n",
    "    svc_clf=SVC(C=np.exp(3),gamma=np.exp(-1),kernel=\"rbf\",degree=len(X_train))\n",
    "    svc_clf.fit(X_train,y_train['label'])\n",
    "    y_pred=svc_clf.predict(X_val)\n",
    "    y_pred = {\"label_pred\":y_pred}\n",
    "    y_pred = pd.DataFrame(data=y_pred)\n",
    "    Precall,f1_score,BER,FPR= cal_score(y_pred,y_val['label'])\n",
    "    return Precall,f1_score,BER,FPR,y_pred"
   ]
  },
  {
   "cell_type": "code",
   "execution_count": 2,
   "metadata": {
    "collapsed": true
   },
   "outputs": [],
   "source": [
    "X_train=pd.read_csv(\"D:\\\\LAB\\\\ensemble_dataset\\\\X_scaled_CNN.csv\")\n",
    "y_train=pd.read_csv(\"D:\\\\LAB\\\\ensemble_dataset\\\\y_scaled_CNN.csv\")\n",
    "X_val=pd.read_csv(\"D:\\\\LAB\\\\lab\\\\task_1_version_2\\\\result\\\\scaled_validation_feature.csv\")\n",
    "y_val=pd.read_csv(\"D:\\\\LAB\\\\lab\\\\task_1_version_2\\\\result\\\\validation_label.csv\")"
   ]
  },
  {
   "cell_type": "code",
   "execution_count": 3,
   "metadata": {
    "collapsed": true
   },
   "outputs": [],
   "source": [
    "X_val=X_val.drop('Unnamed: 0',axis=1)"
   ]
  },
  {
   "cell_type": "code",
   "execution_count": 4,
   "metadata": {},
   "outputs": [
    {
     "name": "stdout",
     "output_type": "stream",
     "text": [
      "TPR:0.5568027210884354   f1 score:0.516430937483569   FPR:0.0863953469374418   BER:0.26479631292450323\n"
     ]
    }
   ],
   "source": [
    "'''\n",
    "benchmark on NN\n",
    "'''\n",
    "y_pred_NN=nn_validation(X_train,y_train,X_val,y_val,0.498)"
   ]
  },
  {
   "cell_type": "code",
   "execution_count": 7,
   "metadata": {},
   "outputs": [
    {
     "name": "stdout",
     "output_type": "stream",
     "text": [
      "TPR 0.39591836734693875 f1_score 0.4127171729110034 BER 0.33969990760693974 FPR 0.07531818256081821\n"
     ]
    }
   ],
   "source": [
    "'''\n",
    "benchmark on Knn\n",
    "'''\n",
    "Precall,f1_score,BER,FPR,y_pred_kNN=kNN_base_function(X_train,y_train,X_val,y_val,17)\n",
    "print(\"TPR \"+str(Precall)+\" f1_score \"+str(f1_score)+\" BER \"+str(BER)+\" FPR \"+str(FPR))"
   ]
  },
  {
   "cell_type": "code",
   "execution_count": 10,
   "metadata": {},
   "outputs": [
    {
     "name": "stdout",
     "output_type": "stream",
     "text": [
      "TPR 0.38117913832199546 f1_score 0.4159346777186688 BER 0.34195572794554235 FPR 0.06509059421308021\n"
     ]
    }
   ],
   "source": [
    "'''\n",
    "benchmark on svm\n",
    "'''\n",
    "Precall,f1_score,BER,FPR,y_pred_svm=SVM_base_fuction (X_train,y_train,X_val,y_val)\n",
    "print(\"TPR \"+str(Precall)+\" f1_score \"+str(f1_score)+\" BER \"+str(BER)+\" FPR \"+str(FPR))"
   ]
  },
  {
   "cell_type": "code",
   "execution_count": 18,
   "metadata": {
    "collapsed": true
   },
   "outputs": [],
   "source": [
    "y_pred_NN=np.array(y_pred_NN)\n",
    "y_pred_kNN=np.array(y_pred_kNN)\n",
    "y_pred_svm=np.array(y_pred_svm)\n",
    "num_samples=y_pred_NN.shape[0]"
   ]
  },
  {
   "cell_type": "code",
   "execution_count": 28,
   "metadata": {},
   "outputs": [
    {
     "name": "stdout",
     "output_type": "stream",
     "text": [
      "TPR 0.3625850340136054 f1_score 0.3952784129534639 BER 0.3527150311494539 FPR 0.06801509631251328\n"
     ]
    }
   ],
   "source": [
    "# start bagging  SVM classifiers\n",
    "bag_clf = BaggingClassifier(\n",
    "    SVC(C=np.exp(3),gamma=np.exp(-1),kernel=\"rbf\",degree=len(X_train)), n_estimators=100,\n",
    "    max_samples=200, bootstrap=True, n_jobs=-1, random_state=42)\n",
    "bag_clf.fit(X_train, y_train['label'])\n",
    "y_pred = bag_clf.predict(X_val)\n",
    "y_pred = {\"label_pred\":y_pred}\n",
    "y_pred = pd.DataFrame(data=y_pred)\n",
    "Precall,f1_score,BER,FPR= cal_score(y_pred,y_val['label'])\n",
    "print(\"TPR \"+str(Precall)+\" f1_score \"+str(f1_score)+\" BER \"+str(BER)+\" FPR \"+str(FPR))"
   ]
  },
  {
   "cell_type": "code",
   "execution_count": null,
   "metadata": {},
   "outputs": [
    {
     "name": "stdout",
     "output_type": "stream",
     "text": [
      "n_estimator 50\n",
      "max_samples 50\n"
     ]
    }
   ],
   "source": [
    "# start bagging and cross validation on kNN and SVM classifiers\n",
    "for N_ESTIMATORS in [50,100,500,1000]:\n",
    "    for MAX_SAMPLES in [50,100,500,1000,5000,10000]:\n",
    "        print(\"n_estimator\",N_ESTIMATORS)\n",
    "        print(\"max_samples\",MAX_SAMPLES)\n",
    "        skf=StratifiedKFold(n_splits=10,shuffle=True,random_state=42)\n",
    "        skf.get_n_splits(X_train,y_train['label'])\n",
    "        bag_clf = BaggingClassifier(\n",
    "            KNeighborsClassifier(n_neighbors=17,algorithm='auto',weights ='distance'), n_estimators=N_ESTIMATORS,\n",
    "            max_samples=MAX_SAMPLES, bootstrap=True, n_jobs=-1, random_state=42)\n",
    "        precall_set,f1_score_set,BER_set,FPR_set=[],[],[],[]\n",
    "        for i,(train_index,test_index) in enumerate(skf.split(X_train,y_train['label'])):\n",
    "            print(\"the fold is \",i)\n",
    "            X_train_1,X_val_1=X_train.loc[train_index],X_train.loc[test_index]\n",
    "            y_train_1,y_val_1=y_train['label'].loc[train_index],y_train['label'].loc[test_index]\n",
    "            bag_clf.fit(X_train_1, y_train_1)\n",
    "            y_pred = bag_clf.predict(X_val_1)\n",
    "            y_pred = {\"label_pred\":y_pred}\n",
    "            y_pred = pd.DataFrame(data=y_pred)\n",
    "            Precall,f1_score,BER,FPR= cal_score(y_pred,y_val_1)\n",
    "            precall_set.append(Precall)\n",
    "            f1_score_set.append(f1_score_set)\n",
    "            BER_set.append(BER)\n",
    "            FPR_set.append(FPR)\n",
    "        print(\"TPR \"+str(np.mean(precall_set))+\" f1_score \"+str(np.mean(f1_score_set))+\" BER \"+str(np.mean(BER_set))+\" FPR \"+str(np.mean(FPR_set)))"
   ]
  },
  {
   "cell_type": "markdown",
   "metadata": {},
   "source": [
    "# 2. Stacking"
   ]
  },
  {
   "cell_type": "code",
   "execution_count": 25,
   "metadata": {},
   "outputs": [
    {
     "name": "stdout",
     "output_type": "stream",
     "text": [
      "TPR 0.4072562358276644 f1_score 0.43642549055342933 BER 0.3294481642107614 FPR 0.06615256424918718\n"
     ]
    }
   ],
   "source": [
    "'''\n",
    "first stacking : voting\n",
    "'''\n",
    "y_new_pred=np.zeros((num_samples))\n",
    "\n",
    "for index in range(num_samples):\n",
    "    sum_value=y_pred_NN[index]+y_pred_kNN[index]+y_pred_svm[index]\n",
    "    if sum_value <= 4.0:\n",
    "        y_new_pred[index]=1.0\n",
    "    else:\n",
    "        y_new_pred[index]=2.0\n",
    "        \n",
    "Precall,f1_score,BER,FPR= cal_score(y_new_pred,y_val['label'])\n",
    "print(\"TPR \"+str(Precall)+\" f1_score \"+str(f1_score)+\" BER \"+str(BER)+\" FPR \"+str(FPR))"
   ]
  },
  {
   "cell_type": "code",
   "execution_count": 30,
   "metadata": {},
   "outputs": [
    {
     "data": {
      "text/plain": [
       "2.0"
      ]
     },
     "execution_count": 30,
     "metadata": {},
     "output_type": "execute_result"
    }
   ],
   "source": [
    "'''\n",
    "second stacking : weighted \n",
    "'''\n",
    "(2*0.51643+2*0.41271+2*0.41593)/(0.41593+0.41271+0.51643)\n"
   ]
  },
  {
   "cell_type": "code",
   "execution_count": 4,
   "metadata": {},
   "outputs": [
    {
     "name": "stdout",
     "output_type": "stream",
     "text": [
      "layer 1 start\n",
      "now is the fold 0\n",
      "TPR:0.7736422331940752   f1 score:0.7244598559615898   FPR:0.1586918532079554   BER:0.1925248100069401\n",
      "TPR:0.553968253968254   f1 score:0.5153736617267022   FPR:0.08585619291911056   BER:0.2659439694754283\n",
      "now is the fold 1\n",
      "TPR:0.791737729770703   f1 score:0.7311865593279664   FPR:0.16433449941695819   BER:0.18629838482312755\n",
      "TPR:0.5569160997732426   f1 score:0.5160476965908494   FPR:0.08667309294688516   BER:0.2648784965868213\n",
      "now is the fold 2\n",
      "TPR:0.788955396794748   f1 score:0.7286669638876505   FPR:0.1611170784103115   BER:0.18608084080778176\n",
      "TPR:0.5598639455782313   f1 score:0.5176643254009854   FPR:0.08691816295521754   BER:0.26352710868849316\n",
      "now is the fold 3\n",
      "TPR:0.7876514714368148   f1 score:0.7298814722395508   FPR:0.15948026152445585   BER:0.18591439504382054\n",
      "TPR:0.5571428571428572   f1 score:0.5168822972546545   FPR:0.08626464293299786   BER:0.26456089289507034\n",
      "now is the fold 4\n",
      "TPR:0.7969853081473002   f1 score:0.7345467334916029   FPR:0.16236193007225314   BER:0.1826883109624765\n",
      "TPR:0.5571428571428572   f1 score:0.5167192429022082   FPR:0.08636267093633081   BER:0.2646099068967368\n"
     ]
    }
   ],
   "source": [
    "'''\n",
    "construct 2 layer of model\n",
    "'''\n",
    "'''\n",
    "first layer is the NN, kNN, SVM, second layer is logistic regression\n",
    "'''\n",
    "X_new_train_NN=[]\n",
    "X_new_test_NN=[]\n",
    "X_new_train_kNN=[]\n",
    "X_new_test_kNN=[]\n",
    "X_new_train_svm=[]\n",
    "X_new_test_svm=[]\n",
    "kf=KFold(n_splits=5,random_state=42)\n",
    "print(\"layer 1 start\")\n",
    "for i, (train_index, test_index) in enumerate(kf.split(X_train)):\n",
    "    print('now is the fold',i)\n",
    "    X_train_1,X_val_1=X_train.loc[train_index],X_train.loc[test_index]\n",
    "    y_train_1,y_val_1=y_train.loc[train_index],y_train.loc[test_index]\n",
    "    y_pred_NN=nn_validation(X_train_1,y_train_1,X_val_1,y_val_1,0.498)\n",
    "    X_new_train_NN.append(y_pred_NN)\n",
    "    _,_,_,_,y_pred_kNN=kNN_base_function(X_train_1,y_train_1,X_val_1,y_val_1,17)\n",
    "    X_new_train_kNN.append(y_pred_kNN)\n",
    "    _,_,_,_,y_pred_svm=SVM_base_fuction (X_train_1,y_train_1,X_val_1,y_val_1)\n",
    "    X_new_train_svm.append(y_pred_svm)\n",
    "    y_pred_NN=nn_validation(X_train_1,y_train_1,X_val,y_val,0.498)\n",
    "    X_new_test_NN.append(y_pred_NN)\n",
    "    _,_,_,_,y_pred_kNN=kNN_base_function(X_train_1,y_train_1,X_val,y_val,17)\n",
    "    X_new_test_kNN.append(y_pred_kNN)\n",
    "    _,_,_,_,y_pred_svm=SVM_base_fuction (X_train_1,y_train_1,X_val,y_val)\n",
    "    X_new_test_svm.append(y_pred_svm)\n",
    "    \n",
    "    "
   ]
  },
  {
   "cell_type": "code",
   "execution_count": 72,
   "metadata": {
    "collapsed": true
   },
   "outputs": [],
   "source": [
    "'''\n",
    "generate training set and testing set for layer 2\n",
    "'''\n",
    "X_train_NN=np.concatenate(X_new_train_NN)\n",
    "X_train_kNN=np.concatenate(X_new_train_kNN).ravel()\n",
    "X_train_svm=np.concatenate(X_new_train_svm).ravel()\n",
    "X_test_NN=np.array((X_new_test_NN[0]+X_new_test_NN[1]+X_new_test_NN[2]+X_new_test_NN[3]+X_new_test_NN[4])/5).ravel()\n",
    "X_test_kNN=np.array((X_new_test_kNN[0]+X_new_test_kNN[1]+X_new_test_kNN[2]+X_new_test_kNN[3]+X_new_test_kNN[4])/5).ravel()\n",
    "X_test_svm=np.array((X_new_test_svm[0]+X_new_test_svm[1]+X_new_test_svm[2]+X_new_test_svm[3]+X_new_test_svm[4])/5).ravel()\n",
    "\n",
    "new_train=pd.DataFrame({'feature1':X_train_NN,'feature2':X_train_kNN,'feature3':X_train_svm}) # matrix: len(train_set)*3\n",
    "new_test=pd.DataFrame({'feature1':X_test_NN,'feature2':X_test_kNN,'feature3':X_test_svm}) # matrix: len(test_set)*3"
   ]
  },
  {
   "cell_type": "code",
   "execution_count": 73,
   "metadata": {
    "collapsed": true
   },
   "outputs": [],
   "source": [
    "'''\n",
    "second layer using logistic regression\n",
    "'''\n",
    "log_clf=LogisticRegression(random_state=42)\n",
    "log_clf.fit(new_train,y_train['label'])\n",
    "y_stack_pred=log_clf.predict(new_test)"
   ]
  },
  {
   "cell_type": "code",
   "execution_count": 74,
   "metadata": {},
   "outputs": [
    {
     "name": "stdout",
     "output_type": "stream",
     "text": [
      "TPR 0.3701814058956916 f1_score 0.41405110646122634 BER 0.34502023207592597 FPR 0.060221870047543584\n"
     ]
    }
   ],
   "source": [
    "Precall,f1_score,BER,FPR= cal_score(y_stack_pred,y_val['label'])\n",
    "print(\"TPR \"+str(Precall)+\" f1_score \"+str(f1_score)+\" BER \"+str(BER)+\" FPR \"+str(FPR))"
   ]
  },
  {
   "cell_type": "code",
   "execution_count": 105,
   "metadata": {
    "collapsed": true
   },
   "outputs": [],
   "source": [
    "'''\n",
    "Second layer using XGBClassifier\n",
    "'''\n",
    "xgb_clf=XGBClassifier(learning_rate=0.1,min_child_weight=1,max_depth=9)\n",
    "xgb_clf.fit(new_train,y_train['label'])\n",
    "y_xgb_pred=xgb_clf.predict(new_test)"
   ]
  },
  {
   "cell_type": "code",
   "execution_count": 106,
   "metadata": {},
   "outputs": [
    {
     "name": "stdout",
     "output_type": "stream",
     "text": [
      "TPR 0.3630385487528345 f1_score 0.3900596905835059 BER 0.3543916508445542 FPR 0.07182185044194292\n"
     ]
    }
   ],
   "source": [
    "Precall,f1_score,BER,FPR= cal_score(y_xgb_pred,y_val['label'])\n",
    "print(\"TPR \"+str(Precall)+\" f1_score \"+str(f1_score)+\" BER \"+str(BER)+\" FPR \"+str(FPR))"
   ]
  },
  {
   "cell_type": "code",
   "execution_count": null,
   "metadata": {
    "collapsed": true
   },
   "outputs": [],
   "source": []
  }
 ],
 "metadata": {
  "kernelspec": {
   "display_name": "Python 3",
   "language": "python",
   "name": "python3"
  },
  "language_info": {
   "codemirror_mode": {
    "name": "ipython",
    "version": 3
   },
   "file_extension": ".py",
   "mimetype": "text/x-python",
   "name": "python",
   "nbconvert_exporter": "python",
   "pygments_lexer": "ipython3",
   "version": "3.6.1"
  }
 },
 "nbformat": 4,
 "nbformat_minor": 2
}
