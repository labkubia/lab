{
 "cells": [
  {
   "cell_type": "code",
   "execution_count": 9,
   "metadata": {},
   "outputs": [
    {
     "data": {
      "text/html": [
       "<script>requirejs.config({paths: { 'plotly': ['https://cdn.plot.ly/plotly-latest.min']},});if(!window.Plotly) {{require(['plotly'],function(plotly) {window.Plotly=plotly;});}}</script>"
      ],
      "text/vnd.plotly.v1+html": [
       "<script>requirejs.config({paths: { 'plotly': ['https://cdn.plot.ly/plotly-latest.min']},});if(!window.Plotly) {{require(['plotly'],function(plotly) {window.Plotly=plotly;});}}</script>"
      ]
     },
     "metadata": {},
     "output_type": "display_data"
    }
   ],
   "source": [
    "import numpy as np\n",
    "import pandas as pd\n",
    "from scipy.io import loadmat\n",
    "import time\n",
    "import random\n",
    "\n",
    "#plot\n",
    "%matplotlib inline\n",
    "import matplotlib\n",
    "import matplotlib.pyplot as plt\n",
    "import plotly.offline as py\n",
    "py.init_notebook_mode(connected=True)\n",
    "import plotly.graph_objs as go\n",
    "import plotly.tools as tls\n",
    "from matplotlib.axes import Axes\n",
    "from scipy.spatial import distance"
   ]
  },
  {
   "cell_type": "code",
   "execution_count": 2,
   "metadata": {
    "collapsed": true
   },
   "outputs": [],
   "source": [
    "X_train=pd.read_csv(\"D:\\\\lab; signal processing\\\\forStudents\\\\medData\\\\train_x_boundarysel_50pergroup.csv\")\n",
    "y_train=pd.read_csv(\"D:\\\\lab; signal processing\\\\forStudents\\\\medData\\\\train_y_boundarysel_50pergroup.csv\")\n",
    "X_val=pd.read_csv(\"D:\\\\lab; signal processing\\\\forStudents\\\\medData\\\\scaled_validation_feature.csv\")\n",
    "y_val=pd.read_csv(\"D:\\\\lab; signal processing\\\\forStudents\\\\medData\\\\validation_label.csv\")"
   ]
  },
  {
   "cell_type": "code",
   "execution_count": 3,
   "metadata": {
    "collapsed": true
   },
   "outputs": [],
   "source": [
    "X_train = X_train.drop([\"predict_cluster\"],axis=1)\n",
    "y_train = y_train.drop([\"predict_cluster\"],axis=1)\n",
    "X_val = X_val.drop([\"Unnamed: 0\"],axis=1)\n",
    "y_val = y_val.drop([\"Unnamed: 0\"],axis=1)"
   ]
  },
  {
   "cell_type": "code",
   "execution_count": 4,
   "metadata": {
    "collapsed": true
   },
   "outputs": [],
   "source": [
    "#X_val = X_val.drop([\"sourceofpixel\"],axis=1)\n",
    "y_val = y_val.drop([\"sourceofpixel\"],axis=1)\n",
    "y_train = y_train.drop([\"sourceofpixel\"],axis=1)\n",
    "y_val = y_val.drop([\"indexofpixel\"],axis=1)\n",
    "y_train = y_train.drop([\"indexofpixel\"],axis=1)"
   ]
  },
  {
   "cell_type": "code",
   "execution_count": 53,
   "metadata": {
    "collapsed": true
   },
   "outputs": [],
   "source": [
    "def cal_score (y_pred,y_val):\n",
    "    n11 = 0\n",
    "    n12 = 0\n",
    "    n21 = 0\n",
    "    n22 = 0\n",
    "    y_pred_array= np.array(y_pred)\n",
    "    y_val_array= np.array(y_val)\n",
    "    ita = np.nditer (y_pred_array)\n",
    "    itb = np.nditer (y_val_array)\n",
    "    while not ita.finished:\n",
    "        if (ita[0]==2)&(itb[0]==2):\n",
    "            n22 = n22+1\n",
    "        elif (ita[0]==1)&(itb[0]==2):\n",
    "            n12 = n12+1\n",
    "        elif (ita[0]==2)&(itb[0]==1):\n",
    "            n21 = n21+1\n",
    "        else:\n",
    "            n11 = n11+1\n",
    "        ita.iternext()\n",
    "        itb.iternext()\n",
    "        \n",
    "    Precall = n22 / ( n12 + n22)\n",
    "    Pprecision = n22 / ( n21 + n22)\n",
    "    f1_score = 2 / (1/Precall + 1/Pprecision)\n",
    "    print (\"n11:..\"+str(n11)+\"..n12:..\"+str(n12)+\"..n21:..\"+str(n21)+\"..n22:..\"+str(n22))\n",
    "    print (\"TP:\"+str(Precall))\n",
    "    print (\"f1 score:\" + str(f1_score))\n",
    "    FP = n21/(n21 + n11)\n",
    "    FN = n12/(n12 +n22 )\n",
    "    BER = 1/2*(FP+FN)\n",
    "    print (\"FP:\"+ str(FP))\n",
    "    print (\"BER:\" + str(BER))\n",
    "    return Precall,f1_score,BER,FP"
   ]
  },
  {
   "cell_type": "code",
   "execution_count": 24,
   "metadata": {},
   "outputs": [],
   "source": [
    "def nn_parameter(X_val,X_train,y_train):\n",
    "    class_1=X_train[y_train['label']==1]\n",
    "    class_2=X_train[y_train['label']==2]\n",
    "    print(class_1.shape)\n",
    "    print(class_2.shape)\n",
    "    mean_1=np.array(class_1.mean()).reshape(1,-1)\n",
    "    mean_2=np.array(class_2.mean()).reshape(1,-1)\n",
    "    print(mean_2.shape)\n",
    "    cov_1=np.matrix(class_1.cov())\n",
    "    cov_2=np.matrix(class_2.cov())\n",
    "    dis_1=distance.cdist(X_val,mean_1,metric='mahalanobis',V=cov_1).ravel()\n",
    "    dis_2=distance.cdist(X_val,mean_2,metric='mahalanobis',V=cov_2).ravel()\n",
    "    return dis_1, dis_2"
   ]
  },
  {
   "cell_type": "code",
   "execution_count": 26,
   "metadata": {},
   "outputs": [
    {
     "name": "stdout",
     "output_type": "stream",
     "text": [
      "(216609, 5)\n",
      "(49203, 5)\n",
      "(1, 5)\n"
     ]
    }
   ],
   "source": [
    "dis_1, dis_2 =nn_parameter(X_val,X_train,y_train)"
   ]
  },
  {
   "cell_type": "code",
   "execution_count": 23,
   "metadata": {},
   "outputs": [
    {
     "data": {
      "text/plain": [
       "70027"
      ]
     },
     "execution_count": 23,
     "metadata": {},
     "output_type": "execute_result"
    }
   ],
   "source": [
    "dis_2.size"
   ]
  },
  {
   "cell_type": "code",
   "execution_count": 38,
   "metadata": {},
   "outputs": [],
   "source": [
    "#Nearest Mean algorithm\n",
    "def nn_predict(dis_1,dis_2,alpha):\n",
    "# get the k nearest mahalanobis distance\n",
    "    y_pred=[]\n",
    "    for index in range(len(X_val)):\n",
    "        #if index%1000==0:\n",
    "        #    print(\"the index is %d and time is %5.1f second\"%(index,(time.time()-start)))\n",
    "        if (alpha)*dis_1[index]<(1-alpha)*dis_2[index]:\n",
    "                y_pred.append(np.float64(1.0)) #added the weight to the vote\n",
    "        else:\n",
    "                y_pred.append(np.float64(2.0))\n",
    "        #y_proba_1.append(dis_2[index]/(dis_1[index]+dis_2[index]))\n",
    "        #y_proba_2.append(dis_1[index]/(dis_1[index]+dis_2[index]))\n",
    "    #print(\"NN STOP\")\n",
    "    y_pred=pd.Series(y_pred)\n",
    "    return y_pred"
   ]
  },
  {
   "cell_type": "code",
   "execution_count": 39,
   "metadata": {},
   "outputs": [],
   "source": [
    "y_pred=nn_predict(dis_1,dis_2,0.5)"
   ]
  },
  {
   "cell_type": "code",
   "execution_count": 40,
   "metadata": {},
   "outputs": [],
   "source": [
    "y_pred = {\"label_pred\":y_pred}\n",
    "y_pred = pd.DataFrame(data=y_pred)"
   ]
  },
  {
   "cell_type": "code",
   "execution_count": 41,
   "metadata": {},
   "outputs": [
    {
     "name": "stdout",
     "output_type": "stream",
     "text": [
      "n11:..52414..n12:..2714..n21:..8793..n22:..6106\n",
      "TP:0.6922902494331066\n",
      "f1 score:0.5148615034360638\n",
      "FP:0.14366003888444132\n",
      "BER:0.22568489472566738\n"
     ]
    }
   ],
   "source": [
    "Precall,f1_score,BER = cal_score (y_pred,y_val) "
   ]
  },
  {
   "cell_type": "code",
   "execution_count": 65,
   "metadata": {},
   "outputs": [],
   "source": [
    "def parameter_adjust (dis_1,dis_2):\n",
    "    alpha = 0.50\n",
    "    tp_list = []\n",
    "    fp_list = []\n",
    "    BER_list = []\n",
    "    f1_score_list = []\n",
    "    while(alpha<=0.54):\n",
    "        print (\"current alpha:\"+str(alpha))\n",
    "        y_pred_temp=nn_predict(dis_1,dis_2,alpha)\n",
    "        Precall,f1_score,BER,FP = cal_score (y_pred_temp,y_val)\n",
    "        alpha = alpha +0.001\n",
    "        tp_list.append(Precall)\n",
    "        fp_list.append(FP)\n",
    "        BER_list.append(BER)\n",
    "        f1_score_list.append(f1_score)\n",
    "        print(\"                 \")\n",
    "    return tp_list, fp_list, BER_list, f1_score_list"
   ]
  },
  {
   "cell_type": "code",
   "execution_count": 66,
   "metadata": {
    "scrolled": false
   },
   "outputs": [
    {
     "name": "stdout",
     "output_type": "stream",
     "text": [
      "current alpha:0.5\n",
      "n11:..52414..n12:..2714..n21:..8793..n22:..6106\n",
      "TP:0.6922902494331066\n",
      "f1 score:0.5148615034360638\n",
      "FP:0.14366003888444132\n",
      "BER:0.22568489472566738\n",
      "                 \n",
      "current alpha:0.501\n",
      "n11:..52286..n12:..2664..n21:..8921..n22:..6156\n",
      "TP:0.6979591836734694\n",
      "f1 score:0.51521111436582\n",
      "FP:0.1457513029555443\n",
      "BER:0.22389605964103748\n",
      "                 \n",
      "current alpha:0.502\n",
      "n11:..52158..n12:..2620..n21:..9049..n22:..6200\n",
      "TP:0.7029478458049887\n",
      "f1 score:0.5151855083302174\n",
      "FP:0.14784256702664728\n",
      "BER:0.22244736061082931\n",
      "                 \n",
      "current alpha:0.503\n",
      "n11:..52032..n12:..2551..n21:..9175..n22:..6269\n",
      "TP:0.7107709750566893\n",
      "f1 score:0.5167326079788988\n",
      "FP:0.14990115509663926\n",
      "BER:0.21956509001997496\n",
      "                 \n",
      "current alpha:0.504\n",
      "n11:..51907..n12:..2495..n21:..9300..n22:..6325\n",
      "TP:0.7171201814058957\n",
      "f1 score:0.5174882389036612\n",
      "FP:0.15194340516607577\n",
      "BER:0.21741161188009006\n",
      "                 \n",
      "current alpha:0.505\n",
      "n11:..51774..n12:..2452..n21:..9433..n22:..6368\n",
      "TP:0.7219954648526077\n",
      "f1 score:0.5172819950448805\n",
      "FP:0.1541163592399562\n",
      "BER:0.21606044719367426\n",
      "                 \n",
      "current alpha:0.506\n",
      "n11:..51655..n12:..2405..n21:..9552..n22:..6415\n",
      "TP:0.7273242630385488\n",
      "f1 score:0.5176100375196676\n",
      "FP:0.15606058130605976\n",
      "BER:0.2143681591337555\n",
      "                 \n",
      "current alpha:0.507\n",
      "n11:..51521..n12:..2369..n21:..9686..n22:..6451\n",
      "TP:0.73140589569161\n",
      "f1 score:0.5169691870016427\n",
      "FP:0.1582498733804957\n",
      "BER:0.21342198884444286\n",
      "                 \n",
      "current alpha:0.508\n",
      "n11:..51411..n12:..2330..n21:..9796..n22:..6490\n",
      "TP:0.735827664399093\n",
      "f1 score:0.5170078865609815\n",
      "FP:0.1600470534415998\n",
      "BER:0.21210969452125342\n",
      "                 \n",
      "current alpha:0.509\n",
      "n11:..51302..n12:..2296..n21:..9905..n22:..6524\n",
      "TP:0.7396825396825397\n",
      "f1 score:0.5167729415026338\n",
      "FP:0.16182789550214843\n",
      "BER:0.21107267790980438\n",
      "                 \n",
      "current alpha:0.51\n",
      "n11:..51170..n12:..2263..n21:..10037..n22:..6557\n",
      "TP:0.7434240362811791\n",
      "f1 score:0.5160147949948847\n",
      "FP:0.1639845115754734\n",
      "BER:0.21028023764714712\n",
      "                 \n",
      "current alpha:0.511\n",
      "n11:..51027..n12:..2228..n21:..10180..n22:..6592\n",
      "TP:0.7473922902494331\n",
      "f1 score:0.5151609878086902\n",
      "FP:0.16632084565490876\n",
      "BER:0.20946427770273784\n",
      "                 \n",
      "current alpha:0.512\n",
      "n11:..50918..n12:..2190..n21:..10289..n22:..6630\n",
      "TP:0.7517006802721088\n",
      "f1 score:0.515171529585454\n",
      "FP:0.1681016877154574\n",
      "BER:0.20820050372167426\n",
      "                 \n",
      "current alpha:0.513\n",
      "n11:..50793..n12:..2149..n21:..10414..n22:..6671\n",
      "TP:0.7563492063492063\n",
      "f1 score:0.5150357073923953\n",
      "FP:0.1701439377848939\n",
      "BER:0.20689736571784378\n",
      "                 \n",
      "current alpha:0.514\n",
      "n11:..50648..n12:..2117..n21:..10559..n22:..6703\n",
      "TP:0.7599773242630385\n",
      "f1 score:0.5139943255885285\n",
      "FP:0.17251294786544022\n",
      "BER:0.20626781180120085\n",
      "                 \n",
      "current alpha:0.515\n",
      "n11:..50523..n12:..2095..n21:..10684..n22:..6725\n",
      "TP:0.7624716553287982\n",
      "f1 score:0.5127911853292157\n",
      "FP:0.17455519793487673\n",
      "BER:0.20604177130303927\n",
      "                 \n",
      "current alpha:0.516\n",
      "n11:..50365..n12:..2059..n21:..10842..n22:..6761\n",
      "TP:0.7665532879818594\n",
      "f1 score:0.5117511259130304\n",
      "FP:0.17713660202264447\n",
      "BER:0.20529165702039254\n",
      "                 \n",
      "current alpha:0.517\n",
      "n11:..50192..n12:..2026..n21:..11015..n22:..6794\n",
      "TP:0.7702947845804988\n",
      "f1 score:0.5102707574448909\n",
      "FP:0.1799630761187446\n",
      "BER:0.20483414576912287\n",
      "                 \n",
      "current alpha:0.518\n",
      "n11:..50046..n12:..1989..n21:..11161..n22:..6831\n",
      "TP:0.7744897959183673\n",
      "f1 score:0.5095479635983887\n",
      "FP:0.18234842419984643\n",
      "BER:0.20392931414073956\n",
      "                 \n",
      "current alpha:0.519\n",
      "n11:..49870..n12:..1957..n21:..11337..n22:..6863\n",
      "TP:0.7781179138321995\n",
      "f1 score:0.5079940784603998\n",
      "FP:0.185223912297613\n",
      "BER:0.20355299923270673\n",
      "                 \n",
      "current alpha:0.52\n",
      "n11:..49674..n12:..1931..n21:..11533..n22:..6889\n",
      "TP:0.7810657596371882\n",
      "f1 score:0.5057631598267381\n",
      "FP:0.18842616040648946\n",
      "BER:0.20368020038465062\n",
      "                 \n",
      "current alpha:0.521\n",
      "n11:..49487..n12:..1899..n21:..11720..n22:..6921\n",
      "TP:0.7846938775510204\n",
      "f1 score:0.5040603037034339\n",
      "FP:0.19148136651036646\n",
      "BER:0.203393744479673\n",
      "                 \n",
      "current alpha:0.522\n",
      "n11:..49328..n12:..1865..n21:..11879..n22:..6955\n",
      "TP:0.7885487528344671\n",
      "f1 score:0.5030013741230925\n",
      "FP:0.19407910859868968\n",
      "BER:0.2027651778821113\n",
      "                 \n",
      "current alpha:0.523\n",
      "n11:..49163..n12:..1829..n21:..12044..n22:..6991\n",
      "TP:0.7926303854875284\n",
      "f1 score:0.5019565607610842\n",
      "FP:0.19677487869034588\n",
      "BER:0.20207224660140877\n",
      "                 \n",
      "current alpha:0.524\n",
      "n11:..48995..n12:..1801..n21:..12212..n22:..7019\n",
      "TP:0.7958049886621316\n",
      "f1 score:0.5004456169120531\n",
      "FP:0.19951966278366853\n",
      "BER:0.20185733706076853\n",
      "                 \n",
      "current alpha:0.525\n",
      "n11:..48816..n12:..1771..n21:..12391..n22:..7049\n",
      "TP:0.7992063492063493\n",
      "f1 score:0.4988676574663836\n",
      "FP:0.2024441648831016\n",
      "BER:0.20161890783837622\n",
      "                 \n",
      "current alpha:0.526\n",
      "n11:..48631..n12:..1741..n21:..12576..n22:..7079\n",
      "TP:0.8026077097505669\n",
      "f1 score:0.497208077260755\n",
      "FP:0.20546669498586764\n",
      "BER:0.20142949261765036\n",
      "                 \n",
      "current alpha:0.527\n",
      "n11:..48428..n12:..1721..n21:..12779..n22:..7099\n",
      "TP:0.804875283446712\n",
      "f1 score:0.49473830928984597\n",
      "FP:0.20878330909863252\n",
      "BER:0.20195401282596026\n",
      "                 \n",
      "current alpha:0.528\n",
      "n11:..48239..n12:..1702..n21:..12968..n22:..7118\n",
      "TP:0.8070294784580498\n",
      "f1 score:0.49249290804677226\n",
      "FP:0.2118711912036205\n",
      "BER:0.20242085637278528\n",
      "                 \n",
      "current alpha:0.529\n",
      "n11:..48044..n12:..1673..n21:..13163..n22:..7147\n",
      "TP:0.8103174603174603\n",
      "f1 score:0.4906968760727772\n",
      "FP:0.21505710131194145\n",
      "BER:0.20236982049724056\n",
      "                 \n",
      "current alpha:0.53\n",
      "n11:..47829..n12:..1656..n21:..13378..n22:..7164\n",
      "TP:0.8122448979591836\n",
      "f1 score:0.48797765819767047\n",
      "FP:0.21856977143137224\n",
      "BER:0.2031624367360943\n",
      "                 \n",
      "current alpha:0.531\n",
      "n11:..47607..n12:..1635..n21:..13600..n22:..7185\n",
      "TP:0.814625850340136\n",
      "f1 score:0.48539098125316665\n",
      "FP:0.22219680755469146\n",
      "BER:0.2037854786072777\n",
      "                 \n",
      "current alpha:0.532\n",
      "n11:..47397..n12:..1608..n21:..13810..n22:..7212\n",
      "TP:0.817687074829932\n",
      "f1 score:0.4833456202667381\n",
      "FP:0.22562778767134478\n",
      "BER:0.2039703564207064\n",
      "                 \n",
      "current alpha:0.533\n",
      "n11:..47217..n12:..1592..n21:..13990..n22:..7228\n",
      "TP:0.8195011337868481\n",
      "f1 score:0.48125707437246157\n",
      "FP:0.22856862777133335\n",
      "BER:0.20453374699224264\n",
      "                 \n",
      "current alpha:0.534\n",
      "n11:..47031..n12:..1574..n21:..14176..n22:..7246\n",
      "TP:0.8215419501133787\n",
      "f1 score:0.47920111103762986\n",
      "FP:0.23160749587465487\n",
      "BER:0.2050327728806381\n",
      "                 \n",
      "current alpha:0.535\n",
      "n11:..46828..n12:..1554..n21:..14379..n22:..7266\n",
      "TP:0.8238095238095238\n",
      "f1 score:0.4770064007877893\n",
      "FP:0.23492410998741975\n",
      "BER:0.205557293088948\n",
      "                 \n",
      "current alpha:0.536\n",
      "n11:..46635..n12:..1531..n21:..14572..n22:..7289\n",
      "TP:0.8264172335600907\n",
      "f1 score:0.4751474854144258\n",
      "FP:0.2380773440946297\n",
      "BER:0.2058300552672695\n",
      "                 \n",
      "current alpha:0.537\n",
      "n11:..46446..n12:..1507..n21:..14761..n22:..7313\n",
      "TP:0.8291383219954649\n",
      "f1 score:0.4734252605683951\n",
      "FP:0.2411652261996177\n",
      "BER:0.20601345210207642\n",
      "                 \n",
      "current alpha:0.538\n",
      "n11:..46235..n12:..1486..n21:..14972..n22:..7334\n",
      "TP:0.8315192743764173\n",
      "f1 score:0.47124590374606434\n",
      "FP:0.2446125443168265\n",
      "BER:0.20654663497020465\n",
      "                 \n",
      "current alpha:0.539\n",
      "n11:..46011..n12:..1469..n21:..15196..n22:..7351\n",
      "TP:0.8334467120181406\n",
      "f1 score:0.46870915293142473\n",
      "FP:0.24827225644125672\n",
      "BER:0.20741277221155807\n",
      "                 \n",
      "current alpha:0.54\n",
      "n11:..45787..n12:..1436..n21:..15420..n22:..7384\n",
      "TP:0.83718820861678\n",
      "f1 score:0.4669870984062738\n",
      "FP:0.25193196856568695\n",
      "BER:0.20737187997445344\n",
      "                 \n"
     ]
    }
   ],
   "source": [
    "tp_list,fp_list,BER_list, f1_score_list = parameter_adjust (dis_1,dis_2)"
   ]
  },
  {
   "cell_type": "code",
   "execution_count": 63,
   "metadata": {
    "collapsed": true
   },
   "outputs": [],
   "source": [
    "#function plot the ROC\n",
    "def plot_roc_curve(fpr, tpr, label=None):\n",
    "    plt.plot(fpr, tpr, linewidth=2, label=label)\n",
    "    plt.plot([0, 1], [0, 1], 'k--')\n",
    "    plt.axis([0, 1, 0, 1])\n",
    "    plt.xlabel('False Positive Rate')\n",
    "    plt.ylabel('True Positive Rate')"
   ]
  },
  {
   "cell_type": "code",
   "execution_count": null,
   "metadata": {
    "collapsed": true
   },
   "outputs": [],
   "source": [
    "#alpha: 0.4:0.1:0.7  find the best result between [0.50,0.54]"
   ]
  },
  {
   "cell_type": "code",
   "execution_count": 64,
   "metadata": {},
   "outputs": [
    {
     "data": {
      "image/png": "[encoded data removed]",
      "text/plain": [
       "<matplotlib.figure.Figure at 0x1e5396582b0>"
      ]
     },
     "metadata": {},
     "output_type": "display_data"
    }
   ],
   "source": [
    "plt.title(\"Nearest Mean ROC\")\n",
    "plot_roc_curve(fp_list,tp_list,label='Nearest Mean')\n",
    "plt.show()"
   ]
  },
  {
   "cell_type": "code",
   "execution_count": null,
   "metadata": {
    "collapsed": true
   },
   "outputs": [],
   "source": [
    "'''\n",
    "current alpha:0.5000000000000001\n",
    "n11:..52414..n12:..2714..n21:..8793..n22:..6106\n",
    "TP:0.6922902494331066\n",
    "f1 score:0.5148615034360638\n",
    "FP:0.14366003888444132\n",
    "BER:0.22568489472566738\n",
    "                 \n",
    "current alpha:0.5100000000000001\n",
    "n11:..51170..n12:..2263..n21:..10037..n22:..6557\n",
    "TP:0.7434240362811791\n",
    "f1 score:0.5160147949948847\n",
    "FP:0.1639845115754734\n",
    "BER:0.21028023764714712\n",
    "                 \n",
    "current alpha:0.5200000000000001\n",
    "n11:..49674..n12:..1931..n21:..11533..n22:..6889\n",
    "TP:0.7810657596371882\n",
    "f1 score:0.5057631598267381\n",
    "FP:0.18842616040648946\n",
    "BER:0.20368020038465062\n",
    "                 \n",
    "current alpha:0.5300000000000001\n",
    "n11:..47829..n12:..1656..n21:..13378..n22:..7164\n",
    "TP:0.8122448979591836\n",
    "f1 score:0.48797765819767047\n",
    "FP:0.21856977143137224\n",
    "BER:0.2031624367360943\n",
    "'''"
   ]
  }
 ],
 "metadata": {
  "kernelspec": {
   "display_name": "Python 3",
   "language": "python",
   "name": "python3"
  },
  "language_info": {
   "codemirror_mode": {
    "name": "ipython",
    "version": 3
   },
   "file_extension": ".py",
   "mimetype": "text/x-python",
   "name": "python",
   "nbconvert_exporter": "python",
   "pygments_lexer": "ipython3",
   "version": "3.6.2"
  }
 },
 "nbformat": 4,
 "nbformat_minor": 2
}
