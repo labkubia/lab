{
 "cells": [
  {
   "cell_type": "code",
   "execution_count": 1,
   "metadata": {},
   "outputs": [
    {
     "data": {
      "text/html": [
       "<script>requirejs.config({paths: { 'plotly': ['https://cdn.plot.ly/plotly-latest.min']},});if(!window.Plotly) {{require(['plotly'],function(plotly) {window.Plotly=plotly;});}}</script>"
      ],
      "text/vnd.plotly.v1+html": [
       "<script>requirejs.config({paths: { 'plotly': ['https://cdn.plot.ly/plotly-latest.min']},});if(!window.Plotly) {{require(['plotly'],function(plotly) {window.Plotly=plotly;});}}</script>"
      ]
     },
     "metadata": {},
     "output_type": "display_data"
    }
   ],
   "source": [
    "#all packages which will be used\n",
    "import numpy as np\n",
    "import pandas as pd\n",
    "from scipy.io import loadmat\n",
    "import time\n",
    "import random\n",
    "\n",
    "#plot\n",
    "%matplotlib inline\n",
    "import matplotlib\n",
    "import matplotlib.pyplot as plt\n",
    "import plotly.offline as py\n",
    "py.init_notebook_mode(connected=True)\n",
    "import plotly.graph_objs as go\n",
    "import plotly.tools as tls\n",
    "from matplotlib.axes import Axes"
   ]
  },
  {
   "cell_type": "code",
   "execution_count": 2,
   "metadata": {
    "collapsed": true
   },
   "outputs": [],
   "source": [
    "X_train=pd.read_csv(\"D:\\\\lab; signal processing\\\\forStudents\\\\medData\\\\train_feature.csv\")\n",
    "y_train=pd.read_csv(\"D:\\\\lab; signal processing\\\\forStudents\\\\medData\\\\train_label.csv\")\n",
    "X_val=pd.read_csv(\"D:\\\\lab; signal processing\\\\forStudents\\\\medData\\\\validation_feature.csv\")\n",
    "y_val=pd.read_csv(\"D:\\\\lab; signal processing\\\\forStudents\\\\medData\\\\validation_label.csv\")"
   ]
  },
  {
   "cell_type": "code",
   "execution_count": null,
   "metadata": {
    "collapsed": true
   },
   "outputs": [],
   "source": [
    "scaler1=MinMaxScaler(feature_range=(0, 1), copy=True)\n",
    "class Feature_scaling(BaseEstimator,TransformerMixin):\n",
    "    def fit(self,X,y=None):\n",
    "        scaler1.fit(np.array(X['feature0']).reshape(-1,1))\n",
    "        return self\n",
    "    def transform(self,X,y=None):\n",
    "        X['feature0']=scaler1.transform(np.array(X['feature0']).reshape(-1,1))\n",
    "        return X"
   ]
  },
  {
   "cell_type": "code",
   "execution_count": null,
   "metadata": {
    "collapsed": true
   },
   "outputs": [],
   "source": [
    "scaler2=StandardScaler()\n",
    "class Normalization(BaseEstimator,TransformerMixin):\n",
    "    def fit(self,X,y=None):\n",
    "        scaler2.fit(X[['feature0','feature1','feature2','feature3','feature4']])\n",
    "        return self\n",
    "    def transform(self,X,y=None):\n",
    "        X[['feature0','feature1','feature2','feature3','feature4']]=scaler2.transform(X[['feature0','feature1','feature2','feature3','feature4']])\n",
    "        return pd.DataFrame(X)"
   ]
  },
  {
   "cell_type": "code",
   "execution_count": null,
   "metadata": {
    "collapsed": true
   },
   "outputs": [],
   "source": [
    "feature_eng=Pipeline([(\"feature_scale\",Feature_scaling()),\n",
    "                     (\"normalization\",Normalization())])"
   ]
  },
  {
   "cell_type": "code",
   "execution_count": null,
   "metadata": {
    "collapsed": true
   },
   "outputs": [],
   "source": [
    "feature_eng.fit_transform(X_train.drop('Unnamed: 0',1))"
   ]
  },
  {
   "cell_type": "code",
   "execution_count": null,
   "metadata": {
    "collapsed": true
   },
   "outputs": [],
   "source": [
    "#X_train_scaled=feature_eng.fit_transform(X_train.drop('Unnamed: 0',1))\n",
    "X_val_scaled=feature_eng.transform(X_val.drop('Unnamed: 0',1))"
   ]
  },
  {
   "cell_type": "code",
   "execution_count": null,
   "metadata": {
    "collapsed": true
   },
   "outputs": [],
   "source": [
    "X_val_scaled"
   ]
  },
  {
   "cell_type": "code",
   "execution_count": null,
   "metadata": {
    "collapsed": true
   },
   "outputs": [],
   "source": [
    "X_val_scaled.to_csv(\"D:\\\\lab; signal processing\\\\forStudents\\\\medData\\\\scaled_validation_feature.csv\",index=True)\n",
    "y_val.to_csv(\"D:\\\\lab; signal processing\\\\forStudents\\\\medData\\\\validation_label.csv\",index=False)"
   ]
  },
  {
   "cell_type": "code",
   "execution_count": null,
   "metadata": {
    "collapsed": true
   },
   "outputs": [],
   "source": [
    "class outliers_clean_resampling(BaseEstimator,TransformerMixin):\n",
    "    def __init__(self,p_free,labels,y_dropped=pd.Series([]),md_dis=pd.Series([]),p_value_1=0.,p_value_2=0.,h_value=0):\n",
    "        self.md_dis=md_dis\n",
    "        self.p_value_1=p_value_1\n",
    "        self.p_value_2=p_value_2\n",
    "        self.p_free=p_free\n",
    "        self.h_value=h_value\n",
    "        self.labels=labels\n",
    "        self.y_dropped=labels\n",
    "    def fit(self,X,y=None):\n",
    "        self.h_value=np.int((X.shape[0]+self.p_free+1)/2)\n",
    "        mean_value=np.array([X.mean()])\n",
    "        cov_value=np.mat(X.cov().as_matrix()).I\n",
    "        print(\"MD Start\")\n",
    "        self.md_dis=distance.cdist(X,mean_value,metric='mahalanobis',VI=cov_value).ravel()\n",
    "        print(\"MD end\")\n",
    "        chi2.fit(self.md_dis,self.p_free)\n",
    "        self.p_value_1=np.sqrt(chi2.ppf(0.99999999,self.p_free))\n",
    "        self.p_value_2=np.sqrt(chi2.ppf(0.5,self.p_free))\n",
    "        return self\n",
    "    def transform(self,X,y=None):\n",
    "        np.random.seed(30)\n",
    "        mean_set,cov_set,m_dis_order,V_j=[],[],[],[]\n",
    "        print(\"Resampling begin\")\n",
    "        start1=time.time()\n",
    "        for subset in range(n_subsamples):\n",
    "            if subset%1000==0:\n",
    "                print(\"replications number:%d time:%5.1f minute\"%(subset,(time.time()-start1)/60))\n",
    "            sample_ID=[]\n",
    "            for index in range(self.p_free+1):\n",
    "                sample_ID.append(np.random.choice(range(len(X)),replace=False))\n",
    "            X_tr=np.array(X.iloc[sample_ID])\n",
    "            sub_mean=np.array([(1/(self.p_free+1))*np.sum(X_tr,axis=0)])\n",
    "            mean_set.append(sub_mean)\n",
    "            sub_cov=np.mat((1/(self.p_free))*np.dot((X_tr-sub_mean).T,(X_tr-sub_mean))).I\n",
    "            cov_set.append(sub_cov) \n",
    "            m_dis=pd.Series((distance.cdist(X,sub_mean,metric='mahalanobis',VI=sub_cov)**2).ravel())\\\n",
    "            .sort_values(ascending=True).iloc[self.h_value] #ascending=True : from small to big\n",
    "            #if subset != 0 :\n",
    "                #if m_dis>=(V_j[subset-1]/sub_cov.I.det())**(1/self.p_free):\n",
    "                    #break\n",
    "                #else:\n",
    "                    #pass\n",
    "            m_dis_order.append(m_dis)\n",
    "            V_j.append(m_dis*np.linalg.det(sub_cov))\n",
    "        print(\"Resampling end\")\n",
    "        #print(m_dis_order[])\n",
    "        J_index=pd.Series(V_j).sort_values(ascending=True).index.tolist()[0]\n",
    "        m_dis_value=m_dis_order[J_index]\n",
    "        robust_mean=mean_set[J_index]\n",
    "        robust_cov=((1+15/(X.shape[0]-self.p_free))**2)*(1/self.p_value_2)*m_dis_value*cov_set[J_index]\n",
    "        print(\"RD Start\")\n",
    "        robust_dis=distance.cdist(X,robust_mean,metric='mahalanobis',VI=robust_cov).ravel()\n",
    "        print(\"RD end\")\n",
    "        print(\"Robust distance: \",robust_dis)\n",
    "        print(\"Cutoff value: \",self.p_value_1)\n",
    "        count,count1,count2=0,0,0\n",
    "        count1=X.shape[0]\n",
    "        print(\"Drop Start\")\n",
    "        robust_dis=pd.DataFrame(robust_dis,columns=['robust_dis'])\n",
    "        X=pd.concat([X,robust_dis],axis=1)\n",
    "        self.labels=pd.concat([self.labels,robust_dis],axis=1)\n",
    "        self.y_dropped=pd.concat([self.y_dropped,robust_dis],axis=1)\n",
    "        X=X[X['robust_dis']<=self.p_value_1].copy()\n",
    "        self.labels=self.labels[self.labels['robust_dis']<=self.p_value_1].copy()\n",
    "        self.y_dropped=self.y_dropped[self.y_dropped['robust_dis']>self.p_value_1].copy()\n",
    "        X=pd.DataFrame.reset_index(X).drop('index',axis=1)\n",
    "        self.labels=pd.DataFrame.reset_index(self.labels).drop('index',axis=1)\n",
    "        self.y_dropped=pd.DataFrame.reset_index(self.y_dropped).drop('index',axis=1)\n",
    "        count2=X.shape[0]\n",
    "        count=count1-count2\n",
    "        print(\"Drop End\")\n",
    "        print(\"drop count:\",count)\n",
    "        return X,self.labels,self.y_dropped,robust_dis"
   ]
  },
  {
   "cell_type": "code",
   "execution_count": null,
   "metadata": {
    "collapsed": true
   },
   "outputs": [],
   "source": []
  },
  {
   "cell_type": "code",
   "execution_count": null,
   "metadata": {
    "collapsed": true
   },
   "outputs": [],
   "source": [
    "n_subsamples=253\n",
    "X_train_scaled=feature_eng.fit_transform(X_train.drop('Unnamed: 0',1))\n",
    "X_train_new,y_train_resample,y_dropped_resample,robust_dis=outliers_clean_resampling(p_free=5,labels=y_train).fit_transform(X_train_scaled)"
   ]
  },
  {
   "cell_type": "code",
   "execution_count": null,
   "metadata": {
    "collapsed": true
   },
   "outputs": [],
   "source": [
    "import re\n",
    "dataset = loadmat (\"D:\\\\lab; signal processing\\\\forStudents\\\\medData\\\\dataset.mat\",mat_dtype=True)\n",
    "data = dataset [\"dataset\"]\n",
    "cmap1 = matplotlib.colors.LinearSegmentedColormap.from_list('my_cmap',['black','green','blue'],256)\n",
    "def check_resultofdropping (data,stuck,index,slices,features,selected,dropped):\n",
    "    target_data=data[stuck][0][0][0][0][:,:,slices,features]\n",
    "    target_image1=target_data.reshape(target_data.shape[0],target_data.shape[1])\n",
    "    target_label=data[stuck][0][0][0][index][:,:,slices]\n",
    "    target_image2=target_label.reshape(target_label.shape[0],target_label.shape[1])\n",
    "    plt.imshow(target_image1,cmap = matplotlib.cm.binary,alpha=0.4)\n",
    "    plt.imshow(target_image2,cmap = cmap1,interpolation=\"bilinear\",alpha=0.4)\n",
    "    plt.axis(\"off\") #close the axis number\n",
    "\n",
    "    selected_x=[]\n",
    "    selected_y=[]\n",
    "    selected_matrix = selected[selected['sourceofpixel']==stuck]\n",
    "    selected_matrix=pd.DataFrame.reset_index(selected_matrix).drop('index',axis=1)\n",
    "    for i in range(len(selected_matrix)):\n",
    "        temparr = re.findall(\"\\d+\",selected_matrix.iloc[i]['indexofpixel'])\n",
    "        if (int(temparr[2]) == slices):\n",
    "            selected_x.append(int(temparr[0]))\n",
    "            selected_y.append(int(temparr[1]))\n",
    "    plt.scatter(selected_y,selected_x, s = 3)\n",
    "    \n",
    "    dropped_x=[]\n",
    "    dropped_y=[]\n",
    "    dropped_matrix = dropped[dropped['sourceofpixel']==stuck]\n",
    "    dropped_matrix = pd.DataFrame.reset_index(dropped_matrix).drop('index',axis=1)\n",
    "    for i in range(len(dropped_matrix)):\n",
    "        temparr = re.findall(\"\\d+\",dropped_matrix.iloc[i]['indexofpixel'])\n",
    "        if (int(temparr[2]) == slices):\n",
    "            dropped_x.append(int(temparr[0]))\n",
    "            dropped_y.append(int(temparr[1]))\n",
    "    plt.scatter(dropped_y,dropped_x, s = 2)\n",
    "    plt.show()\n",
    "    \n",
    "    target_data=data[stuck][0][0][0][0][:,:,slices,features]\n",
    "    target_image1=target_data.reshape(target_data.shape[0],target_data.shape[1])\n",
    "    target_label=data[stuck][0][0][0][index][:,:,slices]\n",
    "    target_image2=target_label.reshape(target_label.shape[0],target_label.shape[1])\n",
    "    plt.imshow(target_image1,cmap = matplotlib.cm.binary,alpha=0.4)\n",
    "    plt.imshow(target_image2,cmap = cmap1,interpolation=\"bilinear\",alpha=0.4)\n",
    "    plt.axis(\"off\") #close the axis number\n",
    "    plt.show()"
   ]
  }
 ],
 "metadata": {
  "kernelspec": {
   "display_name": "Python 3",
   "language": "python",
   "name": "python3"
  },
  "language_info": {
   "codemirror_mode": {
    "name": "ipython",
    "version": 3
   },
   "file_extension": ".py",
   "mimetype": "text/x-python",
   "name": "python",
   "nbconvert_exporter": "python",
   "pygments_lexer": "ipython3",
   "version": "3.6.2"
  }
 },
 "nbformat": 4,
 "nbformat_minor": 2
}
