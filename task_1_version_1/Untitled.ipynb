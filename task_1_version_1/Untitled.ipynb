{
 "cells": [
  {
   "cell_type": "code",
   "execution_count": 8,
   "metadata": {},
   "outputs": [
    {
     "data": {
      "text/html": [
       "<script>requirejs.config({paths: { 'plotly': ['https://cdn.plot.ly/plotly-latest.min']},});if(!window.Plotly) {{require(['plotly'],function(plotly) {window.Plotly=plotly;});}}</script>"
      ],
      "text/vnd.plotly.v1+html": [
       "<script>requirejs.config({paths: { 'plotly': ['https://cdn.plot.ly/plotly-latest.min']},});if(!window.Plotly) {{require(['plotly'],function(plotly) {window.Plotly=plotly;});}}</script>"
      ]
     },
     "metadata": {},
     "output_type": "display_data"
    }
   ],
   "source": [
    "import numpy as np\n",
    "import pandas as pd\n",
    "from scipy.io import loadmat\n",
    "import time\n",
    "import random\n",
    "\n",
    "from heapq import nlargest\n",
    "\n",
    "from sklearn.neighbors import KNeighborsClassifier\n",
    "from scipy.spatial import distance\n",
    "#plot\n",
    "%matplotlib inline\n",
    "import matplotlib\n",
    "import matplotlib.pyplot as plt\n",
    "import plotly.offline as py\n",
    "py.init_notebook_mode(connected=True)\n",
    "import plotly.graph_objs as go\n",
    "import plotly.tools as tls\n",
    "from matplotlib.axes import Axes"
   ]
  },
  {
   "cell_type": "code",
   "execution_count": 2,
   "metadata": {
    "collapsed": true
   },
   "outputs": [],
   "source": [
    "X_train=pd.read_csv(\"D:\\\\lab; signal processing\\\\forStudents\\\\medData\\\\train_x_resample3000_boundarysel_50pergroup.csv\")\n",
    "y_train=pd.read_csv(\"D:\\\\lab; signal processing\\\\forStudents\\\\medData\\\\train_y_resample3000_boundarysel_50pergroup.csv\")\n",
    "X_val=pd.read_csv(\"D:\\\\lab; signal processing\\\\forStudents\\\\medData\\\\scaled_validation_feature.csv\")\n",
    "y_val=pd.read_csv(\"D:\\\\lab; signal processing\\\\forStudents\\\\medData\\\\validation_label.csv\")"
   ]
  },
  {
   "cell_type": "code",
   "execution_count": 3,
   "metadata": {
    "collapsed": true
   },
   "outputs": [],
   "source": [
    "X_train = X_train.drop([\"predict_cluster\"],axis=1)\n",
    "y_train = y_train.drop([\"predict_cluster\"],axis=1)\n",
    "X_val = X_val.drop([\"Unnamed: 0\"],axis=1)\n",
    "y_val = y_val.drop([\"Unnamed: 0\"],axis=1)"
   ]
  },
  {
   "cell_type": "code",
   "execution_count": 4,
   "metadata": {
    "collapsed": true
   },
   "outputs": [],
   "source": [
    "def cal_score (y_pred,y_val):\n",
    "    n11 = 0\n",
    "    n12 = 0\n",
    "    n21 = 0\n",
    "    n22 = 0\n",
    "    y_pred_array= np.array(y_pred)\n",
    "    y_val_array= np.array(y_val)\n",
    "    for j in range(len(y_pred_array)):\n",
    "        if (y_pred_array[j]==2)&(y_val_array[j]==2):\n",
    "            n22 = n22+1\n",
    "        elif (y_pred_array[j]==1)&(y_val_array[j]==2):\n",
    "            n12 = n12 +1\n",
    "        elif (y_pred_array[j]==2)&(y_val_array[j]==1):\n",
    "            n21 = n21+1\n",
    "        else:\n",
    "            n11 = n11+1   \n",
    "    '''\n",
    "    ita = np.nditer (y_pred_array)\n",
    "    itb = np.nditer (y_val_array)\n",
    "    while not ita.finished:\n",
    "        if (ita[0]==2)&(itb[0]==2):\n",
    "            n22 = n22+1\n",
    "        elif (ita[0]==1)&(itb[0]==2):\n",
    "            n12 = n12+1\n",
    "        elif (ita[0]==2)&(itb[0]==1):\n",
    "            n21 = n21+1\n",
    "        else:\n",
    "            n11 = n11+1\n",
    "        ita.iternext()\n",
    "        itb.iternext()\n",
    "    '''\n",
    "    try:       \n",
    "        Precall = n22 / ( n12 + n22)\n",
    "        Pprecision = n22 / ( n21 + n22)\n",
    "        f1_score = 2 / (1/Precall + 1/Pprecision)\n",
    "        FP = n21/(n21 + n11)\n",
    "        FN = n12/(n12 +n22 )\n",
    "        BER = 1/2*(FP+FN)   \n",
    "    except Exception as ex:\n",
    "        print (ex.message)\n",
    "    print (\"n11:..\"+str(n11)+\"..n12:..\"+str(n12)+\"..n21:..\"+str(n21)+\"..n22:..\"+str(n22))\n",
    "    print (\"TP:\"+str(Precall))\n",
    "    print (\"f1 score:\" + str(f1_score))\n",
    "    print (\"FP:\"+ str(FP))\n",
    "    print (\"BER:\" + str(BER))\n",
    "    return Precall,f1_score,BER,FP"
   ]
  },
  {
   "cell_type": "code",
   "execution_count": 9,
   "metadata": {
    "collapsed": true
   },
   "outputs": [],
   "source": [
    "def knn_predict(X_val,X_train,y_train,k_value):\n",
    "    start=time.time()\n",
    "    y_pred=[]\n",
    "    #y_proba_1=[]\n",
    "    #y_proba_2=[]\n",
    "    cov_train=np.matrix(X_train.cov())\n",
    "    print(\"KNN start\")\n",
    "    start=time.time()\n",
    "    for test_index in range(len(X_val)):\n",
    "        #if test_index%100==0:\n",
    "        #    print(\"the X_val is %d and time is %5.1f minute\"%(test_index,(time.time()-start)/60))\n",
    "        good=0\n",
    "        bad=0\n",
    "        sample=np.array(X_val.iloc[test_index]).reshape(1,-1)\n",
    "        m_dis=pd.Series((distance.cdist(X_train,sample,metric='euclidean',V=cov_train)).ravel())\\\n",
    "        .sort_values(ascending=True)#average computing time 0.12s\n",
    "        dis_set=m_dis[:k_value]# get the k nearest mahalanobis distance\n",
    "        for index in dis_set.index:\n",
    "            if y_train.loc[index] == 1.0:\n",
    "                good += 1/dis_set.loc[index] #added the weight to the vote\n",
    "            else:\n",
    "                bad += 1/dis_set.loc[index]\n",
    "        if good > bad :\n",
    "            y_pred.append(np.float64(1.0))\n",
    "        else:\n",
    "            y_pred.append(np.float64(2.0))\n",
    "        #y_proba_1.append(good/(good+bad))\n",
    "        #y_proba_2.append(bad/(good+bad))\n",
    "    print(\"time usage:%5.1fminute\"%((time.time()-start)/60))\n",
    "    print(\"KNN STOP\")\n",
    "    y_pred=pd.Series(y_pred)\n",
    "    return y_pred #,y_proba_1,y_proba_2"
   ]
  },
  {
   "cell_type": "code",
   "execution_count": 11,
   "metadata": {},
   "outputs": [
    {
     "name": "stdout",
     "output_type": "stream",
     "text": [
      "KNN start\n",
      "time usage: 54.4minute\n",
      "KNN STOP\n"
     ]
    }
   ],
   "source": [
    "y_pred = knn_predict(X_val,X_train,y_train['label'],5)"
   ]
  },
  {
   "cell_type": "code",
   "execution_count": 12,
   "metadata": {
    "collapsed": true
   },
   "outputs": [],
   "source": [
    "y_pred = {\"label_pred\":y_pred}\n",
    "y_pred = pd.DataFrame(data=y_pred)"
   ]
  },
  {
   "cell_type": "code",
   "execution_count": 13,
   "metadata": {},
   "outputs": [
    {
     "name": "stdout",
     "output_type": "stream",
     "text": [
      "n11:..55302..n12:..5215..n21:..5905..n22:..3605\n",
      "TP:0.4087301587301587\n",
      "f1 score:0.39334424440807414\n",
      "FP:0.09647589328018037\n",
      "BER:0.3438728672750108\n"
     ]
    }
   ],
   "source": [
    "Precall,f1_score,BER,FP = cal_score (y_pred,y_val['label']) "
   ]
  },
  {
   "cell_type": "code",
   "execution_count": null,
   "metadata": {
    "collapsed": true
   },
   "outputs": [],
   "source": [
    "def knn_predict(X_val,X_train,y_train,k_value):\n",
    "    start=time.time()\n",
    "    y_pred=[]\n",
    "    #y_proba_1=[]\n",
    "    #y_proba_2=[]\n",
    "    cov_train=np.matrix(X_train.cov())\n",
    "    print(\"KNN start\")\n",
    "    start=time.time()\n",
    "    for test_index in range(len(X_val)):\n",
    "        #if test_index%100==0:\n",
    "        #    print(\"the X_val is %d and time is %5.1f minute\"%(test_index,(time.time()-start)/60))\n",
    "        good=0\n",
    "        bad=0\n",
    "        sample=np.array(X_val.iloc[test_index]).reshape(1,-1)\n",
    "        m_dis=pd.Series((distance.cdist(X_train,sample,metric='euclidean',V=cov_train)).ravel())\n",
    "        #.sort_values(ascending=True)#average computing time 0.12s\n",
    "        #dis_set=m_dis[:k_value]# get the k nearest mahalanobis distance\n",
    "        dis_set=nlargest(k_value, data)\n",
    "        for index in dis_set.index:\n",
    "            if y_train.loc[index] == 1.0:\n",
    "                good += 1/dis_set.loc[index] #added the weight to the vote\n",
    "            else:\n",
    "                bad += 1/dis_set.loc[index]\n",
    "        if good > bad :\n",
    "            y_pred.append(np.float64(1.0))\n",
    "        else:\n",
    "            y_pred.append(np.float64(2.0))\n",
    "        #y_proba_1.append(good/(good+bad))\n",
    "        #y_proba_2.append(bad/(good+bad))\n",
    "    print(\"time usage:%5.1fminute\"%((time.time()-start)/60))\n",
    "    print(\"KNN STOP\")\n",
    "    y_pred=pd.Series(y_pred)\n",
    "    return y_pred #,y_proba_1,y_proba_2"
   ]
  }
 ],
 "metadata": {
  "kernelspec": {
   "display_name": "Python 3",
   "language": "python",
   "name": "python3"
  },
  "language_info": {
   "codemirror_mode": {
    "name": "ipython",
    "version": 3
   },
   "file_extension": ".py",
   "mimetype": "text/x-python",
   "name": "python",
   "nbconvert_exporter": "python",
   "pygments_lexer": "ipython3",
   "version": "3.6.2"
  }
 },
 "nbformat": 4,
 "nbformat_minor": 2
}
