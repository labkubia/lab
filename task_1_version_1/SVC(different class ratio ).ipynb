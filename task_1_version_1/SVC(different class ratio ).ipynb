{
 "cells": [
  {
   "cell_type": "code",
   "execution_count": 1,
   "metadata": {},
   "outputs": [
    {
     "data": {
      "text/html": [
       "<script>requirejs.config({paths: { 'plotly': ['https://cdn.plot.ly/plotly-latest.min']},});if(!window.Plotly) {{require(['plotly'],function(plotly) {window.Plotly=plotly;});}}</script>"
      ],
      "text/vnd.plotly.v1+html": [
       "<script>requirejs.config({paths: { 'plotly': ['https://cdn.plot.ly/plotly-latest.min']},});if(!window.Plotly) {{require(['plotly'],function(plotly) {window.Plotly=plotly;});}}</script>"
      ]
     },
     "metadata": {},
     "output_type": "display_data"
    }
   ],
   "source": [
    "import numpy as np\n",
    "import pandas as pd\n",
    "from scipy.io import loadmat\n",
    "import time\n",
    "import random\n",
    "\n",
    "from sklearn.svm import SVC\n",
    "\n",
    "#plot\n",
    "%matplotlib inline\n",
    "import matplotlib\n",
    "import matplotlib.pyplot as plt\n",
    "import plotly.offline as py\n",
    "py.init_notebook_mode(connected=True)\n",
    "import plotly.graph_objs as go\n",
    "import plotly.tools as tls\n",
    "from matplotlib.axes import Axes"
   ]
  },
  {
   "cell_type": "code",
   "execution_count": 3,
   "metadata": {
    "collapsed": true
   },
   "outputs": [],
   "source": [
    "def cal_score (y_pred,y_val):\n",
    "    n11 = 0\n",
    "    n12 = 0\n",
    "    n21 = 0\n",
    "    n22 = 0\n",
    "    y_pred_array= np.array(y_pred)\n",
    "    y_val_array= np.array(y_val)\n",
    "    for j in range(len(y_pred_array)):\n",
    "        if (y_pred_array[j]==2)&(y_val_array[j]==2):\n",
    "            n22 = n22+1\n",
    "        elif (y_pred_array[j]==1)&(y_val_array[j]==2):\n",
    "            n12 = n12 +1\n",
    "        elif (y_pred_array[j]==2)&(y_val_array[j]==1):\n",
    "            n21 = n21+1\n",
    "        else:\n",
    "            n11 = n11+1 \n",
    "    try:       \n",
    "        Precall = n22 / ( n12 + n22)\n",
    "        Pprecision = n22 / ( n21 + n22)\n",
    "        f1_score = 2 / (1/Precall + 1/Pprecision)\n",
    "        FPR = n21/(n21 + n11)\n",
    "        FNR = n12/(n12 +n22 )\n",
    "        BER = 1/2*(FPR+FNR)\n",
    "        print (\"n11:..\"+str(n11)+\"..n12:..\"+str(n12)+\"..n21:..\"+str(n21)+\"..n22:..\"+str(n22))\n",
    "        print (\"TPR:\"+str(Precall))\n",
    "        print (\"f1 score:\" + str(f1_score))\n",
    "        print (\"FPR:\"+ str(FPR))\n",
    "        print (\"BER:\" + str(BER))\n",
    "        return Precall,f1_score,BER,FPR\n",
    "    except Exception as ex:\n",
    "        print (\"divided by zero, just skip\")\n",
    "        return 0,0,0,0"
   ]
  },
  {
   "cell_type": "code",
   "execution_count": 4,
   "metadata": {
    "collapsed": true
   },
   "outputs": [],
   "source": [
    "X_train=pd.read_csv(\"D:\\\\lab; signal processing\\\\forStudents\\\\medData\\\\train_x_resample3000_boundarysel_50pergroup.csv\")\n",
    "y_train=pd.read_csv(\"D:\\\\lab; signal processing\\\\forStudents\\\\medData\\\\train_y_resample3000_boundarysel_50pergroup.csv\")\n",
    "X_val=pd.read_csv(\"D:\\\\lab; signal processing\\\\forStudents\\\\medData\\\\scaled_validation_feature.csv\")\n",
    "y_val=pd.read_csv(\"D:\\\\lab; signal processing\\\\forStudents\\\\medData\\\\validation_label.csv\")\n",
    "X_train = X_train.drop([\"predict_cluster\"],axis=1)\n",
    "y_train = y_train.drop([\"predict_cluster\"],axis=1)\n",
    "X_val = X_val.drop([\"Unnamed: 0\"],axis=1)\n",
    "y_val = y_val.drop([\"Unnamed: 0\"],axis=1)"
   ]
  },
  {
   "cell_type": "code",
   "execution_count": 7,
   "metadata": {
    "collapsed": true
   },
   "outputs": [],
   "source": [
    "svc_clf=SVC(kernel=\"rbf\",degree=len(X_train))"
   ]
  },
  {
   "cell_type": "code",
   "execution_count": 8,
   "metadata": {},
   "outputs": [
    {
     "ename": "KeyboardInterrupt",
     "evalue": "",
     "output_type": "error",
     "traceback": [
      "\u001b[1;31m---------------------------------------------------------------------------\u001b[0m",
      "\u001b[1;31mKeyboardInterrupt\u001b[0m                         Traceback (most recent call last)",
      "\u001b[1;32m<ipython-input-8-8d6fc10969ef>\u001b[0m in \u001b[0;36m<module>\u001b[1;34m()\u001b[0m\n\u001b[1;32m----> 1\u001b[1;33m \u001b[0msvc_clf\u001b[0m\u001b[1;33m.\u001b[0m\u001b[0mfit\u001b[0m\u001b[1;33m(\u001b[0m\u001b[0mX_train\u001b[0m\u001b[1;33m,\u001b[0m\u001b[0my_train\u001b[0m\u001b[1;33m[\u001b[0m\u001b[1;34m'label'\u001b[0m\u001b[1;33m]\u001b[0m\u001b[1;33m)\u001b[0m\u001b[1;33m\u001b[0m\u001b[0m\n\u001b[0m",
      "\u001b[1;32m~\\Anaconda3\\lib\\site-packages\\sklearn\\svm\\base.py\u001b[0m in \u001b[0;36mfit\u001b[1;34m(self, X, y, sample_weight)\u001b[0m\n\u001b[0;32m    185\u001b[0m \u001b[1;33m\u001b[0m\u001b[0m\n\u001b[0;32m    186\u001b[0m         \u001b[0mseed\u001b[0m \u001b[1;33m=\u001b[0m \u001b[0mrnd\u001b[0m\u001b[1;33m.\u001b[0m\u001b[0mrandint\u001b[0m\u001b[1;33m(\u001b[0m\u001b[0mnp\u001b[0m\u001b[1;33m.\u001b[0m\u001b[0miinfo\u001b[0m\u001b[1;33m(\u001b[0m\u001b[1;34m'i'\u001b[0m\u001b[1;33m)\u001b[0m\u001b[1;33m.\u001b[0m\u001b[0mmax\u001b[0m\u001b[1;33m)\u001b[0m\u001b[1;33m\u001b[0m\u001b[0m\n\u001b[1;32m--> 187\u001b[1;33m         \u001b[0mfit\u001b[0m\u001b[1;33m(\u001b[0m\u001b[0mX\u001b[0m\u001b[1;33m,\u001b[0m \u001b[0my\u001b[0m\u001b[1;33m,\u001b[0m \u001b[0msample_weight\u001b[0m\u001b[1;33m,\u001b[0m \u001b[0msolver_type\u001b[0m\u001b[1;33m,\u001b[0m \u001b[0mkernel\u001b[0m\u001b[1;33m,\u001b[0m \u001b[0mrandom_seed\u001b[0m\u001b[1;33m=\u001b[0m\u001b[0mseed\u001b[0m\u001b[1;33m)\u001b[0m\u001b[1;33m\u001b[0m\u001b[0m\n\u001b[0m\u001b[0;32m    188\u001b[0m         \u001b[1;31m# see comment on the other call to np.iinfo in this file\u001b[0m\u001b[1;33m\u001b[0m\u001b[1;33m\u001b[0m\u001b[0m\n\u001b[0;32m    189\u001b[0m \u001b[1;33m\u001b[0m\u001b[0m\n",
      "\u001b[1;32m~\\Anaconda3\\lib\\site-packages\\sklearn\\svm\\base.py\u001b[0m in \u001b[0;36m_dense_fit\u001b[1;34m(self, X, y, sample_weight, solver_type, kernel, random_seed)\u001b[0m\n\u001b[0;32m    252\u001b[0m                 \u001b[0mcache_size\u001b[0m\u001b[1;33m=\u001b[0m\u001b[0mself\u001b[0m\u001b[1;33m.\u001b[0m\u001b[0mcache_size\u001b[0m\u001b[1;33m,\u001b[0m \u001b[0mcoef0\u001b[0m\u001b[1;33m=\u001b[0m\u001b[0mself\u001b[0m\u001b[1;33m.\u001b[0m\u001b[0mcoef0\u001b[0m\u001b[1;33m,\u001b[0m\u001b[1;33m\u001b[0m\u001b[0m\n\u001b[0;32m    253\u001b[0m                 \u001b[0mgamma\u001b[0m\u001b[1;33m=\u001b[0m\u001b[0mself\u001b[0m\u001b[1;33m.\u001b[0m\u001b[0m_gamma\u001b[0m\u001b[1;33m,\u001b[0m \u001b[0mepsilon\u001b[0m\u001b[1;33m=\u001b[0m\u001b[0mself\u001b[0m\u001b[1;33m.\u001b[0m\u001b[0mepsilon\u001b[0m\u001b[1;33m,\u001b[0m\u001b[1;33m\u001b[0m\u001b[0m\n\u001b[1;32m--> 254\u001b[1;33m                 max_iter=self.max_iter, random_seed=random_seed)\n\u001b[0m\u001b[0;32m    255\u001b[0m \u001b[1;33m\u001b[0m\u001b[0m\n\u001b[0;32m    256\u001b[0m         \u001b[0mself\u001b[0m\u001b[1;33m.\u001b[0m\u001b[0m_warn_from_fit_status\u001b[0m\u001b[1;33m(\u001b[0m\u001b[1;33m)\u001b[0m\u001b[1;33m\u001b[0m\u001b[0m\n",
      "\u001b[1;31mKeyboardInterrupt\u001b[0m: "
     ]
    }
   ],
   "source": [
    "svc_clf.fit(X_train,y_train['label'])"
   ]
  },
  {
   "cell_type": "code",
   "execution_count": null,
   "metadata": {
    "collapsed": true
   },
   "outputs": [],
   "source": [
    "y_pred=svc_clf.predict(X_val)"
   ]
  },
  {
   "cell_type": "code",
   "execution_count": null,
   "metadata": {
    "collapsed": true
   },
   "outputs": [],
   "source": [
    "TPR_svc, f1_score_svc, BER_svc = cal_score(y_pred_svc,y_val['label'])"
   ]
  },
  {
   "cell_type": "code",
   "execution_count": 11,
   "metadata": {
    "collapsed": true
   },
   "outputs": [],
   "source": [
    "#select some of the data randomly\n",
    "train = {'feature0':X_train['feature0'],'feature1':X_train['feature1'],'feature2':X_train['feature2'],'feature3':X_train['feature3'],'feature4':X_train['feature4'],'label':y_train['label']}\n",
    "train = pd.DataFrame(data=train)\n",
    "Class1_sample =pd.DataFrame.sample(train[train['label']==1],40000)\n",
    "Class2_sample =pd.DataFrame.sample(train[train['label']==2],40000)\n",
    "res = [Class1_sample, Class2_sample]\n",
    "train_com = pd.concat(res)\n",
    "sample_label = pd.DataFrame(train_com['label'])\n",
    "sample_feature=train_com.drop([\"label\"],axis=1)"
   ]
  },
  {
   "cell_type": "code",
   "execution_count": 12,
   "metadata": {},
   "outputs": [
    {
     "data": {
      "text/plain": [
       "SVC(C=1.0, cache_size=200, class_weight=None, coef0=0.0,\n",
       "  decision_function_shape='ovr', degree=80000, gamma='auto', kernel='rbf',\n",
       "  max_iter=-1, probability=False, random_state=None, shrinking=True,\n",
       "  tol=0.001, verbose=False)"
      ]
     },
     "execution_count": 12,
     "metadata": {},
     "output_type": "execute_result"
    }
   ],
   "source": [
    "svc_clf=SVC(kernel=\"rbf\",degree=len(sample_feature))\n",
    "svc_clf.fit(sample_feature,sample_label['label'])"
   ]
  },
  {
   "cell_type": "code",
   "execution_count": 17,
   "metadata": {
    "collapsed": true
   },
   "outputs": [],
   "source": [
    "y_pred=svc_clf.predict(X_val)"
   ]
  },
  {
   "cell_type": "code",
   "execution_count": 21,
   "metadata": {},
   "outputs": [
    {
     "name": "stdout",
     "output_type": "stream",
     "text": [
      "n11:..49014..n12:..2879..n21:..12193..n22:..5941\n",
      "TPR:0.6735827664399093\n",
      "f1 score:0.44082510944572234\n",
      "FPR:0.1992092407731142\n",
      "BER:0.26281323716660243\n"
     ]
    }
   ],
   "source": [
    "#y_pred = {\"label_pred\":y_pred}\n",
    "#y_pred = pd.DataFrame(data=y_pred)\n",
    "Precall,f1_score,BER,FPR= cal_score(y_pred,y_val['label'])"
   ]
  },
  {
   "cell_type": "code",
   "execution_count": 22,
   "metadata": {
    "collapsed": true
   },
   "outputs": [],
   "source": [
    "#select some of the data randomly\n",
    "train = {'feature0':X_train['feature0'],'feature1':X_train['feature1'],'feature2':X_train['feature2'],'feature3':X_train['feature3'],'feature4':X_train['feature4'],'label':y_train['label']}\n",
    "train = pd.DataFrame(data=train)\n",
    "Class1_sample =pd.DataFrame.sample(train[train['label']==1],20000)\n",
    "Class2_sample =pd.DataFrame.sample(train[train['label']==2],20000)\n",
    "res = [Class1_sample, Class2_sample]\n",
    "train_com = pd.concat(res)\n",
    "sample_label = pd.DataFrame(train_com['label'])\n",
    "sample_feature=train_com.drop([\"label\"],axis=1)"
   ]
  },
  {
   "cell_type": "code",
   "execution_count": 23,
   "metadata": {},
   "outputs": [
    {
     "data": {
      "text/plain": [
       "SVC(C=1.0, cache_size=200, class_weight=None, coef0=0.0,\n",
       "  decision_function_shape='ovr', degree=40000, gamma='auto', kernel='rbf',\n",
       "  max_iter=-1, probability=False, random_state=None, shrinking=True,\n",
       "  tol=0.001, verbose=False)"
      ]
     },
     "execution_count": 23,
     "metadata": {},
     "output_type": "execute_result"
    }
   ],
   "source": [
    "svc_clf=SVC(kernel=\"rbf\",degree=len(sample_feature))\n",
    "svc_clf.fit(sample_feature,sample_label['label'])"
   ]
  },
  {
   "cell_type": "code",
   "execution_count": 24,
   "metadata": {
    "collapsed": true
   },
   "outputs": [],
   "source": [
    "y_pred=svc_clf.predict(X_val)"
   ]
  },
  {
   "cell_type": "code",
   "execution_count": 25,
   "metadata": {},
   "outputs": [
    {
     "name": "stdout",
     "output_type": "stream",
     "text": [
      "n11:..48957..n12:..2759..n21:..12250..n22:..6061\n",
      "TPR:0.6871882086167801\n",
      "f1 score:0.44679517894659254\n",
      "FPR:0.20014050680477724\n",
      "BER:0.25647614909399863\n"
     ]
    }
   ],
   "source": [
    "y_pred = {\"label_pred\":y_pred}\n",
    "y_pred = pd.DataFrame(data=y_pred)\n",
    "Precall,f1_score,BER,FPR= cal_score(y_pred,y_val['label'])"
   ]
  },
  {
   "cell_type": "code",
   "execution_count": 26,
   "metadata": {
    "collapsed": true
   },
   "outputs": [],
   "source": [
    "#select some of the data randomly\n",
    "train = {'feature0':X_train['feature0'],'feature1':X_train['feature1'],'feature2':X_train['feature2'],'feature3':X_train['feature3'],'feature4':X_train['feature4'],'label':y_train['label']}\n",
    "train = pd.DataFrame(data=train)\n",
    "Class1_sample =pd.DataFrame.sample(train[train['label']==1],10000)\n",
    "Class2_sample =pd.DataFrame.sample(train[train['label']==2],10000)\n",
    "res = [Class1_sample, Class2_sample]\n",
    "train_com = pd.concat(res)\n",
    "sample_label = pd.DataFrame(train_com['label'])\n",
    "sample_feature=train_com.drop([\"label\"],axis=1)"
   ]
  },
  {
   "cell_type": "code",
   "execution_count": 27,
   "metadata": {},
   "outputs": [
    {
     "data": {
      "text/plain": [
       "SVC(C=1.0, cache_size=200, class_weight=None, coef0=0.0,\n",
       "  decision_function_shape='ovr', degree=20000, gamma='auto', kernel='rbf',\n",
       "  max_iter=-1, probability=False, random_state=None, shrinking=True,\n",
       "  tol=0.001, verbose=False)"
      ]
     },
     "execution_count": 27,
     "metadata": {},
     "output_type": "execute_result"
    }
   ],
   "source": [
    "svc_clf=SVC(kernel=\"rbf\",degree=len(sample_feature))\n",
    "svc_clf.fit(sample_feature,sample_label['label'])"
   ]
  },
  {
   "cell_type": "code",
   "execution_count": 28,
   "metadata": {
    "collapsed": true
   },
   "outputs": [],
   "source": [
    "y_pred=svc_clf.predict(X_val)"
   ]
  },
  {
   "cell_type": "code",
   "execution_count": 29,
   "metadata": {
    "scrolled": true
   },
   "outputs": [
    {
     "name": "stdout",
     "output_type": "stream",
     "text": [
      "n11:..48827..n12:..2703..n21:..12380..n22:..6117\n",
      "TPR:0.6935374149659864\n",
      "f1 score:0.4478529853204964\n",
      "FPR:0.2022644468769912\n",
      "BER:0.2543635159555024\n"
     ]
    }
   ],
   "source": [
    "y_pred = {\"label_pred\":y_pred}\n",
    "y_pred = pd.DataFrame(data=y_pred)\n",
    "Precall,f1_score,BER,FPR= cal_score(y_pred,y_val['label'])"
   ]
  },
  {
   "cell_type": "code",
   "execution_count": 30,
   "metadata": {
    "collapsed": true
   },
   "outputs": [],
   "source": [
    "#select some of the data randomly\n",
    "train = {'feature0':X_train['feature0'],'feature1':X_train['feature1'],'feature2':X_train['feature2'],'feature3':X_train['feature3'],'feature4':X_train['feature4'],'label':y_train['label']}\n",
    "train = pd.DataFrame(data=train)\n",
    "Class1_sample =pd.DataFrame.sample(train[train['label']==1],5000)\n",
    "Class2_sample =pd.DataFrame.sample(train[train['label']==2],5000)\n",
    "res = [Class1_sample, Class2_sample]\n",
    "train_com = pd.concat(res)\n",
    "sample_label = pd.DataFrame(train_com['label'])\n",
    "sample_feature=train_com.drop([\"label\"],axis=1)"
   ]
  },
  {
   "cell_type": "code",
   "execution_count": 31,
   "metadata": {},
   "outputs": [
    {
     "data": {
      "text/plain": [
       "SVC(C=1.0, cache_size=200, class_weight=None, coef0=0.0,\n",
       "  decision_function_shape='ovr', degree=10000, gamma='auto', kernel='rbf',\n",
       "  max_iter=-1, probability=False, random_state=None, shrinking=True,\n",
       "  tol=0.001, verbose=False)"
      ]
     },
     "execution_count": 31,
     "metadata": {},
     "output_type": "execute_result"
    }
   ],
   "source": [
    "svc_clf=SVC(kernel=\"rbf\",degree=len(sample_feature))\n",
    "svc_clf.fit(sample_feature,sample_label['label'])"
   ]
  },
  {
   "cell_type": "code",
   "execution_count": 32,
   "metadata": {
    "collapsed": true
   },
   "outputs": [],
   "source": [
    "y_pred=svc_clf.predict(X_val)"
   ]
  },
  {
   "cell_type": "code",
   "execution_count": 33,
   "metadata": {},
   "outputs": [
    {
     "name": "stdout",
     "output_type": "stream",
     "text": [
      "n11:..48599..n12:..2589..n21:..12608..n22:..6231\n",
      "TPR:0.7064625850340136\n",
      "f1 score:0.45055858852453085\n",
      "FPR:0.20598951100364338\n",
      "BER:0.2497634629848149\n"
     ]
    }
   ],
   "source": [
    "y_pred = {\"label_pred\":y_pred}\n",
    "y_pred = pd.DataFrame(data=y_pred)\n",
    "Precall,f1_score,BER,FPR= cal_score(y_pred,y_val['label'])"
   ]
  },
  {
   "cell_type": "code",
   "execution_count": 43,
   "metadata": {
    "collapsed": true
   },
   "outputs": [],
   "source": [
    "def adjustment (X_train,y_train):    \n",
    "    t = 40000\n",
    "    start1=time.time()\n",
    "    label1_amount_list=[]\n",
    "    label2_amount_list=[]\n",
    "    ratio_list = []\n",
    "    tpr_list = []\n",
    "    fpr_list = []\n",
    "    BER_list = []\n",
    "    f1_score_list = []\n",
    "    time_list=[]\n",
    "    train = {'feature0':X_train['feature0'],'feature1':X_train['feature1'],'feature2':X_train['feature2'],'feature3':X_train['feature3'],'feature4':X_train['feature4'],'label':y_train['label']}\n",
    "    train = pd.DataFrame(data=train)\n",
    "    while t >=5000: \n",
    "        start=time.time()\n",
    "        Class1_sample =pd.DataFrame.sample(train[train['label']==1],t)\n",
    "        Class2_sample =pd.DataFrame.sample(train[train['label']==2],20000)\n",
    "        res = [Class1_sample, Class2_sample]\n",
    "        train_com = pd.concat(res)\n",
    "        sample_label = pd.DataFrame(train_com['label'])\n",
    "        sample_feature=train_com.drop([\"label\"],axis=1)\n",
    "        svc_clf=SVC(kernel=\"rbf\",degree=len(sample_feature))\n",
    "        svc_clf.fit(sample_feature,sample_label['label'])\n",
    "        y_pred=svc_clf.predict(X_val)\n",
    "        y_pred = {\"label_pred\":y_pred}\n",
    "        y_pred = pd.DataFrame(data=y_pred)\n",
    "        Precall,f1_score,BER,FPR= cal_score(y_pred,y_val['label'])\n",
    "        tpr_list.append(Precall)\n",
    "        f1_score_list.append(f1_score)\n",
    "        BER_list.append(BER)\n",
    "        fpr_list.append(FPR)\n",
    "        label1_amount_list.append(t)\n",
    "        label2_amount_list.append(20000)\n",
    "        ratio_list.append(t/20000)\n",
    "        temp=(time.time()-start)/60\n",
    "        time_list.append(temp)\n",
    "        print(\"current label1 amount:%d ,fit time:%5.1fminute\"%(t,(time.time()-start)/60))\n",
    "        t=t-5000\n",
    "        print(\"                 \")\n",
    "    print(\"the total executing time:%5.1fminute\"%((time.time()-start1)/60))\n",
    "    return tpr_list, fpr_list, BER_list, f1_score_list,ratio_list,time_list,label1_amount_list,label2_amount_list"
   ]
  },
  {
   "cell_type": "code",
   "execution_count": 44,
   "metadata": {
    "collapsed": true
   },
   "outputs": [
    {
     "name": "stdout",
     "output_type": "stream",
     "text": [
      "n11:..55505..n12:..4623..n21:..5702..n22:..4197\n",
      "TPR:0.47585034013605443\n",
      "f1 score:0.4484213900315188\n",
      "FPR:0.0931592791674155\n",
      "BER:0.30865446951568054\n",
      "current label1 amount:40000 ,fit time:  1.6minute\n",
      "                 \n",
      "n11:..54739..n12:..4038..n21:..6468..n22:..4782\n",
      "TPR:0.5421768707482993\n",
      "f1 score:0.4765321375186846\n",
      "FPR:0.10567418759292238\n",
      "BER:0.2817486584223115\n",
      "current label1 amount:35000 ,fit time:  1.4minute\n",
      "                 \n",
      "n11:..53334..n12:..3757..n21:..7873..n22:..5063\n",
      "TPR:0.5740362811791383\n",
      "f1 score:0.4654348225776797\n",
      "FPR:0.12862907837338866\n",
      "BER:0.2772963985971252\n",
      "current label1 amount:30000 ,fit time:  1.2minute\n",
      "                 \n",
      "n11:..52281..n12:..3376..n21:..8926..n22:..5444\n",
      "TPR:0.617233560090703\n",
      "f1 score:0.46951272100043123\n",
      "FPR:0.14583299295832175\n",
      "BER:0.2642997164338094\n",
      "current label1 amount:25000 ,fit time:  1.0minute\n",
      "                 \n",
      "n11:..49120..n12:..2761..n21:..12087..n22:..6059\n",
      "TPR:0.6869614512471656\n",
      "f1 score:0.4493807016242677\n",
      "FPR:0.19747741271423203\n",
      "BER:0.25525798073353323\n",
      "current label1 amount:20000 ,fit time:  0.9minute\n",
      "                 \n",
      "n11:..43945..n12:..1983..n21:..17262..n22:..6837\n",
      "TPR:0.7751700680272109\n",
      "f1 score:0.4153832133418391\n",
      "FPR:0.2820265655889032\n",
      "BER:0.25342824878084613\n",
      "current label1 amount:15000 ,fit time:  0.7minute\n",
      "                 \n",
      "n11:..32963..n12:..1070..n21:..28244..n22:..7750\n",
      "TPR:0.8786848072562359\n",
      "f1 score:0.34587405721426345\n",
      "FPR:0.46145048768931657\n",
      "BER:0.2913828402165404\n",
      "current label1 amount:10000 ,fit time:  0.5minute\n",
      "                 \n",
      "n11:..16693..n12:..310..n21:..44514..n22:..8510\n",
      "TPR:0.9648526077097506\n",
      "f1 score:0.2752085893538581\n",
      "FPR:0.7272697567271718\n",
      "BER:0.3812085745087106\n",
      "current label1 amount:5000 ,fit time:  0.3minute\n",
      "                 \n",
      "the total executing time:  7.8minute\n"
     ]
    }
   ],
   "source": [
    "tpr_list, fpr_list, BER_list, f1_score_list,ratio_list,time_list,label1_amount_list,label2_amount_list=adjustment(X_train,y_train)"
   ]
  },
  {
   "cell_type": "code",
   "execution_count": 48,
   "metadata": {
    "collapsed": true
   },
   "outputs": [],
   "source": [
    "boundary_50pergroup={\"tpr\":tpr_list,\"fpr\":fpr_list,\"BER\":BER_list,\"f1_score\":f1_score_list,\"ratio\":ratio_list,\"time\":time_list,\"label 1 amount\":label1_amount_list,\"label 2 amount\":label2_amount_list}\n",
    "boundary_50pergroup=pd.DataFrame(data=boundary_50pergroup)"
   ]
  },
  {
   "cell_type": "code",
   "execution_count": 49,
   "metadata": {
    "collapsed": true
   },
   "outputs": [],
   "source": [
    "boundary_50pergroup.to_csv(\"D:\\\\lab; signal processing\\\\forStudents\\\\medData\\\\result\\\\SVC_boundary_50pergroup.csv\",index=True)"
   ]
  },
  {
   "cell_type": "code",
   "execution_count": 50,
   "metadata": {},
   "outputs": [
    {
     "data": {
      "text/html": [
       "<div>\n",
       "<style>\n",
       "    .dataframe thead tr:only-child th {\n",
       "        text-align: right;\n",
       "    }\n",
       "\n",
       "    .dataframe thead th {\n",
       "        text-align: left;\n",
       "    }\n",
       "\n",
       "    .dataframe tbody tr th {\n",
       "        vertical-align: top;\n",
       "    }\n",
       "</style>\n",
       "<table border=\"1\" class=\"dataframe\">\n",
       "  <thead>\n",
       "    <tr style=\"text-align: right;\">\n",
       "      <th></th>\n",
       "      <th>BER</th>\n",
       "      <th>f1_score</th>\n",
       "      <th>fpr</th>\n",
       "      <th>label 1 amount</th>\n",
       "      <th>label 2 amount</th>\n",
       "      <th>ratio</th>\n",
       "      <th>time</th>\n",
       "      <th>tpr</th>\n",
       "    </tr>\n",
       "  </thead>\n",
       "  <tbody>\n",
       "    <tr>\n",
       "      <th>0</th>\n",
       "      <td>0.308654</td>\n",
       "      <td>0.448421</td>\n",
       "      <td>0.093159</td>\n",
       "      <td>40000</td>\n",
       "      <td>20000</td>\n",
       "      <td>2.00</td>\n",
       "      <td>1.610058</td>\n",
       "      <td>0.475850</td>\n",
       "    </tr>\n",
       "    <tr>\n",
       "      <th>1</th>\n",
       "      <td>0.281749</td>\n",
       "      <td>0.476532</td>\n",
       "      <td>0.105674</td>\n",
       "      <td>35000</td>\n",
       "      <td>20000</td>\n",
       "      <td>1.75</td>\n",
       "      <td>1.363921</td>\n",
       "      <td>0.542177</td>\n",
       "    </tr>\n",
       "    <tr>\n",
       "      <th>2</th>\n",
       "      <td>0.277296</td>\n",
       "      <td>0.465435</td>\n",
       "      <td>0.128629</td>\n",
       "      <td>30000</td>\n",
       "      <td>20000</td>\n",
       "      <td>1.50</td>\n",
       "      <td>1.223474</td>\n",
       "      <td>0.574036</td>\n",
       "    </tr>\n",
       "    <tr>\n",
       "      <th>3</th>\n",
       "      <td>0.264300</td>\n",
       "      <td>0.469513</td>\n",
       "      <td>0.145833</td>\n",
       "      <td>25000</td>\n",
       "      <td>20000</td>\n",
       "      <td>1.25</td>\n",
       "      <td>1.038446</td>\n",
       "      <td>0.617234</td>\n",
       "    </tr>\n",
       "    <tr>\n",
       "      <th>4</th>\n",
       "      <td>0.255258</td>\n",
       "      <td>0.449381</td>\n",
       "      <td>0.197477</td>\n",
       "      <td>20000</td>\n",
       "      <td>20000</td>\n",
       "      <td>1.00</td>\n",
       "      <td>0.896161</td>\n",
       "      <td>0.686961</td>\n",
       "    </tr>\n",
       "    <tr>\n",
       "      <th>5</th>\n",
       "      <td>0.253428</td>\n",
       "      <td>0.415383</td>\n",
       "      <td>0.282027</td>\n",
       "      <td>15000</td>\n",
       "      <td>20000</td>\n",
       "      <td>0.75</td>\n",
       "      <td>0.741593</td>\n",
       "      <td>0.775170</td>\n",
       "    </tr>\n",
       "    <tr>\n",
       "      <th>6</th>\n",
       "      <td>0.291383</td>\n",
       "      <td>0.345874</td>\n",
       "      <td>0.461450</td>\n",
       "      <td>10000</td>\n",
       "      <td>20000</td>\n",
       "      <td>0.50</td>\n",
       "      <td>0.543928</td>\n",
       "      <td>0.878685</td>\n",
       "    </tr>\n",
       "    <tr>\n",
       "      <th>7</th>\n",
       "      <td>0.381209</td>\n",
       "      <td>0.275209</td>\n",
       "      <td>0.727270</td>\n",
       "      <td>5000</td>\n",
       "      <td>20000</td>\n",
       "      <td>0.25</td>\n",
       "      <td>0.341231</td>\n",
       "      <td>0.964853</td>\n",
       "    </tr>\n",
       "  </tbody>\n",
       "</table>\n",
       "</div>"
      ],
      "text/plain": [
       "        BER  f1_score       fpr  label 1 amount  label 2 amount  ratio  \\\n",
       "0  0.308654  0.448421  0.093159           40000           20000   2.00   \n",
       "1  0.281749  0.476532  0.105674           35000           20000   1.75   \n",
       "2  0.277296  0.465435  0.128629           30000           20000   1.50   \n",
       "3  0.264300  0.469513  0.145833           25000           20000   1.25   \n",
       "4  0.255258  0.449381  0.197477           20000           20000   1.00   \n",
       "5  0.253428  0.415383  0.282027           15000           20000   0.75   \n",
       "6  0.291383  0.345874  0.461450           10000           20000   0.50   \n",
       "7  0.381209  0.275209  0.727270            5000           20000   0.25   \n",
       "\n",
       "       time       tpr  \n",
       "0  1.610058  0.475850  \n",
       "1  1.363921  0.542177  \n",
       "2  1.223474  0.574036  \n",
       "3  1.038446  0.617234  \n",
       "4  0.896161  0.686961  \n",
       "5  0.741593  0.775170  \n",
       "6  0.543928  0.878685  \n",
       "7  0.341231  0.964853  "
      ]
     },
     "execution_count": 50,
     "metadata": {},
     "output_type": "execute_result"
    }
   ],
   "source": [
    "boundary_50pergroup"
   ]
  },
  {
   "cell_type": "code",
   "execution_count": 54,
   "metadata": {},
   "outputs": [
    {
     "data": {
      "image/png": "[encoded data removed]",
      "text/plain": [
       "<matplotlib.figure.Figure at 0x1dd989f53c8>"
      ]
     },
     "metadata": {},
     "output_type": "display_data"
    }
   ],
   "source": [
    "plt.title(\"SVC performance with different data ratio \")\n",
    "plt.plot(ratio_list,f1_score_list,\"b-\")\n",
    "plt.xlabel('ratio (label 1 data size : label 2 data size)')\n",
    "plt.ylabel('f1_score')\n",
    "plt.show()"
   ]
  },
  {
   "cell_type": "code",
   "execution_count": 55,
   "metadata": {
    "collapsed": true
   },
   "outputs": [],
   "source": [
    "#function plot the ROC\n",
    "def plot_roc_curve(fpr, tpr, color,label):\n",
    "    plt.plot(fpr, tpr, linewidth=2,color=color,label=label)\n",
    "    plt.plot([0, 1], [0, 1], 'k--')\n",
    "    plt.axis([0, 1, 0, 1])\n",
    "    plt.xlabel('False Positive Rate')\n",
    "    plt.ylabel('True Positive Rate')\n",
    "    plt.legend()"
   ]
  },
  {
   "cell_type": "code",
   "execution_count": 56,
   "metadata": {},
   "outputs": [
    {
     "data": {
      "image/png": "[encoded data removed]",
      "text/plain": [
       "<matplotlib.figure.Figure at 0x1dd98968b38>"
      ]
     },
     "metadata": {},
     "output_type": "display_data"
    }
   ],
   "source": [
    "plt.title(\"SVC\")\n",
    "plot_roc_curve(fpr_list,tpr_list,color='b',label='boundary_se_50per_group')\n",
    "plt.show()"
   ]
  },
  {
   "cell_type": "code",
   "execution_count": 57,
   "metadata": {
    "collapsed": true
   },
   "outputs": [],
   "source": [
    "#IMPORT CNN\n",
    "X_train_CNN=pd.read_csv(\"D:\\\\lab; signal processing\\\\forStudents\\\\medData\\\\train_x_resample3000_CNN.csv\")\n",
    "y_train_CNN=pd.read_csv(\"D:\\\\lab; signal processing\\\\forStudents\\\\medData\\\\train_y_resample3000_CNN.csv\")\n",
    "X_val=pd.read_csv(\"D:\\\\lab; signal processing\\\\forStudents\\\\medData\\\\scaled_validation_feature.csv\")\n",
    "y_val=pd.read_csv(\"D:\\\\lab; signal processing\\\\forStudents\\\\medData\\\\validation_label.csv\")\n",
    "X_val = X_val.drop([\"Unnamed: 0\"],axis=1)\n",
    "y_val = y_val.drop([\"Unnamed: 0\"],axis=1)"
   ]
  },
  {
   "cell_type": "code",
   "execution_count": 58,
   "metadata": {
    "collapsed": true
   },
   "outputs": [
    {
     "name": "stdout",
     "output_type": "stream",
     "text": [
      "n11:..56805..n12:..5358..n21:..4402..n22:..3462\n",
      "TPR:0.3925170068027211\n",
      "f1 score:0.415008391273076\n",
      "FPR:0.07191987844527586\n",
      "BER:0.33970143582127743\n",
      "current label1 amount:40000 ,fit time:  1.3minute\n",
      "                 \n",
      "n11:..56281..n12:..5113..n21:..4926..n22:..3707\n",
      "TPR:0.42029478458049885\n",
      "f1 score:0.42479802899215036\n",
      "FPR:0.08048099073635369\n",
      "BER:0.33009310307792744\n",
      "current label1 amount:35000 ,fit time:  1.1minute\n",
      "                 \n",
      "n11:..55650..n12:..4820..n21:..5557..n22:..4000\n",
      "TPR:0.45351473922902497\n",
      "f1 score:0.43532676715459545\n",
      "FPR:0.09079026908686914\n",
      "BER:0.3186377649289221\n",
      "current label1 amount:30000 ,fit time:  1.0minute\n",
      "                 \n",
      "n11:..54450..n12:..4235..n21:..6757..n22:..4585\n",
      "TPR:0.5198412698412699\n",
      "f1 score:0.4548159904771352\n",
      "FPR:0.11039586975345957\n",
      "BER:0.29527729995609486\n",
      "current label1 amount:25000 ,fit time:  0.9minute\n",
      "                 \n",
      "n11:..52979..n12:..3864..n21:..8228..n22:..4956\n",
      "TPR:0.5619047619047619\n",
      "f1 score:0.45046355208143973\n",
      "FPR:0.13442906857058834\n",
      "BER:0.2862621533329132\n",
      "current label1 amount:20000 ,fit time:  0.7minute\n",
      "                 \n",
      "n11:..49588..n12:..2984..n21:..11619..n22:..5836\n",
      "TPR:0.6616780045351474\n",
      "f1 score:0.4442245480494767\n",
      "FPR:0.18983122845426176\n",
      "BER:0.2640766119595572\n",
      "current label1 amount:15000 ,fit time:  0.6minute\n",
      "                 \n",
      "n11:..44287..n12:..2051..n21:..16920..n22:..6769\n",
      "TPR:0.7674603174603175\n",
      "f1 score:0.4164385247162324\n",
      "FPR:0.276438969398925\n",
      "BER:0.25448932596930374\n",
      "current label1 amount:10000 ,fit time:  0.5minute\n",
      "                 \n",
      "n11:..27810..n12:..885..n21:..33397..n22:..7935\n",
      "TPR:0.8996598639455783\n",
      "f1 score:0.3164380283936832\n",
      "FPR:0.545640204551767\n",
      "BER:0.3229901703030944\n",
      "current label1 amount:5000 ,fit time:  0.3minute\n",
      "                 \n",
      "the total executing time:  6.5minute\n"
     ]
    }
   ],
   "source": [
    "tpr_list_CNN, fpr_list_CNN, BER_list_CNN, f1_score_list_CNN,ratio_list_CNN,time_list_CNN,label1_amount_list_CNN,label2_amount_list_CNN=adjustment(X_train_CNN,y_train_CNN)"
   ]
  },
  {
   "cell_type": "code",
   "execution_count": 59,
   "metadata": {
    "collapsed": true
   },
   "outputs": [],
   "source": [
    "CNN={\"tpr\":tpr_list_CNN,\"fpr\":fpr_list_CNN,\"BER\":BER_list_CNN,\"f1_score\":f1_score_list_CNN,\"ratio\":ratio_list_CNN,\"time\":time_list_CNN,\"label 1 amount\":label1_amount_list_CNN,\"label 2 amount\":label2_amount_list_CNN}\n",
    "CNN=pd.DataFrame(data=CNN)"
   ]
  },
  {
   "cell_type": "code",
   "execution_count": 60,
   "metadata": {},
   "outputs": [
    {
     "data": {
      "text/html": [
       "<div>\n",
       "<style>\n",
       "    .dataframe thead tr:only-child th {\n",
       "        text-align: right;\n",
       "    }\n",
       "\n",
       "    .dataframe thead th {\n",
       "        text-align: left;\n",
       "    }\n",
       "\n",
       "    .dataframe tbody tr th {\n",
       "        vertical-align: top;\n",
       "    }\n",
       "</style>\n",
       "<table border=\"1\" class=\"dataframe\">\n",
       "  <thead>\n",
       "    <tr style=\"text-align: right;\">\n",
       "      <th></th>\n",
       "      <th>BER</th>\n",
       "      <th>f1_score</th>\n",
       "      <th>fpr</th>\n",
       "      <th>label 1 amount</th>\n",
       "      <th>label 2 amount</th>\n",
       "      <th>ratio</th>\n",
       "      <th>time</th>\n",
       "      <th>tpr</th>\n",
       "    </tr>\n",
       "  </thead>\n",
       "  <tbody>\n",
       "    <tr>\n",
       "      <th>0</th>\n",
       "      <td>0.339701</td>\n",
       "      <td>0.415008</td>\n",
       "      <td>0.071920</td>\n",
       "      <td>40000</td>\n",
       "      <td>20000</td>\n",
       "      <td>2.00</td>\n",
       "      <td>1.297493</td>\n",
       "      <td>0.392517</td>\n",
       "    </tr>\n",
       "    <tr>\n",
       "      <th>1</th>\n",
       "      <td>0.330093</td>\n",
       "      <td>0.424798</td>\n",
       "      <td>0.080481</td>\n",
       "      <td>35000</td>\n",
       "      <td>20000</td>\n",
       "      <td>1.75</td>\n",
       "      <td>1.147641</td>\n",
       "      <td>0.420295</td>\n",
       "    </tr>\n",
       "    <tr>\n",
       "      <th>2</th>\n",
       "      <td>0.318638</td>\n",
       "      <td>0.435327</td>\n",
       "      <td>0.090790</td>\n",
       "      <td>30000</td>\n",
       "      <td>20000</td>\n",
       "      <td>1.50</td>\n",
       "      <td>1.002979</td>\n",
       "      <td>0.453515</td>\n",
       "    </tr>\n",
       "    <tr>\n",
       "      <th>3</th>\n",
       "      <td>0.295277</td>\n",
       "      <td>0.454816</td>\n",
       "      <td>0.110396</td>\n",
       "      <td>25000</td>\n",
       "      <td>20000</td>\n",
       "      <td>1.25</td>\n",
       "      <td>0.914527</td>\n",
       "      <td>0.519841</td>\n",
       "    </tr>\n",
       "    <tr>\n",
       "      <th>4</th>\n",
       "      <td>0.286262</td>\n",
       "      <td>0.450464</td>\n",
       "      <td>0.134429</td>\n",
       "      <td>20000</td>\n",
       "      <td>20000</td>\n",
       "      <td>1.00</td>\n",
       "      <td>0.738270</td>\n",
       "      <td>0.561905</td>\n",
       "    </tr>\n",
       "    <tr>\n",
       "      <th>5</th>\n",
       "      <td>0.264077</td>\n",
       "      <td>0.444225</td>\n",
       "      <td>0.189831</td>\n",
       "      <td>15000</td>\n",
       "      <td>20000</td>\n",
       "      <td>0.75</td>\n",
       "      <td>0.607650</td>\n",
       "      <td>0.661678</td>\n",
       "    </tr>\n",
       "    <tr>\n",
       "      <th>6</th>\n",
       "      <td>0.254489</td>\n",
       "      <td>0.416439</td>\n",
       "      <td>0.276439</td>\n",
       "      <td>10000</td>\n",
       "      <td>20000</td>\n",
       "      <td>0.50</td>\n",
       "      <td>0.461697</td>\n",
       "      <td>0.767460</td>\n",
       "    </tr>\n",
       "    <tr>\n",
       "      <th>7</th>\n",
       "      <td>0.322990</td>\n",
       "      <td>0.316438</td>\n",
       "      <td>0.545640</td>\n",
       "      <td>5000</td>\n",
       "      <td>20000</td>\n",
       "      <td>0.25</td>\n",
       "      <td>0.283799</td>\n",
       "      <td>0.899660</td>\n",
       "    </tr>\n",
       "  </tbody>\n",
       "</table>\n",
       "</div>"
      ],
      "text/plain": [
       "        BER  f1_score       fpr  label 1 amount  label 2 amount  ratio  \\\n",
       "0  0.339701  0.415008  0.071920           40000           20000   2.00   \n",
       "1  0.330093  0.424798  0.080481           35000           20000   1.75   \n",
       "2  0.318638  0.435327  0.090790           30000           20000   1.50   \n",
       "3  0.295277  0.454816  0.110396           25000           20000   1.25   \n",
       "4  0.286262  0.450464  0.134429           20000           20000   1.00   \n",
       "5  0.264077  0.444225  0.189831           15000           20000   0.75   \n",
       "6  0.254489  0.416439  0.276439           10000           20000   0.50   \n",
       "7  0.322990  0.316438  0.545640            5000           20000   0.25   \n",
       "\n",
       "       time       tpr  \n",
       "0  1.297493  0.392517  \n",
       "1  1.147641  0.420295  \n",
       "2  1.002979  0.453515  \n",
       "3  0.914527  0.519841  \n",
       "4  0.738270  0.561905  \n",
       "5  0.607650  0.661678  \n",
       "6  0.461697  0.767460  \n",
       "7  0.283799  0.899660  "
      ]
     },
     "execution_count": 60,
     "metadata": {},
     "output_type": "execute_result"
    }
   ],
   "source": [
    "CNN.to_csv(\"D:\\\\lab; signal processing\\\\forStudents\\\\medData\\\\result\\\\SVC_CNN.csv\",index=True)\n",
    "CNN"
   ]
  },
  {
   "cell_type": "code",
   "execution_count": 61,
   "metadata": {},
   "outputs": [
    {
     "data": {
      "image/png": "[encoded data removed]",
      "text/plain": [
       "<matplotlib.figure.Figure at 0x1dd98ab8160>"
      ]
     },
     "metadata": {},
     "output_type": "display_data"
    }
   ],
   "source": [
    "plt.title(\"SVC performance with different data ratio (CNN dataset)\")\n",
    "plt.plot(ratio_list_CNN,f1_score_list_CNN,\"b-\")\n",
    "plt.xlabel('ratio (label 1 data size : label 2 data size)')\n",
    "plt.ylabel('f1_score')\n",
    "plt.show()"
   ]
  },
  {
   "cell_type": "code",
   "execution_count": 62,
   "metadata": {},
   "outputs": [
    {
     "data": {
      "image/png": "[encoded data removed]",
      "text/plain": [
       "<matplotlib.figure.Figure at 0x1dd9a5b56a0>"
      ]
     },
     "metadata": {},
     "output_type": "display_data"
    }
   ],
   "source": [
    "plt.title(\"SVC\")\n",
    "plot_roc_curve(fpr_list_CNN,tpr_list_CNN,color='b',label='CNN')\n",
    "plt.show()"
   ]
  },
  {
   "cell_type": "code",
   "execution_count": 65,
   "metadata": {},
   "outputs": [
    {
     "data": {
      "image/png": "[encoded data removed]",
      "text/plain": [
       "<matplotlib.figure.Figure at 0x1dd98a11128>"
      ]
     },
     "metadata": {},
     "output_type": "display_data"
    }
   ],
   "source": [
    "plt.title(\"SVC performance with different data ratio \")\n",
    "plt.plot(ratio_list,f1_score_list,\"g-\",label=\"miniBatch 50 pergroup\")\n",
    "plt.plot(ratio_list_CNN,f1_score_list_CNN,\"b-\",label=\"CNN\")\n",
    "plt.xlabel('ratio (label 1 data size : label 2 data size)')\n",
    "plt.ylabel('f1_score')\n",
    "plt.legend()\n",
    "plt.show()"
   ]
  },
  {
   "cell_type": "code",
   "execution_count": 66,
   "metadata": {},
   "outputs": [
    {
     "data": {
      "image/png": "[encoded data removed]",
      "text/plain": [
       "<matplotlib.figure.Figure at 0x1dd9891ec18>"
      ]
     },
     "metadata": {},
     "output_type": "display_data"
    }
   ],
   "source": [
    "plt.title(\"SVC\")\n",
    "plot_roc_curve(fpr_list,tpr_list,color='g',label='miniBatch 50 pergroup')\n",
    "plot_roc_curve(fpr_list_CNN,tpr_list_CNN,color='b',label='CNN')\n",
    "plt.show()"
   ]
  }
 ],
 "metadata": {
  "kernelspec": {
   "display_name": "Python 3",
   "language": "python",
   "name": "python3"
  },
  "language_info": {
   "codemirror_mode": {
    "name": "ipython",
    "version": 3
   },
   "file_extension": ".py",
   "mimetype": "text/x-python",
   "name": "python",
   "nbconvert_exporter": "python",
   "pygments_lexer": "ipython3",
   "version": "3.6.2"
  }
 },
 "nbformat": 4,
 "nbformat_minor": 2
}
