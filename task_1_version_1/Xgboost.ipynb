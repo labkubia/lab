{
 "cells": [
  {
   "cell_type": "code",
   "execution_count": 1,
   "metadata": {},
   "outputs": [
    {
     "data": {
      "text/html": [
       "<script>requirejs.config({paths: { 'plotly': ['https://cdn.plot.ly/plotly-latest.min']},});if(!window.Plotly) {{require(['plotly'],function(plotly) {window.Plotly=plotly;});}}</script>"
      ],
      "text/vnd.plotly.v1+html": [
       "<script>requirejs.config({paths: { 'plotly': ['https://cdn.plot.ly/plotly-latest.min']},});if(!window.Plotly) {{require(['plotly'],function(plotly) {window.Plotly=plotly;});}}</script>"
      ]
     },
     "metadata": {},
     "output_type": "display_data"
    }
   ],
   "source": [
    "import numpy as np\n",
    "import pandas as pd\n",
    "from scipy.io import loadmat\n",
    "import time\n",
    "import random\n",
    "\n",
    "import xgboost as xgb\n",
    "\n",
    "#plot\n",
    "%matplotlib inline\n",
    "import matplotlib\n",
    "import matplotlib.pyplot as plt\n",
    "import plotly.offline as py\n",
    "py.init_notebook_mode(connected=True)\n",
    "import plotly.graph_objs as go\n",
    "import plotly.tools as tls\n",
    "from matplotlib.axes import Axes"
   ]
  },
  {
   "cell_type": "code",
   "execution_count": 2,
   "metadata": {
    "collapsed": true
   },
   "outputs": [],
   "source": [
    "X_train=pd.read_csv(\"D:\\\\lab; signal processing\\\\forStudents\\\\medData\\\\train_x_resample3000_boundarysel_50pergroup.csv\")\n",
    "y_train=pd.read_csv(\"D:\\\\lab; signal processing\\\\forStudents\\\\medData\\\\train_y_resample3000_boundarysel_50pergroup.csv\")\n",
    "X_val=pd.read_csv(\"D:\\\\lab; signal processing\\\\forStudents\\\\medData\\\\scaled_validation_feature.csv\")\n",
    "y_val=pd.read_csv(\"D:\\\\lab; signal processing\\\\forStudents\\\\medData\\\\validation_label.csv\")"
   ]
  },
  {
   "cell_type": "code",
   "execution_count": 3,
   "metadata": {
    "collapsed": true
   },
   "outputs": [],
   "source": [
    "X_train = X_train.drop([\"predict_cluster\"],axis=1)\n",
    "y_train = y_train.drop([\"predict_cluster\"],axis=1)\n",
    "X_val = X_val.drop([\"Unnamed: 0\"],axis=1)\n",
    "y_val = y_val.drop([\"Unnamed: 0\"],axis=1)"
   ]
  },
  {
   "cell_type": "code",
   "execution_count": 4,
   "metadata": {
    "collapsed": true
   },
   "outputs": [],
   "source": [
    "def cal_score (y_pred,y_val):\n",
    "    n11 = 0\n",
    "    n12 = 0\n",
    "    n21 = 0\n",
    "    n22 = 0\n",
    "    y_pred_array= np.array(y_pred)\n",
    "    y_val_array= np.array(y_val)\n",
    "    for j in range(len(y_pred_array)):\n",
    "        if (y_pred_array[j]==2)&(y_val_array[j]==2):\n",
    "            n22 = n22+1\n",
    "        elif (y_pred_array[j]==1)&(y_val_array[j]==2):\n",
    "            n12 = n12 +1\n",
    "        elif (y_pred_array[j]==2)&(y_val_array[j]==1):\n",
    "            n21 = n21+1\n",
    "        else:\n",
    "            n11 = n11+1   \n",
    "    '''\n",
    "    ita = np.nditer (y_pred_array)\n",
    "    itb = np.nditer (y_val_array)\n",
    "    while not ita.finished:\n",
    "        if (ita[0]==2)&(itb[0]==2):\n",
    "            n22 = n22+1\n",
    "        elif (ita[0]==1)&(itb[0]==2):\n",
    "            n12 = n12+1\n",
    "        elif (ita[0]==2)&(itb[0]==1):\n",
    "            n21 = n21+1\n",
    "        else:\n",
    "            n11 = n11+1\n",
    "        ita.iternext()\n",
    "        itb.iternext()\n",
    "    '''\n",
    "    try:       \n",
    "        Precall = n22 / ( n12 + n22)\n",
    "        Pprecision = n22 / ( n21 + n22)\n",
    "        f1_score = 2 / (1/Precall + 1/Pprecision)\n",
    "        FP = n21/(n21 + n11)\n",
    "        FN = n12/(n12 +n22 )\n",
    "        BER = 1/2*(FP+FN)   \n",
    "    except Exception as ex:\n",
    "        print (ex.message)\n",
    "    print (\"n11:..\"+str(n11)+\"..n12:..\"+str(n12)+\"..n21:..\"+str(n21)+\"..n22:..\"+str(n22))\n",
    "    print (\"TP:\"+str(Precall))\n",
    "    print (\"f1 score:\" + str(f1_score))\n",
    "    print (\"FP:\"+ str(FP))\n",
    "    print (\"BER:\" + str(BER))\n",
    "    return Precall,f1_score,BER,FP"
   ]
  },
  {
   "cell_type": "code",
   "execution_count": 6,
   "metadata": {},
   "outputs": [],
   "source": [
    "xgb_clf=xgb.XGBClassifier(  n_estimators=500,\n",
    "                        max_depth=4,\n",
    "                        objective=\"binary:logistic\",\n",
    "                        learning_rate=0.03, \n",
    "                        subsample=.8,\n",
    "                        min_child_weight=6,\n",
    "                        colsample_bytree=.8,\n",
    "                        scale_pos_weight=1.6,\n",
    "                        gamma=10,\n",
    "                        reg_alpha=8,\n",
    "                        reg_lambda=1.3\n",
    "                     )"
   ]
  },
  {
   "cell_type": "code",
   "execution_count": 9,
   "metadata": {},
   "outputs": [
    {
     "data": {
      "text/plain": [
       "XGBClassifier(base_score=0.5, booster='gbtree', colsample_bylevel=1,\n",
       "       colsample_bytree=0.8, gamma=10, learning_rate=0.03,\n",
       "       max_delta_step=0, max_depth=4, min_child_weight=6, missing=None,\n",
       "       n_estimators=500, n_jobs=1, nthread=None,\n",
       "       objective='binary:logistic', random_state=0, reg_alpha=8,\n",
       "       reg_lambda=1.3, scale_pos_weight=1.6, seed=None, silent=True,\n",
       "       subsample=0.8)"
      ]
     },
     "execution_count": 9,
     "metadata": {},
     "output_type": "execute_result"
    }
   ],
   "source": [
    "xgb_clf.fit(X_train,y_train['label'])"
   ]
  },
  {
   "cell_type": "code",
   "execution_count": 10,
   "metadata": {
    "collapsed": true
   },
   "outputs": [],
   "source": [
    "y_pred =xgb_clf.predict(X_val)"
   ]
  },
  {
   "cell_type": "code",
   "execution_count": 11,
   "metadata": {
    "collapsed": true
   },
   "outputs": [],
   "source": [
    "y_pred = {\"label_pred\":y_pred}\n",
    "y_pred = pd.DataFrame(data=y_pred)"
   ]
  },
  {
   "cell_type": "code",
   "execution_count": 13,
   "metadata": {},
   "outputs": [
    {
     "name": "stdout",
     "output_type": "stream",
     "text": [
      "n11:..55695..n12:..5136..n21:..5512..n22:..3684\n",
      "TP:0.41768707482993195\n",
      "f1 score:0.4089698046181172\n",
      "FP:0.09005505906187201\n",
      "BER:0.33618399211597005\n"
     ]
    }
   ],
   "source": [
    "Precall,f1_score,BER,FP = cal_score (y_pred,y_val['label']) "
   ]
  },
  {
   "cell_type": "code",
   "execution_count": 14,
   "metadata": {},
   "outputs": [
    {
     "data": {
      "text/plain": [
       "array([ 0.16555925,  0.22683647,  0.22757475,  0.213732  ,  0.16629753], dtype=float32)"
      ]
     },
     "execution_count": 14,
     "metadata": {},
     "output_type": "execute_result"
    }
   ],
   "source": [
    "xgb_clf.feature_importances_"
   ]
  },
  {
   "cell_type": "code",
   "execution_count": null,
   "metadata": {
    "collapsed": true
   },
   "outputs": [],
   "source": []
  }
 ],
 "metadata": {
  "kernelspec": {
   "display_name": "Python 3",
   "language": "python",
   "name": "python3"
  },
  "language_info": {
   "codemirror_mode": {
    "name": "ipython",
    "version": 3
   },
   "file_extension": ".py",
   "mimetype": "text/x-python",
   "name": "python",
   "nbconvert_exporter": "python",
   "pygments_lexer": "ipython3",
   "version": "3.6.2"
  }
 },
 "nbformat": 4,
 "nbformat_minor": 2
}
