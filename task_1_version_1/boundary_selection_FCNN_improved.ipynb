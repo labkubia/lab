{
 "cells": [
  {
   "cell_type": "code",
   "execution_count": 120,
   "metadata": {
    "collapsed": true
   },
   "outputs": [],
   "source": [
    "import pandas as pd\n",
    "import numpy as np\n",
    "import time\n",
    "from scipy.spatial import distance\n",
    "from scipy.spatial import distance_matrix\n",
    "from copy import deepcopy"
   ]
  },
  {
   "cell_type": "code",
   "execution_count": 146,
   "metadata": {
    "collapsed": true
   },
   "outputs": [],
   "source": [
    "X_train=pd.read_csv(\"D:\\\\lab; signal processing\\\\forStudents\\\\medData\\\\train_resampling3000_X.csv\")\n",
    "y_train=pd.read_csv(\"D:\\\\lab; signal processing\\\\forStudents\\\\medData\\\\train_resampling3000_y.csv\")\n",
    "X_train=X_train.drop(['robust_dis'],axis=1)\n",
    "y_train=y_train.drop(['robust_dis'],axis=1)\n",
    "y_train=y_train.drop(['Unnamed: 0'],axis=1)"
   ]
  },
  {
   "cell_type": "code",
   "execution_count": 153,
   "metadata": {
    "collapsed": true
   },
   "outputs": [],
   "source": [
    "train = {'feature0':X_train['feature0'],'feature1':X_train['feature1'],'feature2':X_train['feature2'],'feature3':X_train['feature3'],'feature4':X_train['feature4'],'label':y_train['label'],'indexofpixel':y_train['indexofpixel'],'sourceofpixel':y_train['sourceofpixel']}\n",
    "train = pd.DataFrame(data=train)\n",
    "class1_indices=np.random.choice(train[train['label']==1].index,1,replace=False)\n",
    "class2_indices=np.random.choice(train[train['label']==2].index,1,replace=False)\n",
    "class1_sample = train.iloc[class1_indices]\n",
    "class2_sample = train.iloc[class2_indices]\n",
    "train=train.drop(class1_indices)\n",
    "train=train.drop(class2_indices)\n",
    "train = pd.DataFrame.reset_index(train).drop('index',axis=1)\n",
    "class1_sample = pd.DataFrame.reset_index(class1_sample).drop('index',axis=1)\n",
    "class2_sample = pd.DataFrame.reset_index(class2_sample).drop('index',axis=1)"
   ]
  },
  {
   "cell_type": "code",
   "execution_count": 154,
   "metadata": {
    "collapsed": true
   },
   "outputs": [],
   "source": [
    "Store=list()\n",
    "newStore=list()\n",
    "class1_sample= {'feature0':class1_sample.iloc[0]['feature0'],'feature1':class1_sample.iloc[0]['feature1'],'feature2':class1_sample.iloc[0]['feature2'],'feature3':class1_sample.iloc[0]['feature3'],'feature4':class1_sample.iloc[0]['feature4'],'label':class1_sample.iloc[0]['label'],'indexofpixel':class1_sample.iloc[0]['indexofpixel'],'sourceofpixel':class1_sample.iloc[0]['sourceofpixel']}\n",
    "class2_sample= {'feature0':class2_sample.iloc[0]['feature0'],'feature1':class2_sample.iloc[0]['feature1'],'feature2':class2_sample.iloc[0]['feature2'],'feature3':class2_sample.iloc[0]['feature3'],'feature4':class2_sample.iloc[0]['feature4'],'label':class2_sample.iloc[0]['label'],'indexofpixel':class2_sample.iloc[0]['indexofpixel'],'sourceofpixel':class2_sample.iloc[0]['sourceofpixel']}\n",
    "newStore.append(class1_sample)\n",
    "newStore.append(class2_sample)"
   ]
  },
  {
   "cell_type": "code",
   "execution_count": 124,
   "metadata": {},
   "outputs": [
    {
     "data": {
      "text/plain": [
       "array([ 2.,  2.,  2., ...,  2.,  2.,  2.])"
      ]
     },
     "execution_count": 124,
     "metadata": {},
     "output_type": "execute_result"
    }
   ],
   "source": [
    "a=np.ones(1568)\n",
    "a=a+1\n",
    "a"
   ]
  },
  {
   "cell_type": "code",
   "execution_count": null,
   "metadata": {
    "scrolled": false
   },
   "outputs": [
    {
     "name": "stdout",
     "output_type": "stream",
     "text": [
      "executing distance calculation time:  0.0 minute\n",
      "executing adding new ones time:  0.0 minute\n",
      "current count:1 current size of store:2 time:  0.0 minute\n",
      "executing distance calculation time:  0.0 minute\n",
      "executing adding new ones time:  0.0 minute\n",
      "current count:2 current size of store:4 time:  0.0 minute\n",
      "executing distance calculation time:  0.0 minute\n",
      "executing adding new ones time:  0.0 minute\n",
      "current count:3 current size of store:8 time:  0.0 minute\n",
      "executing distance calculation time:  0.0 minute\n",
      "executing adding new ones time:  0.0 minute\n",
      "current count:4 current size of store:16 time:  0.1 minute\n",
      "executing distance calculation time:  0.0 minute\n",
      "executing adding new ones time:  0.0 minute\n",
      "current count:5 current size of store:32 time:  0.1 minute\n",
      "executing distance calculation time:  0.0 minute\n",
      "executing adding new ones time:  0.1 minute\n",
      "current count:6 current size of store:63 time:  0.2 minute\n",
      "executing distance calculation time:  0.0 minute\n",
      "executing adding new ones time:  0.1 minute\n",
      "current count:7 current size of store:117 time:  0.3 minute\n",
      "executing distance calculation time:  0.0 minute\n",
      "executing adding new ones time:  0.2 minute\n",
      "current count:8 current size of store:202 time:  0.5 minute\n",
      "executing distance calculation time:  0.0 minute\n",
      "executing adding new ones time:  0.3 minute\n",
      "current count:9 current size of store:335 time:  0.8 minute\n",
      "executing distance calculation time:  0.0 minute\n",
      "executing adding new ones time:  0.4 minute\n",
      "current count:10 current size of store:542 time:  1.2 minute\n",
      "executing distance calculation time:  0.0 minute\n",
      "executing adding new ones time:  0.6 minute\n",
      "current count:11 current size of store:840 time:  1.8 minute\n",
      "executing distance calculation time:  0.1 minute\n",
      "executing adding new ones time:  0.7 minute\n",
      "current count:12 current size of store:1256 time:  2.6 minute\n",
      "executing distance calculation time:  0.1 minute\n",
      "executing adding new ones time:  1.0 minute\n",
      "current count:13 current size of store:1836 time:  3.6 minute\n",
      "executing distance calculation time:  0.1 minute\n",
      "executing adding new ones time:  1.3 minute\n",
      "current count:14 current size of store:2601 time:  5.0 minute\n",
      "executing distance calculation time:  0.1 minute\n",
      "executing adding new ones time:  1.6 minute\n",
      "current count:15 current size of store:3592 time:  6.7 minute\n",
      "executing distance calculation time:  0.3 minute\n",
      "executing adding new ones time:  1.9 minute\n",
      "current count:16 current size of store:4871 time:  9.0 minute\n",
      "executing distance calculation time:  1.0 minute\n",
      "executing adding new ones time:  2.4 minute\n",
      "current count:17 current size of store:6464 time: 12.4 minute\n",
      "executing distance calculation time:  1.5 minute\n"
     ]
    }
   ],
   "source": [
    "start=time.time()\n",
    "count=0\n",
    "while newStore:\n",
    "    count = count+1\n",
    "    oldlength = len(Store)\n",
    "    for element in newStore:\n",
    "        Store.append(element)\n",
    "    \n",
    "    temp=pd.DataFrame(data=newStore)\n",
    "    temp=np.array(temp)\n",
    "    temp=temp[:,0:5]\n",
    "    np.cast[float](temp)\n",
    "\n",
    "    train_temp=np.array(train)\n",
    "    train_temp=train_temp[:,0:5]\n",
    "    \n",
    "    start1=time.time()\n",
    "    #dis=distance_matrix(temp.reshape(len(newStore),5),train_temp)\n",
    "    dis=distance.cdist(temp.reshape(len(newStore),5),train_temp,'euclidean')\n",
    "    nearest_q_matrix=dis.min(0)\n",
    "    nearest_q_indexmat=dis.argmin(axis=0)\n",
    "    print(\"executing distance calculation time:%5.1f minute\"%((time.time()-start1)/60))\n",
    "    \n",
    "    #update the nearest distance of q in (T-S) dataset, and the corresponding p in S.\n",
    "    if count==1:\n",
    "        nearest_q={'p_index':nearest_q_indexmat,'nearest_dis':nearest_q_matrix}\n",
    "        nearest_q=pd.DataFrame(data=nearest_q)\n",
    "        nearest_q=pd.concat([nearest_q,train['label']],axis=1,join='outer')\n",
    "    else:\n",
    "        nearest_q_indexmat=nearest_q_indexmat+oldlength\n",
    "        nearest_q_new={'p_index_new':nearest_q_indexmat,'nearest_dis_new':nearest_q_matrix}\n",
    "        nearest_q_new=pd.DataFrame(data=nearest_q_new)\n",
    "        nearest_q=pd.concat([nearest_q,nearest_q_new],axis=1,join='outer')\n",
    "        nearest_q['p_index'] = np.where((nearest_q['nearest_dis_new']<nearest_q['nearest_dis']),nearest_q['p_index_new'],nearest_q['p_index'])\n",
    "        nearest_q['nearest_dis'] = np.where((nearest_q['nearest_dis_new']<nearest_q['nearest_dis']),nearest_q['nearest_dis_new'],nearest_q['nearest_dis'])\n",
    "        nearest_q=nearest_q.drop('p_index_new',axis=1)\n",
    "        nearest_q=nearest_q.drop('nearest_dis_new',axis=1)\n",
    "        #print (nearest_q)\n",
    "    \n",
    "    Store_dataframe=pd.DataFrame(data=Store)\n",
    "    \n",
    "    #attach p's label to the dataframe of nearest_q\n",
    "    p_label=pd.DataFrame(Store_dataframe.iloc[nearest_q['p_index']]['label'])\n",
    "    p_label.columns=['p_label']\n",
    "    p_label=pd.DataFrame.reset_index(p_label).drop('index',axis=1)\n",
    "    nearest_q=pd.concat([nearest_q,p_label],axis=1,join='outer')\n",
    "    \n",
    "    #choose those data  q whose label is not equal to the lapel of nearest_q\n",
    "    # and then creat the dataframe called different_predict_points\n",
    "    temp_setting=np.ones(len(train))\n",
    "    temp_setting=pd.DataFrame(data=temp_setting)\n",
    "    temp_setting.columns=['setting']\n",
    "    nearest_q=pd.concat([nearest_q,temp_setting],axis=1,join='outer')\n",
    "    nearest_q['choose'] = np.where((nearest_q['label']!=nearest_q['p_label']),nearest_q['setting'],np.nan)\n",
    "    \n",
    "    different_predic_points=pd.DataFrame(nearest_q[nearest_q['choose']==1])\n",
    "    \n",
    "    nearest_q=nearest_q.drop('setting',axis=1)\n",
    "    nearest_q=nearest_q.drop('choose',axis=1)\n",
    "    \n",
    "    \n",
    "    newStore=list()\n",
    " \n",
    "    start2=time.time()\n",
    "    for i in range(len(Store)):\n",
    "        temp=different_predic_points[different_predic_points['p_index']==i]\n",
    "        temp=pd.DataFrame.reset_index(temp)\n",
    "        if len(temp)>0 :\n",
    "            location=temp['nearest_dis'].idxmin(axis=1)\n",
    "            add_positon=int(temp.loc[location]['index'])\n",
    "            temp_newone= {'feature0':train.loc[add_positon]['feature0'],'feature1':train.loc[add_positon]['feature1'],'feature2':train.loc[add_positon]['feature2'],'feature3':train.loc[add_positon]['feature3'],'feature4':train.loc[add_positon]['feature4'],'label':train.loc[add_positon]['label'],'indexofpixel':train.loc[add_positon]['indexofpixel'],'sourceofpixel':train.loc[add_positon]['sourceofpixel']}\n",
    "            newStore.append(temp_newone)\n",
    "            train=train.drop(add_positon)\n",
    "            nearest_q=nearest_q.drop(add_positon)\n",
    "            #print (\"train size:%d\"%(len(train)))\n",
    "            #print (\"nearest size:%d\"%(len(nearest_q))) \n",
    "            #print (nearest_q)\n",
    "    print(\"executing adding new ones time:%5.1f minute\"%((time.time()-start2)/60))\n",
    "    \n",
    "    nearest_q=nearest_q.drop('p_label',axis=1)\n",
    "    train=pd.DataFrame.reset_index(train).drop('index',axis=1)\n",
    "    nearest_q=pd.DataFrame.reset_index(nearest_q).drop('index',axis=1)\n",
    "    print(\"current count:%d current size of store:%d time:%5.1f minute\"%(count,len(Store),(time.time()-start)/60))"
   ]
  },
  {
   "cell_type": "code",
   "execution_count": null,
   "metadata": {
    "collapsed": true
   },
   "outputs": [],
   "source": [
    "start=time.time()\n",
    "count=0\n",
    "while newStore:\n",
    "    count = count+1\n",
    "    for element in newStore:\n",
    "        Store.append(element)    \n",
    "    \n",
    "    temp=pd.DataFrame(data=Store)\n",
    "    temp=np.array(temp)\n",
    "    temp=temp[:,0:5]\n",
    "    np.cast[float](temp)\n",
    "\n",
    "    train_temp=np.array(train)\n",
    "    train_temp=train_temp[:,0:5]\n",
    "\n",
    "    rep = np.zeros([len(Store),2])\n",
    "    rep[:,1]=100\n",
    "\n",
    "    for i in range(len(train_temp)):\n",
    "        #if i%10000==0:\n",
    "            #print(\"current executing:%d time:%5.1f minute\"%(i,(time.time()-start)/60))\n",
    "        distance_matrix=distance.cdist(temp.reshape(len(Store),5),train_temp[i].reshape(1,5),metric='euclidean')\n",
    "        nearest=np.amin(distance_matrix)\n",
    "        indice=np.where(distance_matrix==nearest)\n",
    "        #print(distance_matrix)\n",
    "        #print(indice)\n",
    "        #print(indice[0][0])\n",
    "        if int(Store[indice[0][0]]['label'])!=int(train.iloc[i]['label']):\n",
    "            if nearest<rep[indice[0][0],1]:\n",
    "                rep[indice[0][0],0]=i\n",
    "                rep[indice[0][0],1]=nearest\n",
    "            else:\n",
    "                pass\n",
    "        else:\n",
    "            pass   \n",
    "    #print(\"current executing:%d time:%5.1f minute\"%(i,(time.time()-start)/60))\n",
    "\n",
    "    newStore=list()\n",
    "    #print(\"store\")\n",
    "    #print (Store)\n",
    "\n",
    "    for i in range(len(rep)):\n",
    "        if rep[i][1] != 100:\n",
    "            loc = int(rep[i][0])\n",
    "            #print (loc)\n",
    "            temp_newone= {'feature0':train.loc[loc]['feature0'],'feature1':train.loc[loc]['feature1'],'feature2':train.loc[loc]['feature2'],'feature3':train.loc[loc]['feature3'],'feature4':train.loc[loc]['feature4'],'label':train.loc[loc]['label'],'indexofpixel':train.loc[loc]['indexofpixel'],'sourceofpixel':train.loc[loc]['sourceofpixel']}\n",
    "            newStore.append(temp_newone)\n",
    "            train=train.drop(loc)\n",
    "    train=pd.DataFrame.reset_index(train).drop('index',axis=1)  \n",
    "\n",
    "    print(\"current count:%d current size of store:%d time:%5.1f minute\"%(count,len(Store),(time.time()-start)/60))\n",
    "    "
   ]
  }
 ],
 "metadata": {
  "kernelspec": {
   "display_name": "Python 3",
   "language": "python",
   "name": "python3"
  },
  "language_info": {
   "codemirror_mode": {
    "name": "ipython",
    "version": 3
   },
   "file_extension": ".py",
   "mimetype": "text/x-python",
   "name": "python",
   "nbconvert_exporter": "python",
   "pygments_lexer": "ipython3",
   "version": "3.6.2"
  }
 },
 "nbformat": 4,
 "nbformat_minor": 2
}
