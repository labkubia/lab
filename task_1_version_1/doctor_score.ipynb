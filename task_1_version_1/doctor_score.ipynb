{
 "cells": [
  {
   "cell_type": "code",
   "execution_count": 22,
   "metadata": {},
   "outputs": [],
   "source": [
    "import numpy as np\n",
    "import pandas as pd\n",
    "from scipy.io import loadmat\n",
    "import time\n",
    "import random\n",
    "import re\n"
   ]
  },
  {
   "cell_type": "code",
   "execution_count": 2,
   "metadata": {
    "collapsed": true
   },
   "outputs": [],
   "source": [
    "X_train=pd.read_csv(\"D:\\\\lab; signal processing\\\\forStudents\\\\medData\\\\train_x_resample3000_boundarysel_50pergroup.csv\")\n",
    "y_train=pd.read_csv(\"D:\\\\lab; signal processing\\\\forStudents\\\\medData\\\\train_y_resample3000_boundarysel_50pergroup.csv\")\n",
    "X_val=pd.read_csv(\"D:\\\\lab; signal processing\\\\forStudents\\\\medData\\\\scaled_validation_feature.csv\")\n",
    "y_val=pd.read_csv(\"D:\\\\lab; signal processing\\\\forStudents\\\\medData\\\\validation_label.csv\")"
   ]
  },
  {
   "cell_type": "code",
   "execution_count": 3,
   "metadata": {
    "collapsed": true
   },
   "outputs": [],
   "source": [
    "X_train = X_train.drop([\"predict_cluster\"],axis=1)\n",
    "y_train = y_train.drop([\"predict_cluster\"],axis=1)\n",
    "X_val = X_val.drop([\"Unnamed: 0\"],axis=1)\n",
    "y_val = y_val.drop([\"Unnamed: 0\"],axis=1)"
   ]
  },
  {
   "cell_type": "code",
   "execution_count": 5,
   "metadata": {
    "collapsed": true
   },
   "outputs": [],
   "source": [
    "dataset = loadmat (\"D:\\\\lab; signal processing\\\\forStudents\\\\medData\\\\dataset.mat\",mat_dtype=True)"
   ]
  },
  {
   "cell_type": "code",
   "execution_count": 34,
   "metadata": {},
   "outputs": [],
   "source": [
    "data=dataset[\"dataset\"]"
   ]
  },
  {
   "cell_type": "code",
   "execution_count": 35,
   "metadata": {
    "collapsed": true
   },
   "outputs": [],
   "source": [
    "def cal_score (y_pred,y_val):\n",
    "    n11 = 0\n",
    "    n12 = 0\n",
    "    n21 = 0\n",
    "    n22 = 0\n",
    "    y_pred_array= np.array(y_pred)\n",
    "    y_val_array= np.array(y_val)\n",
    "    for j in range(len(y_pred_array)):\n",
    "        if (y_pred_array[j]==2)&(y_val_array[j]==2):\n",
    "            n22 = n22+1\n",
    "        elif (y_pred_array[j]==1)&(y_val_array[j]==2):\n",
    "            n12 = n12 +1\n",
    "        elif (y_pred_array[j]==2)&(y_val_array[j]==1):\n",
    "            n21 = n21+1\n",
    "        else:\n",
    "            n11 = n11+1   \n",
    "    '''\n",
    "    ita = np.nditer (y_pred_array)\n",
    "    itb = np.nditer (y_val_array)\n",
    "    while not ita.finished:\n",
    "        if (ita[0]==2)&(itb[0]==2):\n",
    "            n22 = n22+1\n",
    "        elif (ita[0]==1)&(itb[0]==2):\n",
    "            n12 = n12+1\n",
    "        elif (ita[0]==2)&(itb[0]==1):\n",
    "            n21 = n21+1\n",
    "        else:\n",
    "            n11 = n11+1\n",
    "        ita.iternext()\n",
    "        itb.iternext()\n",
    "    '''\n",
    "    try:       \n",
    "        Precall = n22 / ( n12 + n22)\n",
    "        Pprecision = n22 / ( n21 + n22)\n",
    "        f1_score = 2 / (1/Precall + 1/Pprecision)\n",
    "        FP = n21/(n21 + n11)\n",
    "        FN = n12/(n12 +n22 )\n",
    "        BER = 1/2*(FP+FN)   \n",
    "    except Exception as ex:\n",
    "        print (ex.message)\n",
    "    print (\"n11:..\"+str(n11)+\"..n12:..\"+str(n12)+\"..n21:..\"+str(n21)+\"..n22:..\"+str(n22))\n",
    "    print (\"TP:\"+str(Precall))\n",
    "    print (\"f1 score:\" + str(f1_score))\n",
    "    print (\"FP:\"+ str(FP))\n",
    "    print (\"BER:\" + str(BER))\n",
    "    return Precall,f1_score,BER,FP"
   ]
  },
  {
   "cell_type": "code",
   "execution_count": 29,
   "metadata": {},
   "outputs": [],
   "source": [
    "def predicate_of_doctor (data,y_val):\n",
    "    doctorA = []\n",
    "    doctorB = []\n",
    "    for i in range(len(y_val)):\n",
    "        temparr = re.findall(\"\\d+\",y_val.iloc[i]['indexofpixel'])\n",
    "        a=int(temparr[0])\n",
    "        b=int(temparr[1])\n",
    "        c=int(temparr[2])\n",
    "        d=int(y_val.iloc[i]['sourceofpixel'])\n",
    "        doctorA.append(data[d][0][0][0][1][a][b][c])\n",
    "        doctorB.append(data[d][0][0][0][2][a][b][c])\n",
    "    return doctorA,doctorB"
   ]
  },
  {
   "cell_type": "code",
   "execution_count": 30,
   "metadata": {},
   "outputs": [],
   "source": [
    "doctorA,doctorB=predicate_of_doctor(data,y_val)"
   ]
  },
  {
   "cell_type": "code",
   "execution_count": 36,
   "metadata": {
    "collapsed": true
   },
   "outputs": [],
   "source": [
    "doctorA = {\"label_pred\":doctorA}\n",
    "doctorA = pd.DataFrame(data=doctorA)\n",
    "doctorB = {\"label_pred\":doctorB}\n",
    "doctorB = pd.DataFrame(data=doctorB)"
   ]
  },
  {
   "cell_type": "code",
   "execution_count": 39,
   "metadata": {},
   "outputs": [
    {
     "name": "stdout",
     "output_type": "stream",
     "text": [
      "n11:..53283..n12:..2647..n21:..7924..n22:..6173\n",
      "TP:0.6998866213151927\n",
      "f1 score:0.538726709429681\n",
      "FP:0.12946231640171876\n",
      "BER:0.21478784754326302\n"
     ]
    },
    {
     "data": {
      "text/plain": [
       "(0.6998866213151927,\n",
       " 0.538726709429681,\n",
       " 0.21478784754326302,\n",
       " 0.12946231640171876)"
      ]
     },
     "execution_count": 39,
     "metadata": {},
     "output_type": "execute_result"
    }
   ],
   "source": [
    "cal_score(doctorA,y_val['label'])"
   ]
  },
  {
   "cell_type": "code",
   "execution_count": 40,
   "metadata": {},
   "outputs": [
    {
     "name": "stdout",
     "output_type": "stream",
     "text": [
      "n11:..51963..n12:..2334..n21:..9244..n22:..6486\n",
      "TP:0.7353741496598639\n",
      "f1 score:0.5283910386965376\n",
      "FP:0.15102847713496823\n",
      "BER:0.20782716373755217\n"
     ]
    },
    {
     "data": {
      "text/plain": [
       "(0.7353741496598639,\n",
       " 0.5283910386965376,\n",
       " 0.20782716373755217,\n",
       " 0.15102847713496823)"
      ]
     },
     "execution_count": 40,
     "metadata": {},
     "output_type": "execute_result"
    }
   ],
   "source": [
    "cal_score(doctorB,y_val['label'])"
   ]
  },
  {
   "cell_type": "code",
   "execution_count": null,
   "metadata": {
    "collapsed": true
   },
   "outputs": [],
   "source": []
  }
 ],
 "metadata": {
  "kernelspec": {
   "display_name": "Python 3",
   "language": "python",
   "name": "python3"
  },
  "language_info": {
   "codemirror_mode": {
    "name": "ipython",
    "version": 3
   },
   "file_extension": ".py",
   "mimetype": "text/x-python",
   "name": "python",
   "nbconvert_exporter": "python",
   "pygments_lexer": "ipython3",
   "version": "3.6.2"
  }
 },
 "nbformat": 4,
 "nbformat_minor": 2
}
